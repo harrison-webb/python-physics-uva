{
 "cells": [
  {
   "cell_type": "markdown",
   "metadata": {},
   "source": [
    "# Physics vectors and electrostatic forces\n",
    "Our first Python warm up introduces some typical calculations involving vectors. Let's just dive in!\n",
    "\n",
    "The cell below imports a Python module for access to the CERN [ROOT](https://root.cern/) data analysis framework.  This provides many useful tools for analysing and visualizing data in particle physics and other applications.  The \"python-verse\" is huge and growing rapidly, therefore there are may be numerous packages available to provide similar tools.  \n",
    "\n",
    "There may be equally good solutions to some problems and differnt programmers will use differnt tools based on preference, convenience, or philosophical grounds.  So you are free to use any modules you like in this class, as long as they are installed in our default working environment on Rivanna. \n",
    "\n",
    "Note: that modules may be under rapid develoment in the python-verse and this can lead to compatibility issues between versions of Python or with other modules, therefore it is not expected that arbitrary modules may be cleanly installed in our working environment (or any others) without some expert intervention.\n",
    "\n",
    "**Advanced** <br>\n",
    "If you want to see the full package list in our envoronment, type the following command in a code cell:<br>\n",
    "```!conda list```\n",
    "\n",
    "**This example begins by importing the ROOT module.**  Notice that the ROOT module was imported as R, therefore any functions, classes, or parameters in that module must be accessed as R.*something*. "
   ]
  },
  {
   "cell_type": "code",
   "execution_count": 1,
   "metadata": {},
   "outputs": [
    {
     "name": "stdout",
     "output_type": "stream",
     "text": [
      "Welcome to JupyROOT 6.22/00\n"
     ]
    }
   ],
   "source": [
    "import ROOT as R"
   ]
  },
  {
   "cell_type": "markdown",
   "metadata": {},
   "source": [
    "Let's begin by making some vectors.   We will use the [TVector3](https://root.cern.ch/doc/master/classTVector3.html) class to represent vectors below. \n",
    "\n",
    "![Math buff, CC BY-SA 4.0 <https://creativecommons.org/licenses/by-sa/4.0>, via Wikimedia Commons](https://upload.wikimedia.org/wikipedia/commons/0/07/Spherical_r_theta_phi_coordinates.svg)\n",
    "\n",
    "For a quick review of Python classes, see https://www.w3schools.com/python/python_classes.asp\n",
    "\n",
    "Take note:\n",
    "* ROOT documentation is provided for the underlying C++ interface\n",
    "* The Python interfaces are very similar to \"static\" variable declarations in C++.  Don't worry if that terminology is unfamiliar.\n",
    "* Bottom line: ROOT classes work just like any other class in Python.\n"
   ]
  },
  {
   "cell_type": "code",
   "execution_count": 2,
   "metadata": {},
   "outputs": [
    {
     "name": "stdout",
     "output_type": "stream",
     "text": [
      "|v1| = 3.7416573867739413\n",
      "phi =  1.1071487177940904\n",
      "theta =  0.6405223126794246\n",
      "TVector3 A 3D physics vector (x,y,z)=(1.000000,2.000000,3.000000) (rho,theta,phi)=(3.741657,36.699225,63.434949)\n"
     ]
    }
   ],
   "source": [
    "# make a vector with (x,y,z) components = (1,2,3)\n",
    "v1 = R.TVector3(1,2,3)\n",
    "print(\"|v1| =\", v1.Mag())  # print the magnitude of the vector\n",
    "print(\"phi = \", v1.Phi())  # print the angle of the vector in the x-axis in the x-y plane\n",
    "print(\"theta = \", v1.Theta())  # print the angle of the vector from the z-axis\n",
    "v1.Print()"
   ]
  },
  {
   "cell_type": "code",
   "execution_count": 3,
   "metadata": {},
   "outputs": [
    {
     "name": "stdout",
     "output_type": "stream",
     "text": [
      "1.0 2.0 3.0\n"
     ]
    }
   ],
   "source": [
    "# Retrieve components\n",
    "x=v1.X()\n",
    "y=v1.Y()\n",
    "z=v1.Z()\n",
    "print(x,y,z)   # print components using the Python print function"
   ]
  },
  {
   "cell_type": "code",
   "execution_count": 4,
   "metadata": {},
   "outputs": [
    {
     "name": "stdout",
     "output_type": "stream",
     "text": [
      "TVector3 A 3D physics vector (x,y,z)=(2.000000,4.000000,6.000000) (rho,theta,phi)=(7.483315,36.699225,63.434949)\n"
     ]
    }
   ],
   "source": [
    "# scale the vector\n",
    "v1=v1*2\n",
    "v1.Print()"
   ]
  },
  {
   "cell_type": "markdown",
   "metadata": {},
   "source": [
    "Don't confuse the *method* TVector3.Print() above with Python's print function.  Here the printing is controlled by the vector **class**, not by Python."
   ]
  },
  {
   "cell_type": "code",
   "execution_count": 5,
   "metadata": {},
   "outputs": [
    {
     "name": "stdout",
     "output_type": "stream",
     "text": [
      "TVector3 A 3D physics vector (x,y,z)=(2.100000,4.200000,6.300000) (rho,theta,phi)=(7.857481,36.699225,63.434949)\n"
     ]
    }
   ],
   "source": [
    "#add vectors\n",
    "v2 = R.TVector3(0.1,0.2,0.3)\n",
    "v3 = v1+v2\n",
    "v3.Print()"
   ]
  },
  {
   "cell_type": "markdown",
   "metadata": {},
   "source": [
    "## Exercise 1\n",
    "Following the example in the class notes use the TVector3 to calculate the forces on the three charges: $F_1, F_2, F_3$\n",
    "<br>\n",
    "\n",
    "![](img/example1.png)\n",
    "\n",
    "\n"
   ]
  },
  {
   "cell_type": "code",
   "execution_count": 6,
   "metadata": {},
   "outputs": [],
   "source": [
    "# Calculation goes here\n",
    "# ...\n",
    "# ..."
   ]
  },
  {
   "cell_type": "markdown",
   "metadata": {},
   "source": [
    "## Exercise 2\n",
    "\n",
    "Force vector: F = 1.6 N oriented 110° counter-clockwise from x-axis in the x-y plane (as shown in the class notes).  Calculate the $\\hat x$ and $\\hat y$ components of the force vector and store the result in a TVector 3 object.  Print the vector."
   ]
  },
  {
   "cell_type": "code",
   "execution_count": 7,
   "metadata": {},
   "outputs": [],
   "source": [
    "# Calculation goes here\n",
    "from math import sin, cos  # we need to import the trig functions for use below\n",
    "# ...\n",
    "# ..."
   ]
  },
  {
   "cell_type": "markdown",
   "metadata": {},
   "source": [
    "## Exercise 3\n",
    "Let make things a little more interesting.  We define a list of charges in the x-y plane."
   ]
  },
  {
   "cell_type": "code",
   "execution_count": 8,
   "metadata": {},
   "outputs": [],
   "source": [
    "from ROOT import TVector3 as V3   # I'm going to be a little lazy about my typing!\n",
    "# here we make a list of location vectors and a list of charge values\n",
    "Positions = [V3(.1,.2,0),V3(.2,.4,0),V3(1,.2,0),V3(.7,-.2,0),V3(.4,0,0)]  # in meters\n",
    "Charges = [10,2,8,-4,12]   # in microcoulombs"
   ]
  },
  {
   "cell_type": "markdown",
   "metadata": {},
   "source": [
    "Next we'll plot the charges.  This will be demonstrated two ways:<br>\n",
    "1. Using the [TGraph class](https://root.cern.ch/doc/master/classTGraph.html) in ROOT\n",
    "<br> All graphs appear on a [TCanvas](https://root.cern.ch/doc/master/classTCanvas.html)\n",
    "<br> The order of operations is (i) create a canvas (ii) fill the graph to be drawn (iii) draw the graph (iv) draw the canvas\n",
    "<br> A list of marker types can be found [here](https://root.cern.ch/doc/master/classTAttMarker.html)\n",
    "2. Using a [bubble plot](https://python-graph-gallery.com/bubble-plot/) in [matplotlib](https://matplotlib.org/)"
   ]
  },
  {
   "cell_type": "code",
   "execution_count": 9,
   "metadata": {},
   "outputs": [
    {
     "data": {
      "image/png": "[encoded data removed]",
      "text/plain": [
       "<IPython.core.display.Image object>"
      ]
     },
     "metadata": {},
     "output_type": "display_data"
    }
   ],
   "source": [
    "# ROOT TGraph example\n",
    "tc=R.TCanvas()  # all plots appear on a canvas\n",
    "tg=R.TGraph()\n",
    "for i in range(len(Positions)): \n",
    "    tg.SetPoint(i,Positions[i].X(),Positions[i].Y())\n",
    "tg.SetMarkerStyle(R.kCircle)\n",
    "tg.SetTitle(\"Some charges - plotted with ROOT;x-axis [m];y-axis [m]\")\n",
    "tg.Draw('ap')  # 'a' means draw the axes, 'p' means use the (poly)marker above\n",
    "               # always use 'a' unless you want to place you graph on top of an existing plot\n",
    "tc.Draw()"
   ]
  },
  {
   "cell_type": "code",
   "execution_count": 10,
   "metadata": {},
   "outputs": [
    {
     "data": {
      "image/png": "[encoded data removed]",
      "text/plain": [
       "<IPython.core.display.Image object>"
      ]
     },
     "metadata": {},
     "output_type": "display_data"
    }
   ],
   "source": [
    "# ROOT TGraph example 2 coloring the points\n",
    "# Here we create two graphs, one for + and one for - charges\n",
    "# The graphs are combined in a TMultiGraph https://root.cern.ch/doc/master/classTMultiGraph.html\n",
    "# The TMultiGraph will automatically calculate the plotting range, such that all the graphs are visible\n",
    "tgplus=R.TGraph()\n",
    "tgminus=R.TGraph()\n",
    "for i in range(len(Positions)):\n",
    "    if Charges[i]>0:\n",
    "        tgplus.SetPoint(tgplus.GetN(),Positions[i].X(),Positions[i].Y())\n",
    "    else: \n",
    "        tgminus.SetPoint(tgminus.GetN(),Positions[i].X(),Positions[i].Y())\n",
    "tgplus.SetMarkerStyle(R.kFullCircle)\n",
    "tgplus.SetMarkerColor(R.kBlue)\n",
    "tgminus.SetMarkerStyle(R.kFullCircle)\n",
    "tgminus.SetMarkerColor(R.kRed)\n",
    "tm=R.TMultiGraph()\n",
    "tm.SetTitle(\"Some charges - plotted with ROOT;x-axis [m];y-axis [m]\")\n",
    "tm.Add(tgplus)\n",
    "tm.Add(tgminus)\n",
    "tm.Draw('ap')\n",
    "tc.Draw()"
   ]
  },
  {
   "cell_type": "markdown",
   "metadata": {},
   "source": [
    "For the matplotlib example we will put the data into [numpy](https://numpy.org/) arrays and make a [scatter plot](https://matplotlib.org/api/_as_gen/matplotlib.pyplot.scatter.html?highlight=scatter#matplotlib.pyplot.scatter).  This one will be a little more fancy with the sizes of the dots reflecting the charge, but it's also a lot more effort!"
   ]
  },
  {
   "cell_type": "code",
   "execution_count": 11,
   "metadata": {},
   "outputs": [
    {
     "data": {
      "image/png": "[encoded data removed]",
      "text/plain": [
       "<Figure size 432x288 with 1 Axes>"
      ]
     },
     "metadata": {
      "needs_background": "light"
     },
     "output_type": "display_data"
    }
   ],
   "source": [
    "#matplotlib example\n",
    "import matplotlib.pyplot as plt\n",
    "import numpy as np\n",
    "x = np.empty(len(Positions)) \n",
    "y = np.empty(len(Positions))\n",
    "s = np.empty(len(Positions))\n",
    "c = []\n",
    "for i in range(len(Positions)): \n",
    "    x[i]=Positions[i].X()\n",
    "    y[i]=Positions[i].Y()\n",
    "    if Charges[i]<0: c.append(\"red\")\n",
    "    else: c.append(\"blue\")\n",
    "    s[i]=abs(Charges[i])*10\n",
    "    \n",
    "# Add titles (main and on axis)\n",
    "plt.xlabel(\"x-axis [m]\")\n",
    "plt.ylabel(\"y-axis [m]\")\n",
    "plt.title(\"Some charges - plotted with matplotlib\")\n",
    "plt.scatter(x, y, s, c);     # the optional ; here is a trick to suppress an output message from the plotter"
   ]
  },
  {
   "cell_type": "markdown",
   "metadata": {},
   "source": [
    "If there is a moral to the above story, it should be \"Keep it Simple\".  The code for the first graph is far easier to understand with a quick glance.  Making the other graphs requires more hunting around the documentation.  There are many options to explore in any graphing package.  In general, when you are working on a problem, opt for the most basic / easiest plots you can make to provide useful information.  Then you can beautify a small set of final plots after the main work is finished.  \n",
    "\n",
    "**Back to our exercise**\n",
    "\n",
    "Now calculate the components of the force on the *negative* (<font color=\"red\">red</font>) charge in the collection above."
   ]
  },
  {
   "cell_type": "code",
   "execution_count": 12,
   "metadata": {},
   "outputs": [],
   "source": [
    "# let's define some symbols to make our prinout look nice below\n",
    "ihat='i\\u0302'\n",
    "jhat='j\\u0302'"
   ]
  },
  {
   "cell_type": "code",
   "execution_count": 13,
   "metadata": {},
   "outputs": [
    {
     "name": "stdout",
     "output_type": "stream",
     "text": [
      "F = 0 î + 0 ĵ\n"
     ]
    }
   ],
   "source": [
    "# Calculation goes here\n",
    "Fx=0\n",
    "Fy=0\n",
    "# ...\n",
    "# ...\n",
    "print(\"F =\",Fx,ihat,\"+\",Fy,jhat)  # use this print statement w/ the proper values added"
   ]
  },
  {
   "cell_type": "markdown",
   "metadata": {},
   "source": [
    "# Exercise 4\n",
    "Consider the following charge distribution.  Note the positions are being specified using numpy arrays."
   ]
  },
  {
   "cell_type": "code",
   "execution_count": 14,
   "metadata": {},
   "outputs": [],
   "source": [
    "# define (x,y) locations and charges of our distribution\n",
    "x=np.linspace(-5, 5, 401)  # x locations spread out from -5 to + 5\n",
    "y=x*0                      # y locations are all at 0\n",
    "q=y+1  # microcolumbs      # all charge values are set to 1 uC\n",
    "#print(x)"
   ]
  },
  {
   "cell_type": "markdown",
   "metadata": {},
   "source": [
    "Place a charge $q=3.0\\,\\mu$C at the location (0,0.1)m<br>\n",
    "Make a plot of the charges in the problem and calculate the force on $q$. <br>\n",
    "Bonus step: See if you can draw an arrow from $q$ pointing in the directions of the force."
   ]
  },
  {
   "cell_type": "code",
   "execution_count": 15,
   "metadata": {},
   "outputs": [
    {
     "name": "stdout",
     "output_type": "stream",
     "text": [
      "F = 0 î + 0 ĵ\n"
     ]
    }
   ],
   "source": [
    "# Calculation and plotting code goes here (be careful with your units)\n",
    "# ...\n",
    "# ...\n",
    "print(\"F =\",Fx,ihat,\"+\",Fy,jhat)  # use this print statement w/ the proper values added"
   ]
  },
  {
   "cell_type": "code",
   "execution_count": null,
   "metadata": {},
   "outputs": [],
   "source": []
  }
 ],
 "metadata": {
  "kernelspec": {
   "display_name": "Python 3",
   "language": "python",
   "name": "python3"
  },
  "language_info": {
   "codemirror_mode": {
    "name": "ipython",
    "version": 3
   },
   "file_extension": ".py",
   "mimetype": "text/x-python",
   "name": "python",
   "nbconvert_exporter": "python",
   "pygments_lexer": "ipython3",
   "version": "3.8.5"
  }
 },
 "nbformat": 4,
 "nbformat_minor": 4
}
