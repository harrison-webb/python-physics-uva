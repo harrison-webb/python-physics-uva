{
 "cells": [
  {
   "cell_type": "markdown",
   "metadata": {
    "slideshow": {
     "slide_type": "slide"
    }
   },
   "source": [
    "# Python in the Notebook a Brief Introduction"
   ]
  },
  {
   "cell_type": "markdown",
   "metadata": {},
   "source": [
    "Most of our work in PHYS2559 will be Jupyter notebooks.  The use of notebooks allow the creation of exaples witih both code and documentation and to sombine code and resulting plots in a single, easily browsable page.\n",
    "\n",
    "Notebooks can execute code in a large number of languages though an associated \"kernel\".  We will be using the Python 3 kernel, with some extensions provided by the [ROOT](https://root.cern.ch/) data analysis framework.\n",
    "\n",
    "For a more details the [Jupyer project homepage](https://jupyter.org/) or one of many resources on the web, for example: https://www.tutorialspoint.com/jupyter/index.htm"
   ]
  },
  {
   "cell_type": "markdown",
   "metadata": {
    "slideshow": {
     "slide_type": "slide"
    }
   },
   "source": [
    "# 1. Python Programming Language"
   ]
  },
  {
   "cell_type": "markdown",
   "metadata": {
    "slideshow": {
     "slide_type": "-"
    }
   },
   "source": [
    "[Python](https://www.python.org/) is an interpreted ([sort of](https://stackoverflow.com/questions/6889747/is-python-interpreted-or-compiled-or-both)) programming language.  It's been around for about 25 years and has exploded in [popularity](https://www.tiobe.com/tiobe-index/) in the past decade or so.  It is indeed [named](https://en.wikipedia.org/wiki/Python_%28programming_language%29#Naming) after the British comedy group [Monty Python](https://en.wikipedia.org/wiki/Monty_Python)."
   ]
  },
  {
   "cell_type": "markdown",
   "metadata": {
    "slideshow": {
     "slide_type": "subslide"
    }
   },
   "source": [
    "The goal of these notes is not to give a complete overview of the Python language, but to review some of the features that should be familiar for working in this class. \n",
    "\n",
    "Keep in mind the distinction between the Python the programming language and the large set of computing library modules than can be imported and used in a Python prpgram. AS with any programming language, the core features are relatively limited, but an enormous amount of functionality is provided via standardized modules distributed with Python itself as well as third part modules for scientific computing, data visulization and analysis, etc."
   ]
  },
  {
   "cell_type": "markdown",
   "metadata": {
    "slideshow": {
     "slide_type": "slide"
    }
   },
   "source": [
    "Refer to the **Resources** link of our class home page for various tutorials and documentation links.\n",
    "\n",
    "The following is loosely based on Douglas Blank's 2016 notes: [Introduction to Python](https://jupyter.brynmawr.edu/services/public/dblank/CS245%20Programming%20Languages/2016-Fall/Syllabus.ipynb).\n",
    "\n",
    "There are too many on-line resources to list, but you might find the notbooks associated with [The Python Data Science Handbook](https://github.com/jakevdp/PythonDataScienceHandbook) useful.  The earlier notebooks provide introductions to Python before moving to more advanced topics."
   ]
  },
  {
   "cell_type": "markdown",
   "metadata": {
    "slideshow": {
     "slide_type": "slide"
    }
   },
   "source": [
    "## 1.1 Statements"
   ]
  },
  {
   "cell_type": "markdown",
   "metadata": {},
   "source": [
    "Python is an [imperative language](https://en.wikipedia.org/wiki/Imperative_programming) based on [statements](https://en.wikipedia.org/wiki/Statement_(computer_science&#41;). That is, programs in Python consists of lines composed of statements. A statement can be:\n",
    "\n",
    "* a single expression\n",
    "* an assignment\n",
    "* a function call\n",
    "* a function definition\n",
    "* a statement; statement"
   ]
  },
  {
   "cell_type": "markdown",
   "metadata": {
    "slideshow": {
     "slide_type": "slide"
    }
   },
   "source": [
    "### 1.1.1 Expressions"
   ]
  },
  {
   "cell_type": "markdown",
   "metadata": {},
   "source": [
    "* Numbers\n",
    "  * integers\n",
    "  * floating-point\n",
    "  * complex numbers\n",
    "* strings\n",
    "* boolean values\n",
    "* lists and dicts"
   ]
  },
  {
   "cell_type": "markdown",
   "metadata": {
    "slideshow": {
     "slide_type": "slide"
    }
   },
   "source": [
    "#### 1.1.1.1 Numbers"
   ]
  },
  {
   "cell_type": "code",
   "execution_count": 1,
   "metadata": {},
   "outputs": [
    {
     "data": {
      "text/plain": [
       "1"
      ]
     },
     "execution_count": 1,
     "metadata": {},
     "output_type": "execute_result"
    }
   ],
   "source": [
    "1   # integer"
   ]
  },
  {
   "cell_type": "code",
   "execution_count": 2,
   "metadata": {},
   "outputs": [
    {
     "data": {
      "text/plain": [
       "-2"
      ]
     },
     "execution_count": 2,
     "metadata": {},
     "output_type": "execute_result"
    }
   ],
   "source": [
    "-2"
   ]
  },
  {
   "cell_type": "code",
   "execution_count": 3,
   "metadata": {},
   "outputs": [
    {
     "data": {
      "text/plain": [
       "3.14"
      ]
     },
     "execution_count": 3,
     "metadata": {},
     "output_type": "execute_result"
    }
   ],
   "source": [
    "3.14  # float"
   ]
  },
  {
   "cell_type": "code",
   "execution_count": 4,
   "metadata": {},
   "outputs": [
    {
     "data": {
      "text/plain": [
       "(1+3j)"
      ]
     },
     "execution_count": 4,
     "metadata": {},
     "output_type": "execute_result"
    }
   ],
   "source": [
    "1 + 1j*3   # complex"
   ]
  },
  {
   "cell_type": "code",
   "execution_count": 5,
   "metadata": {},
   "outputs": [
    {
     "data": {
      "text/plain": [
       "286797081492411793084216657371142368"
      ]
     },
     "execution_count": 5,
     "metadata": {},
     "output_type": "execute_result"
    }
   ],
   "source": [
    "12345678*12345678*12345678*12345678*12345678   # integers can get REALLY long"
   ]
  },
  {
   "cell_type": "markdown",
   "metadata": {
    "slideshow": {
     "slide_type": "slide"
    }
   },
   "source": [
    "#### 1.1.1.2 Strings"
   ]
  },
  {
   "cell_type": "code",
   "execution_count": 6,
   "metadata": {},
   "outputs": [
    {
     "data": {
      "text/plain": [
       "'apple'"
      ]
     },
     "execution_count": 6,
     "metadata": {},
     "output_type": "execute_result"
    }
   ],
   "source": [
    "'apple'"
   ]
  },
  {
   "cell_type": "code",
   "execution_count": 7,
   "metadata": {},
   "outputs": [
    {
     "data": {
      "text/plain": [
       "'apple'"
      ]
     },
     "execution_count": 7,
     "metadata": {},
     "output_type": "execute_result"
    }
   ],
   "source": [
    "\"apple\""
   ]
  },
  {
   "cell_type": "code",
   "execution_count": 8,
   "metadata": {},
   "outputs": [
    {
     "data": {
      "text/plain": [
       "'\"apple\"'"
      ]
     },
     "execution_count": 8,
     "metadata": {},
     "output_type": "execute_result"
    }
   ],
   "source": [
    "'\"apple\"'"
   ]
  },
  {
   "cell_type": "markdown",
   "metadata": {},
   "source": [
    "Notice that the *Out* might not match exactly the *In*. In the above example, we used double-quotes but the representation of the string used single-quotes. Python will default to showing representations of values using single-quotes, if it can.  But the outer quates are delimiters only."
   ]
  },
  {
   "cell_type": "markdown",
   "metadata": {
    "slideshow": {
     "slide_type": "slide"
    }
   },
   "source": [
    "#### 1.1.1.3 Boolean Values"
   ]
  },
  {
   "cell_type": "code",
   "execution_count": 9,
   "metadata": {},
   "outputs": [
    {
     "data": {
      "text/plain": [
       "True"
      ]
     },
     "execution_count": 9,
     "metadata": {},
     "output_type": "execute_result"
    }
   ],
   "source": [
    "True"
   ]
  },
  {
   "cell_type": "code",
   "execution_count": 10,
   "metadata": {},
   "outputs": [
    {
     "data": {
      "text/plain": [
       "False"
      ]
     },
     "execution_count": 10,
     "metadata": {},
     "output_type": "execute_result"
    }
   ],
   "source": [
    "False"
   ]
  },
  {
   "cell_type": "markdown",
   "metadata": {
    "slideshow": {
     "slide_type": "slide"
    }
   },
   "source": [
    "#### 1.1.1.4 Lists and Dicts"
   ]
  },
  {
   "cell_type": "markdown",
   "metadata": {},
   "source": [
    "Python has three very useful data structures built into the language:\n",
    "\n",
    "* lists: []\n",
    "* tuples: (item, ...)\n",
    "* dictionaries (hash tables): {}\n",
    "\n",
    "List is a [mutable](https://medium.com/@meghamohan/mutable-and-immutable-side-of-python-c2145cf72747) list of items. Tuple is a read-only data structure (immutable)."
   ]
  },
  {
   "cell_type": "markdown",
   "metadata": {
    "slideshow": {
     "slide_type": "slide"
    }
   },
   "source": [
    "**lists**"
   ]
  },
  {
   "cell_type": "code",
   "execution_count": 11,
   "metadata": {
    "slideshow": {
     "slide_type": "-"
    }
   },
   "outputs": [
    {
     "data": {
      "text/plain": [
       "[1, 2, 3]"
      ]
     },
     "execution_count": 11,
     "metadata": {},
     "output_type": "execute_result"
    }
   ],
   "source": [
    "al=[1, 2, 3]  # defining a list\n",
    "al"
   ]
  },
  {
   "cell_type": "code",
   "execution_count": 12,
   "metadata": {},
   "outputs": [
    {
     "data": {
      "text/plain": [
       "[1, 2, -3]"
      ]
     },
     "execution_count": 12,
     "metadata": {},
     "output_type": "execute_result"
    }
   ],
   "source": [
    "al[2]=-3   # accessing and writing a list element\n",
    "al"
   ]
  },
  {
   "cell_type": "code",
   "execution_count": 13,
   "metadata": {},
   "outputs": [
    {
     "data": {
      "text/plain": [
       "-3"
      ]
     },
     "execution_count": 13,
     "metadata": {},
     "output_type": "execute_result"
    }
   ],
   "source": [
    "var=al[2]\n",
    "var"
   ]
  },
  {
   "cell_type": "markdown",
   "metadata": {
    "slideshow": {
     "slide_type": "slide"
    }
   },
   "source": [
    "**tuples**"
   ]
  },
  {
   "cell_type": "code",
   "execution_count": 14,
   "metadata": {
    "slideshow": {
     "slide_type": "-"
    }
   },
   "outputs": [
    {
     "data": {
      "text/plain": [
       "(1, 2, 3)"
      ]
     },
     "execution_count": 14,
     "metadata": {},
     "output_type": "execute_result"
    }
   ],
   "source": [
    "b=(1, 2, 3) # defining a tuple\n",
    "b"
   ]
  },
  {
   "cell_type": "code",
   "execution_count": 15,
   "metadata": {},
   "outputs": [
    {
     "data": {
      "text/plain": [
       "(1, 2, 3)"
      ]
     },
     "execution_count": 15,
     "metadata": {},
     "output_type": "execute_result"
    }
   ],
   "source": [
    "1, 2, 3   # also defining a tuple"
   ]
  },
  {
   "cell_type": "code",
   "execution_count": 16,
   "metadata": {},
   "outputs": [
    {
     "name": "stdout",
     "output_type": "stream",
     "text": [
      "2\n"
     ]
    },
    {
     "ename": "TypeError",
     "evalue": "'tuple' object does not support item assignment",
     "output_type": "error",
     "traceback": [
      "\u001b[0;31m---------------------------------------------------------------------------\u001b[0m",
      "\u001b[0;31mTypeError\u001b[0m                                 Traceback (most recent call last)",
      "\u001b[0;32m<ipython-input-16-1c6ac9c8a44d>\u001b[0m in \u001b[0;36m<module>\u001b[0;34m\u001b[0m\n\u001b[1;32m      1\u001b[0m \u001b[0mprint\u001b[0m\u001b[0;34m(\u001b[0m\u001b[0mb\u001b[0m\u001b[0;34m[\u001b[0m\u001b[0;36m1\u001b[0m\u001b[0;34m]\u001b[0m\u001b[0;34m)\u001b[0m  \u001b[0;31m# tuples may be accesed by index\u001b[0m\u001b[0;34m\u001b[0m\u001b[0;34m\u001b[0m\u001b[0m\n\u001b[0;32m----> 2\u001b[0;31m \u001b[0mb\u001b[0m\u001b[0;34m[\u001b[0m\u001b[0;36m1\u001b[0m\u001b[0;34m]\u001b[0m \u001b[0;34m=\u001b[0m \u001b[0;36m0.1\u001b[0m   \u001b[0;31m# but they are immutable (cannot be changed)\u001b[0m\u001b[0;34m\u001b[0m\u001b[0;34m\u001b[0m\u001b[0m\n\u001b[0m",
      "\u001b[0;31mTypeError\u001b[0m: 'tuple' object does not support item assignment"
     ]
    }
   ],
   "source": [
    "print(b[1])  # tuples may be accesed by index\n",
    "b[1] = 0.1   # but they are immutable (cannot be changed)"
   ]
  },
  {
   "cell_type": "markdown",
   "metadata": {
    "slideshow": {
     "slide_type": "slide"
    }
   },
   "source": [
    "**dictionaries**"
   ]
  },
  {
   "cell_type": "code",
   "execution_count": 17,
   "metadata": {
    "slideshow": {
     "slide_type": "-"
    }
   },
   "outputs": [
    {
     "data": {
      "text/plain": [
       "{'apple': 'a fruit', 'banana': 'an herb', 'monkey': 'a mammal'}"
      ]
     },
     "execution_count": 17,
     "metadata": {},
     "output_type": "execute_result"
    }
   ],
   "source": [
    "d={\"apple\": \"a fruit\", \"banana\": \"an herb\", \"monkey\": \"a mammal\"}  # defining a dictionary\n",
    "d"
   ]
  },
  {
   "cell_type": "code",
   "execution_count": 18,
   "metadata": {},
   "outputs": [
    {
     "data": {
      "text/plain": [
       "'a fruit'"
      ]
     },
     "execution_count": 18,
     "metadata": {},
     "output_type": "execute_result"
    }
   ],
   "source": [
    "d[\"apple\"]"
   ]
  },
  {
   "cell_type": "markdown",
   "metadata": {
    "slideshow": {
     "slide_type": "slide"
    }
   },
   "source": [
    "**iterating**"
   ]
  },
  {
   "cell_type": "code",
   "execution_count": 19,
   "metadata": {
    "slideshow": {
     "slide_type": "-"
    }
   },
   "outputs": [
    {
     "name": "stdout",
     "output_type": "stream",
     "text": [
      "1\n",
      "2\n",
      "-3\n"
     ]
    }
   ],
   "source": [
    "for x in al:      # equivalent to:  for i in range(len(al)):\n",
    "    print(x)      #                     print al[i]"
   ]
  },
  {
   "cell_type": "code",
   "execution_count": 20,
   "metadata": {},
   "outputs": [
    {
     "name": "stdout",
     "output_type": "stream",
     "text": [
      "0\n",
      "1\n",
      "2\n"
     ]
    }
   ],
   "source": [
    "n=len(al)\n",
    "for i in range(n):  # range generates a list from 0 .. n-1\n",
    "    print(i)"
   ]
  },
  {
   "cell_type": "code",
   "execution_count": 21,
   "metadata": {
    "slideshow": {
     "slide_type": "-"
    }
   },
   "outputs": [
    {
     "name": "stdout",
     "output_type": "stream",
     "text": [
      "1\n",
      "2\n",
      "-3\n"
     ]
    }
   ],
   "source": [
    "for i in range(len(al)):  # equivalently\n",
    "    print(al[i])"
   ]
  },
  {
   "cell_type": "markdown",
   "metadata": {
    "slideshow": {
     "slide_type": "slide"
    }
   },
   "source": [
    "### 1.1.2 Function Calls"
   ]
  },
  {
   "cell_type": "markdown",
   "metadata": {
    "slideshow": {
     "slide_type": "-"
    }
   },
   "source": [
    "There are two ways to call functions in Python:\n",
    "\n",
    "1. by pre-defined infix [operator name](https://www.tutorialspoint.com/python/python_basic_operators.htm)\n",
    "2. by function name, followed by parentheses\n"
   ]
  },
  {
   "cell_type": "markdown",
   "metadata": {
    "slideshow": {
     "slide_type": "subslide"
    }
   },
   "source": [
    "Infix operator name examples:"
   ]
  },
  {
   "cell_type": "code",
   "execution_count": 22,
   "metadata": {},
   "outputs": [
    {
     "data": {
      "text/plain": [
       "3"
      ]
     },
     "execution_count": 22,
     "metadata": {},
     "output_type": "execute_result"
    }
   ],
   "source": [
    "1 + 2"
   ]
  },
  {
   "cell_type": "code",
   "execution_count": 23,
   "metadata": {},
   "outputs": [
    {
     "data": {
      "text/plain": [
       "-6"
      ]
     },
     "execution_count": 23,
     "metadata": {},
     "output_type": "execute_result"
    }
   ],
   "source": [
    "2*3 + (1-2)*12"
   ]
  },
  {
   "cell_type": "code",
   "execution_count": 24,
   "metadata": {},
   "outputs": [
    {
     "data": {
      "text/plain": [
       "2.3333333333333335"
      ]
     },
     "execution_count": 24,
     "metadata": {},
     "output_type": "execute_result"
    }
   ],
   "source": [
    "7/3    # note in Python 3 division defailts to flloating point division"
   ]
  },
  {
   "cell_type": "code",
   "execution_count": 25,
   "metadata": {},
   "outputs": [
    {
     "data": {
      "text/plain": [
       "2"
      ]
     },
     "execution_count": 25,
     "metadata": {},
     "output_type": "execute_result"
    }
   ],
   "source": [
    "7//3   # use // operator to force integer division"
   ]
  },
  {
   "cell_type": "code",
   "execution_count": 26,
   "metadata": {},
   "outputs": [
    {
     "data": {
      "text/plain": [
       "8"
      ]
     },
     "execution_count": 26,
     "metadata": {},
     "output_type": "execute_result"
    }
   ],
   "source": [
    "2**3   # power function"
   ]
  },
  {
   "cell_type": "code",
   "execution_count": 27,
   "metadata": {
    "slideshow": {
     "slide_type": "subslide"
    }
   },
   "outputs": [
    {
     "data": {
      "text/plain": [
       "1"
      ]
     },
     "execution_count": 27,
     "metadata": {},
     "output_type": "execute_result"
    }
   ],
   "source": [
    "abs(-1)"
   ]
  },
  {
   "cell_type": "code",
   "execution_count": 28,
   "metadata": {
    "slideshow": {
     "slide_type": "-"
    }
   },
   "outputs": [],
   "source": [
    "import operator"
   ]
  },
  {
   "cell_type": "code",
   "execution_count": 29,
   "metadata": {},
   "outputs": [
    {
     "data": {
      "text/plain": [
       "3"
      ]
     },
     "execution_count": 29,
     "metadata": {},
     "output_type": "execute_result"
    }
   ],
   "source": [
    "operator.add(1, 2)"
   ]
  },
  {
   "cell_type": "code",
   "execution_count": 30,
   "metadata": {},
   "outputs": [
    {
     "data": {
      "text/plain": [
       "1.7320508075688772"
      ]
     },
     "execution_count": 30,
     "metadata": {},
     "output_type": "execute_result"
    }
   ],
   "source": [
    "from math import sqrt\n",
    "sqrt(3)"
   ]
  },
  {
   "cell_type": "markdown",
   "metadata": {},
   "source": [
    "Note: May useful tools in Python and other languages are provided in *libraries* or *modules* and must be explicitly included before they can be used in your code"
   ]
  },
  {
   "cell_type": "markdown",
   "metadata": {
    "slideshow": {
     "slide_type": "slide"
    }
   },
   "source": [
    "#### 1.1.2.1 Print"
   ]
  },
  {
   "cell_type": "markdown",
   "metadata": {},
   "source": [
    "Evaluating and display result as an Out, versus evaluating and printing result (side-effect)."
   ]
  },
  {
   "cell_type": "code",
   "execution_count": 31,
   "metadata": {},
   "outputs": [
    {
     "name": "stdout",
     "output_type": "stream",
     "text": [
      "1\n"
     ]
    }
   ],
   "source": [
    "print(1)"
   ]
  },
  {
   "cell_type": "markdown",
   "metadata": {
    "slideshow": {
     "slide_type": "slide"
    }
   },
   "source": [
    "### 1.1.3 Special Values\n",
    "```None``` represents and undefined value.  As a statment, no operation is performed."
   ]
  },
  {
   "cell_type": "code",
   "execution_count": 32,
   "metadata": {},
   "outputs": [],
   "source": [
    "None"
   ]
  },
  {
   "cell_type": "code",
   "execution_count": 33,
   "metadata": {},
   "outputs": [],
   "source": [
    "a=None\n",
    "a         # nothing is printed!"
   ]
  },
  {
   "cell_type": "code",
   "execution_count": 34,
   "metadata": {},
   "outputs": [
    {
     "name": "stdout",
     "output_type": "stream",
     "text": [
      "None\n"
     ]
    }
   ],
   "source": [
    "print(a)"
   ]
  },
  {
   "cell_type": "markdown",
   "metadata": {
    "slideshow": {
     "slide_type": "slide"
    }
   },
   "source": [
    "### 1.1.4 Defining Functions"
   ]
  },
  {
   "cell_type": "code",
   "execution_count": 35,
   "metadata": {},
   "outputs": [],
   "source": [
    "def plus(a, b):\n",
    "    return a + b"
   ]
  },
  {
   "cell_type": "code",
   "execution_count": 36,
   "metadata": {},
   "outputs": [
    {
     "data": {
      "text/plain": [
       "7"
      ]
     },
     "execution_count": 36,
     "metadata": {},
     "output_type": "execute_result"
    }
   ],
   "source": [
    "plus(3, 4)"
   ]
  },
  {
   "cell_type": "markdown",
   "metadata": {
    "slideshow": {
     "slide_type": "slide"
    }
   },
   "source": [
    "A useless function"
   ]
  },
  {
   "cell_type": "code",
   "execution_count": 37,
   "metadata": {
    "slideshow": {
     "slide_type": "-"
    }
   },
   "outputs": [],
   "source": [
    "def plus(a, b):\n",
    "    a + b"
   ]
  },
  {
   "cell_type": "code",
   "execution_count": 38,
   "metadata": {},
   "outputs": [],
   "source": [
    "plus(3, 4)"
   ]
  },
  {
   "cell_type": "markdown",
   "metadata": {},
   "source": [
    "What happened? All functions return *something*, even if you don't specify it. If you don't specify a return value, then it will default to returning `None`."
   ]
  },
  {
   "cell_type": "code",
   "execution_count": 39,
   "metadata": {},
   "outputs": [
    {
     "name": "stdout",
     "output_type": "stream",
     "text": [
      "None\n"
     ]
    }
   ],
   "source": [
    "print(plus(3,4))"
   ]
  },
  {
   "cell_type": "markdown",
   "metadata": {
    "slideshow": {
     "slide_type": "slide"
    }
   },
   "source": [
    "The following returns an error, because the operation of adding a string to an integer is undefined."
   ]
  },
  {
   "cell_type": "code",
   "execution_count": 40,
   "metadata": {},
   "outputs": [
    {
     "ename": "TypeError",
     "evalue": "can only concatenate str (not \"int\") to str",
     "output_type": "error",
     "traceback": [
      "\u001b[0;31m---------------------------------------------------------------------------\u001b[0m",
      "\u001b[0;31mTypeError\u001b[0m                                 Traceback (most recent call last)",
      "\u001b[0;32m<ipython-input-40-6189a8567939>\u001b[0m in \u001b[0;36m<module>\u001b[0;34m\u001b[0m\n\u001b[0;32m----> 1\u001b[0;31m \u001b[0mplus\u001b[0m\u001b[0;34m(\u001b[0m\u001b[0;34m\"a\"\u001b[0m\u001b[0;34m,\u001b[0m \u001b[0;36m1\u001b[0m\u001b[0;34m)\u001b[0m\u001b[0;34m\u001b[0m\u001b[0;34m\u001b[0m\u001b[0m\n\u001b[0m",
      "\u001b[0;32m<ipython-input-37-0b78580ae8a9>\u001b[0m in \u001b[0;36mplus\u001b[0;34m(a, b)\u001b[0m\n\u001b[1;32m      1\u001b[0m \u001b[0;32mdef\u001b[0m \u001b[0mplus\u001b[0m\u001b[0;34m(\u001b[0m\u001b[0ma\u001b[0m\u001b[0;34m,\u001b[0m \u001b[0mb\u001b[0m\u001b[0;34m)\u001b[0m\u001b[0;34m:\u001b[0m\u001b[0;34m\u001b[0m\u001b[0;34m\u001b[0m\u001b[0m\n\u001b[0;32m----> 2\u001b[0;31m     \u001b[0ma\u001b[0m \u001b[0;34m+\u001b[0m \u001b[0mb\u001b[0m\u001b[0;34m\u001b[0m\u001b[0;34m\u001b[0m\u001b[0m\n\u001b[0m",
      "\u001b[0;31mTypeError\u001b[0m: can only concatenate str (not \"int\") to str"
     ]
    }
   ],
   "source": [
    "plus(\"a\", 1)"
   ]
  },
  {
   "cell_type": "markdown",
   "metadata": {
    "slideshow": {
     "slide_type": "subslide"
    }
   },
   "source": [
    "<div style=\"background-color: lightgrey\">\n",
    "<h2>Sidebar 2-1: How to Read Python Error Messages</h2>\n",
    "\n",
    "<p>\n",
    "Python error messages \n",
    "<p>\n",
    "<tt>TypeError: can only concatenate str (not \"int\") to str</tt>\n",
    "</p>\n",
    "\n",
    "<p>Above the error message is the \"traceback\" also called the \"call stack\". This is a representation of the sequence of procedure calls that lead to the error. If the procedure call originated from code from a file, the filename would be listed after the word \"File\" on each line. If the procedure call originated from a notebook cell, then the word \"ipython-input-#-HEX\".\n",
    "</p>\n",
    "</div>"
   ]
  },
  {
   "cell_type": "markdown",
   "metadata": {
    "slideshow": {
     "slide_type": "slide"
    }
   },
   "source": [
    "Default arguments and passing arguments by name"
   ]
  },
  {
   "cell_type": "code",
   "execution_count": 41,
   "metadata": {},
   "outputs": [
    {
     "name": "stdout",
     "output_type": "stream",
     "text": [
      "a:4.1\n",
      "7:2\n"
     ]
    }
   ],
   "source": [
    "def fun(a,b=2):    # here a MUST be input, but b is optional\n",
    "    return str(a)+':'+str(b)\n",
    "print( fun(\"a\",4.1) )\n",
    "print( fun(7) )"
   ]
  },
  {
   "cell_type": "markdown",
   "metadata": {},
   "source": [
    "Using the variable names internal to a function, we can change the order of parameters!"
   ]
  },
  {
   "cell_type": "code",
   "execution_count": 42,
   "metadata": {},
   "outputs": [
    {
     "name": "stdout",
     "output_type": "stream",
     "text": [
      "first:second\n"
     ]
    }
   ],
   "source": [
    "print( fun(b=\"second\",a=\"first\") )"
   ]
  },
  {
   "cell_type": "code",
   "execution_count": 43,
   "metadata": {
    "slideshow": {
     "slide_type": "slide"
    }
   },
   "outputs": [
    {
     "ename": "SyntaxError",
     "evalue": "invalid syntax (<ipython-input-43-210e4fe64904>, line 2)",
     "output_type": "error",
     "traceback": [
      "\u001b[0;36m  File \u001b[0;32m\"<ipython-input-43-210e4fe64904>\"\u001b[0;36m, line \u001b[0;32m2\u001b[0m\n\u001b[0;31m    In Python the '#' character signififies a comment\u001b[0m\n\u001b[0m       ^\u001b[0m\n\u001b[0;31mSyntaxError\u001b[0m\u001b[0;31m:\u001b[0m invalid syntax\n"
     ]
    }
   ],
   "source": [
    "### 1.1.5 Comments\n",
    "In Python the '#' character signififies a comment"
   ]
  },
  {
   "cell_type": "code",
   "execution_count": 44,
   "metadata": {},
   "outputs": [
    {
     "data": {
      "text/plain": [
       "1"
      ]
     },
     "execution_count": 44,
     "metadata": {},
     "output_type": "execute_result"
    }
   ],
   "source": [
    "# this line is a commment\n",
    "a=1  # comment following imperative statement\n",
    "a"
   ]
  },
  {
   "cell_type": "markdown",
   "metadata": {
    "slideshow": {
     "slide_type": "slide"
    }
   },
   "source": [
    "## 1.2 Logical Conditions\n",
    "Return True/False result"
   ]
  },
  {
   "cell_type": "markdown",
   "metadata": {},
   "source": [
    "### 1.2.1 Numerical comparisons"
   ]
  },
  {
   "cell_type": "code",
   "execution_count": 45,
   "metadata": {},
   "outputs": [
    {
     "name": "stdout",
     "output_type": "stream",
     "text": [
      "1==1 True\n",
      "2 > 1 True\n",
      "2 <= 1 False\n",
      "2 <= 1 False\n",
      "2 != 1 True\n"
     ]
    }
   ],
   "source": [
    "print('1==1',1 == 1)  # equality\n",
    "print('2 > 1',2>1)    # inequality\n",
    "print('2 <= 1',2<=1)  # inequality\n",
    "print('2 <= 1',2<=1)  # inequality\n",
    "print('2 != 1',2!=1)  # inequality (not equal)"
   ]
  },
  {
   "cell_type": "code",
   "execution_count": 46,
   "metadata": {
    "slideshow": {
     "slide_type": "slide"
    }
   },
   "outputs": [],
   "source": [
    "### 1.2.2 string comparisons"
   ]
  },
  {
   "cell_type": "code",
   "execution_count": 47,
   "metadata": {},
   "outputs": [
    {
     "data": {
      "text/plain": [
       "True"
      ]
     },
     "execution_count": 47,
     "metadata": {},
     "output_type": "execute_result"
    }
   ],
   "source": [
    "\"aa\"==\"aa\""
   ]
  },
  {
   "cell_type": "code",
   "execution_count": 48,
   "metadata": {},
   "outputs": [
    {
     "data": {
      "text/plain": [
       "False"
      ]
     },
     "execution_count": 48,
     "metadata": {},
     "output_type": "execute_result"
    }
   ],
   "source": [
    "\"aa\">\"bb\"  # alphabetical ordering test"
   ]
  },
  {
   "cell_type": "code",
   "execution_count": 49,
   "metadata": {},
   "outputs": [],
   "source": [
    "### 1.2.3 logical combinations"
   ]
  },
  {
   "cell_type": "code",
   "execution_count": 50,
   "metadata": {},
   "outputs": [
    {
     "data": {
      "text/plain": [
       "True"
      ]
     },
     "execution_count": 50,
     "metadata": {},
     "output_type": "execute_result"
    }
   ],
   "source": [
    "(1>2) or (\"a\"<\"b\")"
   ]
  },
  {
   "cell_type": "markdown",
   "metadata": {
    "slideshow": {
     "slide_type": "slide"
    }
   },
   "source": [
    "# 2. Advanced Topics"
   ]
  },
  {
   "cell_type": "markdown",
   "metadata": {
    "slideshow": {
     "slide_type": "slide"
    }
   },
   "source": [
    "The Zen of Python:"
   ]
  },
  {
   "cell_type": "code",
   "execution_count": 51,
   "metadata": {},
   "outputs": [
    {
     "name": "stdout",
     "output_type": "stream",
     "text": [
      "The Zen of Python, by Tim Peters\n",
      "\n",
      "Beautiful is better than ugly.\n",
      "Explicit is better than implicit.\n",
      "Simple is better than complex.\n",
      "Complex is better than complicated.\n",
      "Flat is better than nested.\n",
      "Sparse is better than dense.\n",
      "Readability counts.\n",
      "Special cases aren't special enough to break the rules.\n",
      "Although practicality beats purity.\n",
      "Errors should never pass silently.\n",
      "Unless explicitly silenced.\n",
      "In the face of ambiguity, refuse the temptation to guess.\n",
      "There should be one-- and preferably only one --obvious way to do it.\n",
      "Although that way may not be obvious at first unless you're Dutch.\n",
      "Now is better than never.\n",
      "Although never is often better than *right* now.\n",
      "If the implementation is hard to explain, it's a bad idea.\n",
      "If the implementation is easy to explain, it may be a good idea.\n",
      "Namespaces are one honking great idea -- let's do more of those!\n"
     ]
    }
   ],
   "source": [
    "import this"
   ]
  },
  {
   "cell_type": "markdown",
   "metadata": {
    "slideshow": {
     "slide_type": "slide"
    }
   },
   "source": [
    "Python evolves. But there are limits:"
   ]
  },
  {
   "cell_type": "code",
   "execution_count": 52,
   "metadata": {},
   "outputs": [
    {
     "ename": "SyntaxError",
     "evalue": "not a chance (<ipython-input-52-6d5c5b2f0daf>, line 1)",
     "output_type": "error",
     "traceback": [
      "\u001b[0;36m  File \u001b[0;32m\"<ipython-input-52-6d5c5b2f0daf>\"\u001b[0;36m, line \u001b[0;32m1\u001b[0m\n\u001b[0;31m    from __future__ import braces\u001b[0m\n\u001b[0m    ^\u001b[0m\n\u001b[0;31mSyntaxError\u001b[0m\u001b[0;31m:\u001b[0m not a chance\n"
     ]
    }
   ],
   "source": [
    "from __future__ import braces"
   ]
  },
  {
   "cell_type": "markdown",
   "metadata": {
    "slideshow": {
     "slide_type": "slide"
    }
   },
   "source": [
    "## 2.1 Python Warts"
   ]
  },
  {
   "cell_type": "markdown",
   "metadata": {},
   "source": [
    "* https://wiki.python.org/moin/PythonWarts"
   ]
  },
  {
   "cell_type": "markdown",
   "metadata": {
    "slideshow": {
     "slide_type": "slide"
    }
   },
   "source": [
    "## 2.2 Scope of variables"
   ]
  },
  {
   "cell_type": "markdown",
   "metadata": {},
   "source": [
    "Be careful about definig your variables!\n",
    "The scope is not always clear if you don't do so:"
   ]
  },
  {
   "cell_type": "code",
   "execution_count": 53,
   "metadata": {},
   "outputs": [],
   "source": [
    "y = 0     # y is defined in the scope of your program or function\n",
    "for x in range(10):   # x is defined in the loop, but elsewhere?\n",
    "    y = x"
   ]
  },
  {
   "cell_type": "code",
   "execution_count": 54,
   "metadata": {},
   "outputs": [
    {
     "data": {
      "text/plain": [
       "9"
      ]
     },
     "execution_count": 54,
     "metadata": {},
     "output_type": "execute_result"
    }
   ],
   "source": [
    "x        # interesting!"
   ]
  },
  {
   "cell_type": "code",
   "execution_count": 55,
   "metadata": {},
   "outputs": [
    {
     "data": {
      "text/plain": [
       "[10, 11, 12, 13, 14, 15, 16, 17, 18, 19]"
      ]
     },
     "execution_count": 55,
     "metadata": {},
     "output_type": "execute_result"
    }
   ],
   "source": [
    "[x for x in range(10, 20)]  # generates a list of integers"
   ]
  },
  {
   "cell_type": "code",
   "execution_count": 56,
   "metadata": {},
   "outputs": [
    {
     "data": {
      "text/plain": [
       "9"
      ]
     },
     "execution_count": 56,
     "metadata": {},
     "output_type": "execute_result"
    }
   ],
   "source": [
    "x    # huh?"
   ]
  },
  {
   "cell_type": "markdown",
   "metadata": {
    "slideshow": {
     "slide_type": "slide"
    }
   },
   "source": [
    "## 2.3 Scope"
   ]
  },
  {
   "cell_type": "markdown",
   "metadata": {},
   "source": [
    "Python follows the LEGB Rule (after https://www.amazon.com/dp/0596513984/):\n",
    "\n",
    "* L, Local: Names assigned in any way within a function (def or lambda)), and not declared global in that function.\n",
    "* E, Enclosing function locals: Name in the local scope of any and all enclosing functions (def or lambda), from inner to outer.\n",
    "* G, Global (module): Names assigned at the top-level of a module file, or declared global in a def within the file.\n",
    "* B, Built-in (Python): Names preassigned in the built-in names module : open, range, SyntaxError,..."
   ]
  },
  {
   "cell_type": "markdown",
   "metadata": {
    "slideshow": {
     "slide_type": "subslide"
    }
   },
   "source": [
    "Just don't do stuff like this:"
   ]
  },
  {
   "cell_type": "code",
   "execution_count": 57,
   "metadata": {
    "slideshow": {
     "slide_type": "-"
    }
   },
   "outputs": [],
   "source": [
    "x = 3\n",
    "def foo():\n",
    "    x=4\n",
    "    def bar():\n",
    "        print(x)  # Accesses x from foo's scope\n",
    "    bar()  # Prints 4\n",
    "    x=5\n",
    "    bar()  # Prints 5"
   ]
  },
  {
   "cell_type": "code",
   "execution_count": 58,
   "metadata": {},
   "outputs": [
    {
     "name": "stdout",
     "output_type": "stream",
     "text": [
      "4\n",
      "5\n"
     ]
    }
   ],
   "source": [
    "foo()"
   ]
  },
  {
   "cell_type": "markdown",
   "metadata": {},
   "source": [
    "See https://www.geeksforgeeks.org/scope-resolution-in-python-legb-rule/ for some additional readings on scope."
   ]
  },
  {
   "cell_type": "markdown",
   "metadata": {
    "slideshow": {
     "slide_type": "slide"
    }
   },
   "source": [
    "## 2.4 Generators (advanced)"
   ]
  },
  {
   "cell_type": "code",
   "execution_count": 59,
   "metadata": {},
   "outputs": [],
   "source": [
    "def function():\n",
    "    for i in range(10):\n",
    "        yield i"
   ]
  },
  {
   "cell_type": "code",
   "execution_count": 60,
   "metadata": {},
   "outputs": [
    {
     "data": {
      "text/plain": [
       "<generator object function at 0x7fc870e5a5f0>"
      ]
     },
     "execution_count": 60,
     "metadata": {},
     "output_type": "execute_result"
    }
   ],
   "source": [
    "function()"
   ]
  },
  {
   "cell_type": "code",
   "execution_count": 61,
   "metadata": {},
   "outputs": [
    {
     "name": "stdout",
     "output_type": "stream",
     "text": [
      "0\n",
      "1\n",
      "2\n",
      "3\n",
      "4\n",
      "5\n",
      "6\n",
      "7\n",
      "8\n",
      "9\n"
     ]
    }
   ],
   "source": [
    "for y in function():\n",
    "    print(y)"
   ]
  },
  {
   "cell_type": "markdown",
   "metadata": {
    "slideshow": {
     "slide_type": "slide"
    }
   },
   "source": [
    "## 3. Simple Plotting\n",
    "### 3.1 Matplotlib"
   ]
  },
  {
   "cell_type": "code",
   "execution_count": 62,
   "metadata": {},
   "outputs": [],
   "source": [
    "%matplotlib notebook"
   ]
  },
  {
   "cell_type": "markdown",
   "metadata": {},
   "source": [
    "The \"magic\" above is optional, but if we use it, then some interactivity will be enabled in the plots that are made. Otherwise the plots will be purely static images.\n",
    "After the magic, we then need to import the matplotlib library:"
   ]
  },
  {
   "cell_type": "code",
   "execution_count": 63,
   "metadata": {},
   "outputs": [],
   "source": [
    "import matplotlib.pyplot as plt"
   ]
  },
  {
   "cell_type": "markdown",
   "metadata": {},
   "source": [
    "Python has many, many libraries. We will very few."
   ]
  },
  {
   "cell_type": "markdown",
   "metadata": {
    "slideshow": {
     "slide_type": "slide"
    }
   },
   "source": [
    "To create a simple line plot, just give a list of y-values to the function plt.plot()."
   ]
  },
  {
   "cell_type": "code",
   "execution_count": 64,
   "metadata": {
    "slideshow": {
     "slide_type": "-"
    }
   },
   "outputs": [
    {
     "data": {
      "application/javascript": [
       "/* Put everything inside the global mpl namespace */\n",
       "/* global mpl */\n",
       "window.mpl = {};\n",
       "\n",
       "mpl.get_websocket_type = function () {\n",
       "    if (typeof WebSocket !== 'undefined') {\n",
       "        return WebSocket;\n",
       "    } else if (typeof MozWebSocket !== 'undefined') {\n",
       "        return MozWebSocket;\n",
       "    } else {\n",
       "        alert(\n",
       "            'Your browser does not have WebSocket support. ' +\n",
       "                'Please try Chrome, Safari or Firefox ≥ 6. ' +\n",
       "                'Firefox 4 and 5 are also supported but you ' +\n",
       "                'have to enable WebSockets in about:config.'\n",
       "        );\n",
       "    }\n",
       "};\n",
       "\n",
       "mpl.figure = function (figure_id, websocket, ondownload, parent_element) {\n",
       "    this.id = figure_id;\n",
       "\n",
       "    this.ws = websocket;\n",
       "\n",
       "    this.supports_binary = this.ws.binaryType !== undefined;\n",
       "\n",
       "    if (!this.supports_binary) {\n",
       "        var warnings = document.getElementById('mpl-warnings');\n",
       "        if (warnings) {\n",
       "            warnings.style.display = 'block';\n",
       "            warnings.textContent =\n",
       "                'This browser does not support binary websocket messages. ' +\n",
       "                'Performance may be slow.';\n",
       "        }\n",
       "    }\n",
       "\n",
       "    this.imageObj = new Image();\n",
       "\n",
       "    this.context = undefined;\n",
       "    this.message = undefined;\n",
       "    this.canvas = undefined;\n",
       "    this.rubberband_canvas = undefined;\n",
       "    this.rubberband_context = undefined;\n",
       "    this.format_dropdown = undefined;\n",
       "\n",
       "    this.image_mode = 'full';\n",
       "\n",
       "    this.root = document.createElement('div');\n",
       "    this.root.setAttribute('style', 'display: inline-block');\n",
       "    this._root_extra_style(this.root);\n",
       "\n",
       "    parent_element.appendChild(this.root);\n",
       "\n",
       "    this._init_header(this);\n",
       "    this._init_canvas(this);\n",
       "    this._init_toolbar(this);\n",
       "\n",
       "    var fig = this;\n",
       "\n",
       "    this.waiting = false;\n",
       "\n",
       "    this.ws.onopen = function () {\n",
       "        fig.send_message('supports_binary', { value: fig.supports_binary });\n",
       "        fig.send_message('send_image_mode', {});\n",
       "        if (mpl.ratio !== 1) {\n",
       "            fig.send_message('set_dpi_ratio', { dpi_ratio: mpl.ratio });\n",
       "        }\n",
       "        fig.send_message('refresh', {});\n",
       "    };\n",
       "\n",
       "    this.imageObj.onload = function () {\n",
       "        if (fig.image_mode === 'full') {\n",
       "            // Full images could contain transparency (where diff images\n",
       "            // almost always do), so we need to clear the canvas so that\n",
       "            // there is no ghosting.\n",
       "            fig.context.clearRect(0, 0, fig.canvas.width, fig.canvas.height);\n",
       "        }\n",
       "        fig.context.drawImage(fig.imageObj, 0, 0);\n",
       "    };\n",
       "\n",
       "    this.imageObj.onunload = function () {\n",
       "        fig.ws.close();\n",
       "    };\n",
       "\n",
       "    this.ws.onmessage = this._make_on_message_function(this);\n",
       "\n",
       "    this.ondownload = ondownload;\n",
       "};\n",
       "\n",
       "mpl.figure.prototype._init_header = function () {\n",
       "    var titlebar = document.createElement('div');\n",
       "    titlebar.classList =\n",
       "        'ui-dialog-titlebar ui-widget-header ui-corner-all ui-helper-clearfix';\n",
       "    var titletext = document.createElement('div');\n",
       "    titletext.classList = 'ui-dialog-title';\n",
       "    titletext.setAttribute(\n",
       "        'style',\n",
       "        'width: 100%; text-align: center; padding: 3px;'\n",
       "    );\n",
       "    titlebar.appendChild(titletext);\n",
       "    this.root.appendChild(titlebar);\n",
       "    this.header = titletext;\n",
       "};\n",
       "\n",
       "mpl.figure.prototype._canvas_extra_style = function (_canvas_div) {};\n",
       "\n",
       "mpl.figure.prototype._root_extra_style = function (_canvas_div) {};\n",
       "\n",
       "mpl.figure.prototype._init_canvas = function () {\n",
       "    var fig = this;\n",
       "\n",
       "    var canvas_div = (this.canvas_div = document.createElement('div'));\n",
       "    canvas_div.setAttribute(\n",
       "        'style',\n",
       "        'border: 1px solid #ddd;' +\n",
       "            'box-sizing: content-box;' +\n",
       "            'clear: both;' +\n",
       "            'min-height: 1px;' +\n",
       "            'min-width: 1px;' +\n",
       "            'outline: 0;' +\n",
       "            'overflow: hidden;' +\n",
       "            'position: relative;' +\n",
       "            'resize: both;'\n",
       "    );\n",
       "\n",
       "    function on_keyboard_event_closure(name) {\n",
       "        return function (event) {\n",
       "            return fig.key_event(event, name);\n",
       "        };\n",
       "    }\n",
       "\n",
       "    canvas_div.addEventListener(\n",
       "        'keydown',\n",
       "        on_keyboard_event_closure('key_press')\n",
       "    );\n",
       "    canvas_div.addEventListener(\n",
       "        'keyup',\n",
       "        on_keyboard_event_closure('key_release')\n",
       "    );\n",
       "\n",
       "    this._canvas_extra_style(canvas_div);\n",
       "    this.root.appendChild(canvas_div);\n",
       "\n",
       "    var canvas = (this.canvas = document.createElement('canvas'));\n",
       "    canvas.classList.add('mpl-canvas');\n",
       "    canvas.setAttribute('style', 'box-sizing: content-box;');\n",
       "\n",
       "    this.context = canvas.getContext('2d');\n",
       "\n",
       "    var backingStore =\n",
       "        this.context.backingStorePixelRatio ||\n",
       "        this.context.webkitBackingStorePixelRatio ||\n",
       "        this.context.mozBackingStorePixelRatio ||\n",
       "        this.context.msBackingStorePixelRatio ||\n",
       "        this.context.oBackingStorePixelRatio ||\n",
       "        this.context.backingStorePixelRatio ||\n",
       "        1;\n",
       "\n",
       "    mpl.ratio = (window.devicePixelRatio || 1) / backingStore;\n",
       "\n",
       "    var rubberband_canvas = (this.rubberband_canvas = document.createElement(\n",
       "        'canvas'\n",
       "    ));\n",
       "    rubberband_canvas.setAttribute(\n",
       "        'style',\n",
       "        'box-sizing: content-box; position: absolute; left: 0; top: 0; z-index: 1;'\n",
       "    );\n",
       "\n",
       "    var resizeObserver = new ResizeObserver(function (entries) {\n",
       "        var nentries = entries.length;\n",
       "        for (var i = 0; i < nentries; i++) {\n",
       "            var entry = entries[i];\n",
       "            var width, height;\n",
       "            if (entry.contentBoxSize) {\n",
       "                width = entry.contentBoxSize.inlineSize;\n",
       "                height = entry.contentBoxSize.blockSize;\n",
       "            } else {\n",
       "                width = entry.contentRect.width;\n",
       "                height = entry.contentRect.height;\n",
       "            }\n",
       "\n",
       "            // Keep the size of the canvas and rubber band canvas in sync with\n",
       "            // the canvas container.\n",
       "            canvas.setAttribute('width', width * mpl.ratio);\n",
       "            canvas.setAttribute('height', height * mpl.ratio);\n",
       "            canvas.setAttribute(\n",
       "                'style',\n",
       "                'width: ' + width + 'px; height: ' + height + 'px;'\n",
       "            );\n",
       "\n",
       "            rubberband_canvas.setAttribute('width', width);\n",
       "            rubberband_canvas.setAttribute('height', height);\n",
       "\n",
       "            // And update the size in Python. We ignore the initial 0/0 size\n",
       "            // that occurs as the element is placed into the DOM, which should\n",
       "            // otherwise not happen due to the minimum size styling.\n",
       "            if (width != 0 && height != 0) {\n",
       "                fig.request_resize(width, height);\n",
       "            }\n",
       "        }\n",
       "    });\n",
       "    resizeObserver.observe(canvas_div);\n",
       "\n",
       "    function on_mouse_event_closure(name) {\n",
       "        return function (event) {\n",
       "            return fig.mouse_event(event, name);\n",
       "        };\n",
       "    }\n",
       "\n",
       "    rubberband_canvas.addEventListener(\n",
       "        'mousedown',\n",
       "        on_mouse_event_closure('button_press')\n",
       "    );\n",
       "    rubberband_canvas.addEventListener(\n",
       "        'mouseup',\n",
       "        on_mouse_event_closure('button_release')\n",
       "    );\n",
       "    // Throttle sequential mouse events to 1 every 20ms.\n",
       "    rubberband_canvas.addEventListener(\n",
       "        'mousemove',\n",
       "        on_mouse_event_closure('motion_notify')\n",
       "    );\n",
       "\n",
       "    rubberband_canvas.addEventListener(\n",
       "        'mouseenter',\n",
       "        on_mouse_event_closure('figure_enter')\n",
       "    );\n",
       "    rubberband_canvas.addEventListener(\n",
       "        'mouseleave',\n",
       "        on_mouse_event_closure('figure_leave')\n",
       "    );\n",
       "\n",
       "    canvas_div.addEventListener('wheel', function (event) {\n",
       "        if (event.deltaY < 0) {\n",
       "            event.step = 1;\n",
       "        } else {\n",
       "            event.step = -1;\n",
       "        }\n",
       "        on_mouse_event_closure('scroll')(event);\n",
       "    });\n",
       "\n",
       "    canvas_div.appendChild(canvas);\n",
       "    canvas_div.appendChild(rubberband_canvas);\n",
       "\n",
       "    this.rubberband_context = rubberband_canvas.getContext('2d');\n",
       "    this.rubberband_context.strokeStyle = '#000000';\n",
       "\n",
       "    this._resize_canvas = function (width, height, forward) {\n",
       "        if (forward) {\n",
       "            canvas_div.style.width = width + 'px';\n",
       "            canvas_div.style.height = height + 'px';\n",
       "        }\n",
       "    };\n",
       "\n",
       "    // Disable right mouse context menu.\n",
       "    this.rubberband_canvas.addEventListener('contextmenu', function (_e) {\n",
       "        return false;\n",
       "    });\n",
       "\n",
       "    function set_focus() {\n",
       "        canvas.focus();\n",
       "        canvas_div.focus();\n",
       "    }\n",
       "\n",
       "    window.setTimeout(set_focus, 100);\n",
       "};\n",
       "\n",
       "mpl.figure.prototype._init_toolbar = function () {\n",
       "    var fig = this;\n",
       "\n",
       "    var toolbar = document.createElement('div');\n",
       "    toolbar.classList = 'mpl-toolbar';\n",
       "    this.root.appendChild(toolbar);\n",
       "\n",
       "    function on_click_closure(name) {\n",
       "        return function (_event) {\n",
       "            return fig.toolbar_button_onclick(name);\n",
       "        };\n",
       "    }\n",
       "\n",
       "    function on_mouseover_closure(tooltip) {\n",
       "        return function (event) {\n",
       "            if (!event.currentTarget.disabled) {\n",
       "                return fig.toolbar_button_onmouseover(tooltip);\n",
       "            }\n",
       "        };\n",
       "    }\n",
       "\n",
       "    fig.buttons = {};\n",
       "    var buttonGroup = document.createElement('div');\n",
       "    buttonGroup.classList = 'mpl-button-group';\n",
       "    for (var toolbar_ind in mpl.toolbar_items) {\n",
       "        var name = mpl.toolbar_items[toolbar_ind][0];\n",
       "        var tooltip = mpl.toolbar_items[toolbar_ind][1];\n",
       "        var image = mpl.toolbar_items[toolbar_ind][2];\n",
       "        var method_name = mpl.toolbar_items[toolbar_ind][3];\n",
       "\n",
       "        if (!name) {\n",
       "            /* Instead of a spacer, we start a new button group. */\n",
       "            if (buttonGroup.hasChildNodes()) {\n",
       "                toolbar.appendChild(buttonGroup);\n",
       "            }\n",
       "            buttonGroup = document.createElement('div');\n",
       "            buttonGroup.classList = 'mpl-button-group';\n",
       "            continue;\n",
       "        }\n",
       "\n",
       "        var button = (fig.buttons[name] = document.createElement('button'));\n",
       "        button.classList = 'mpl-widget';\n",
       "        button.setAttribute('role', 'button');\n",
       "        button.setAttribute('aria-disabled', 'false');\n",
       "        button.addEventListener('click', on_click_closure(method_name));\n",
       "        button.addEventListener('mouseover', on_mouseover_closure(tooltip));\n",
       "\n",
       "        var icon_img = document.createElement('img');\n",
       "        icon_img.src = '_images/' + image + '.png';\n",
       "        icon_img.srcset = '_images/' + image + '_large.png 2x';\n",
       "        icon_img.alt = tooltip;\n",
       "        button.appendChild(icon_img);\n",
       "\n",
       "        buttonGroup.appendChild(button);\n",
       "    }\n",
       "\n",
       "    if (buttonGroup.hasChildNodes()) {\n",
       "        toolbar.appendChild(buttonGroup);\n",
       "    }\n",
       "\n",
       "    var fmt_picker = document.createElement('select');\n",
       "    fmt_picker.classList = 'mpl-widget';\n",
       "    toolbar.appendChild(fmt_picker);\n",
       "    this.format_dropdown = fmt_picker;\n",
       "\n",
       "    for (var ind in mpl.extensions) {\n",
       "        var fmt = mpl.extensions[ind];\n",
       "        var option = document.createElement('option');\n",
       "        option.selected = fmt === mpl.default_extension;\n",
       "        option.innerHTML = fmt;\n",
       "        fmt_picker.appendChild(option);\n",
       "    }\n",
       "\n",
       "    var status_bar = document.createElement('span');\n",
       "    status_bar.classList = 'mpl-message';\n",
       "    toolbar.appendChild(status_bar);\n",
       "    this.message = status_bar;\n",
       "};\n",
       "\n",
       "mpl.figure.prototype.request_resize = function (x_pixels, y_pixels) {\n",
       "    // Request matplotlib to resize the figure. Matplotlib will then trigger a resize in the client,\n",
       "    // which will in turn request a refresh of the image.\n",
       "    this.send_message('resize', { width: x_pixels, height: y_pixels });\n",
       "};\n",
       "\n",
       "mpl.figure.prototype.send_message = function (type, properties) {\n",
       "    properties['type'] = type;\n",
       "    properties['figure_id'] = this.id;\n",
       "    this.ws.send(JSON.stringify(properties));\n",
       "};\n",
       "\n",
       "mpl.figure.prototype.send_draw_message = function () {\n",
       "    if (!this.waiting) {\n",
       "        this.waiting = true;\n",
       "        this.ws.send(JSON.stringify({ type: 'draw', figure_id: this.id }));\n",
       "    }\n",
       "};\n",
       "\n",
       "mpl.figure.prototype.handle_save = function (fig, _msg) {\n",
       "    var format_dropdown = fig.format_dropdown;\n",
       "    var format = format_dropdown.options[format_dropdown.selectedIndex].value;\n",
       "    fig.ondownload(fig, format);\n",
       "};\n",
       "\n",
       "mpl.figure.prototype.handle_resize = function (fig, msg) {\n",
       "    var size = msg['size'];\n",
       "    if (size[0] !== fig.canvas.width || size[1] !== fig.canvas.height) {\n",
       "        fig._resize_canvas(size[0], size[1], msg['forward']);\n",
       "        fig.send_message('refresh', {});\n",
       "    }\n",
       "};\n",
       "\n",
       "mpl.figure.prototype.handle_rubberband = function (fig, msg) {\n",
       "    var x0 = msg['x0'] / mpl.ratio;\n",
       "    var y0 = (fig.canvas.height - msg['y0']) / mpl.ratio;\n",
       "    var x1 = msg['x1'] / mpl.ratio;\n",
       "    var y1 = (fig.canvas.height - msg['y1']) / mpl.ratio;\n",
       "    x0 = Math.floor(x0) + 0.5;\n",
       "    y0 = Math.floor(y0) + 0.5;\n",
       "    x1 = Math.floor(x1) + 0.5;\n",
       "    y1 = Math.floor(y1) + 0.5;\n",
       "    var min_x = Math.min(x0, x1);\n",
       "    var min_y = Math.min(y0, y1);\n",
       "    var width = Math.abs(x1 - x0);\n",
       "    var height = Math.abs(y1 - y0);\n",
       "\n",
       "    fig.rubberband_context.clearRect(\n",
       "        0,\n",
       "        0,\n",
       "        fig.canvas.width / mpl.ratio,\n",
       "        fig.canvas.height / mpl.ratio\n",
       "    );\n",
       "\n",
       "    fig.rubberband_context.strokeRect(min_x, min_y, width, height);\n",
       "};\n",
       "\n",
       "mpl.figure.prototype.handle_figure_label = function (fig, msg) {\n",
       "    // Updates the figure title.\n",
       "    fig.header.textContent = msg['label'];\n",
       "};\n",
       "\n",
       "mpl.figure.prototype.handle_cursor = function (fig, msg) {\n",
       "    var cursor = msg['cursor'];\n",
       "    switch (cursor) {\n",
       "        case 0:\n",
       "            cursor = 'pointer';\n",
       "            break;\n",
       "        case 1:\n",
       "            cursor = 'default';\n",
       "            break;\n",
       "        case 2:\n",
       "            cursor = 'crosshair';\n",
       "            break;\n",
       "        case 3:\n",
       "            cursor = 'move';\n",
       "            break;\n",
       "    }\n",
       "    fig.rubberband_canvas.style.cursor = cursor;\n",
       "};\n",
       "\n",
       "mpl.figure.prototype.handle_message = function (fig, msg) {\n",
       "    fig.message.textContent = msg['message'];\n",
       "};\n",
       "\n",
       "mpl.figure.prototype.handle_draw = function (fig, _msg) {\n",
       "    // Request the server to send over a new figure.\n",
       "    fig.send_draw_message();\n",
       "};\n",
       "\n",
       "mpl.figure.prototype.handle_image_mode = function (fig, msg) {\n",
       "    fig.image_mode = msg['mode'];\n",
       "};\n",
       "\n",
       "mpl.figure.prototype.handle_history_buttons = function (fig, msg) {\n",
       "    for (var key in msg) {\n",
       "        if (!(key in fig.buttons)) {\n",
       "            continue;\n",
       "        }\n",
       "        fig.buttons[key].disabled = !msg[key];\n",
       "        fig.buttons[key].setAttribute('aria-disabled', !msg[key]);\n",
       "    }\n",
       "};\n",
       "\n",
       "mpl.figure.prototype.handle_navigate_mode = function (fig, msg) {\n",
       "    if (msg['mode'] === 'PAN') {\n",
       "        fig.buttons['Pan'].classList.add('active');\n",
       "        fig.buttons['Zoom'].classList.remove('active');\n",
       "    } else if (msg['mode'] === 'ZOOM') {\n",
       "        fig.buttons['Pan'].classList.remove('active');\n",
       "        fig.buttons['Zoom'].classList.add('active');\n",
       "    } else {\n",
       "        fig.buttons['Pan'].classList.remove('active');\n",
       "        fig.buttons['Zoom'].classList.remove('active');\n",
       "    }\n",
       "};\n",
       "\n",
       "mpl.figure.prototype.updated_canvas_event = function () {\n",
       "    // Called whenever the canvas gets updated.\n",
       "    this.send_message('ack', {});\n",
       "};\n",
       "\n",
       "// A function to construct a web socket function for onmessage handling.\n",
       "// Called in the figure constructor.\n",
       "mpl.figure.prototype._make_on_message_function = function (fig) {\n",
       "    return function socket_on_message(evt) {\n",
       "        if (evt.data instanceof Blob) {\n",
       "            /* FIXME: We get \"Resource interpreted as Image but\n",
       "             * transferred with MIME type text/plain:\" errors on\n",
       "             * Chrome.  But how to set the MIME type?  It doesn't seem\n",
       "             * to be part of the websocket stream */\n",
       "            evt.data.type = 'image/png';\n",
       "\n",
       "            /* Free the memory for the previous frames */\n",
       "            if (fig.imageObj.src) {\n",
       "                (window.URL || window.webkitURL).revokeObjectURL(\n",
       "                    fig.imageObj.src\n",
       "                );\n",
       "            }\n",
       "\n",
       "            fig.imageObj.src = (window.URL || window.webkitURL).createObjectURL(\n",
       "                evt.data\n",
       "            );\n",
       "            fig.updated_canvas_event();\n",
       "            fig.waiting = false;\n",
       "            return;\n",
       "        } else if (\n",
       "            typeof evt.data === 'string' &&\n",
       "            evt.data.slice(0, 21) === 'data:image/png;base64'\n",
       "        ) {\n",
       "            fig.imageObj.src = evt.data;\n",
       "            fig.updated_canvas_event();\n",
       "            fig.waiting = false;\n",
       "            return;\n",
       "        }\n",
       "\n",
       "        var msg = JSON.parse(evt.data);\n",
       "        var msg_type = msg['type'];\n",
       "\n",
       "        // Call the  \"handle_{type}\" callback, which takes\n",
       "        // the figure and JSON message as its only arguments.\n",
       "        try {\n",
       "            var callback = fig['handle_' + msg_type];\n",
       "        } catch (e) {\n",
       "            console.log(\n",
       "                \"No handler for the '\" + msg_type + \"' message type: \",\n",
       "                msg\n",
       "            );\n",
       "            return;\n",
       "        }\n",
       "\n",
       "        if (callback) {\n",
       "            try {\n",
       "                // console.log(\"Handling '\" + msg_type + \"' message: \", msg);\n",
       "                callback(fig, msg);\n",
       "            } catch (e) {\n",
       "                console.log(\n",
       "                    \"Exception inside the 'handler_\" + msg_type + \"' callback:\",\n",
       "                    e,\n",
       "                    e.stack,\n",
       "                    msg\n",
       "                );\n",
       "            }\n",
       "        }\n",
       "    };\n",
       "};\n",
       "\n",
       "// from http://stackoverflow.com/questions/1114465/getting-mouse-location-in-canvas\n",
       "mpl.findpos = function (e) {\n",
       "    //this section is from http://www.quirksmode.org/js/events_properties.html\n",
       "    var targ;\n",
       "    if (!e) {\n",
       "        e = window.event;\n",
       "    }\n",
       "    if (e.target) {\n",
       "        targ = e.target;\n",
       "    } else if (e.srcElement) {\n",
       "        targ = e.srcElement;\n",
       "    }\n",
       "    if (targ.nodeType === 3) {\n",
       "        // defeat Safari bug\n",
       "        targ = targ.parentNode;\n",
       "    }\n",
       "\n",
       "    // pageX,Y are the mouse positions relative to the document\n",
       "    var boundingRect = targ.getBoundingClientRect();\n",
       "    var x = e.pageX - (boundingRect.left + document.body.scrollLeft);\n",
       "    var y = e.pageY - (boundingRect.top + document.body.scrollTop);\n",
       "\n",
       "    return { x: x, y: y };\n",
       "};\n",
       "\n",
       "/*\n",
       " * return a copy of an object with only non-object keys\n",
       " * we need this to avoid circular references\n",
       " * http://stackoverflow.com/a/24161582/3208463\n",
       " */\n",
       "function simpleKeys(original) {\n",
       "    return Object.keys(original).reduce(function (obj, key) {\n",
       "        if (typeof original[key] !== 'object') {\n",
       "            obj[key] = original[key];\n",
       "        }\n",
       "        return obj;\n",
       "    }, {});\n",
       "}\n",
       "\n",
       "mpl.figure.prototype.mouse_event = function (event, name) {\n",
       "    var canvas_pos = mpl.findpos(event);\n",
       "\n",
       "    if (name === 'button_press') {\n",
       "        this.canvas.focus();\n",
       "        this.canvas_div.focus();\n",
       "    }\n",
       "\n",
       "    var x = canvas_pos.x * mpl.ratio;\n",
       "    var y = canvas_pos.y * mpl.ratio;\n",
       "\n",
       "    this.send_message(name, {\n",
       "        x: x,\n",
       "        y: y,\n",
       "        button: event.button,\n",
       "        step: event.step,\n",
       "        guiEvent: simpleKeys(event),\n",
       "    });\n",
       "\n",
       "    /* This prevents the web browser from automatically changing to\n",
       "     * the text insertion cursor when the button is pressed.  We want\n",
       "     * to control all of the cursor setting manually through the\n",
       "     * 'cursor' event from matplotlib */\n",
       "    event.preventDefault();\n",
       "    return false;\n",
       "};\n",
       "\n",
       "mpl.figure.prototype._key_event_extra = function (_event, _name) {\n",
       "    // Handle any extra behaviour associated with a key event\n",
       "};\n",
       "\n",
       "mpl.figure.prototype.key_event = function (event, name) {\n",
       "    // Prevent repeat events\n",
       "    if (name === 'key_press') {\n",
       "        if (event.which === this._key) {\n",
       "            return;\n",
       "        } else {\n",
       "            this._key = event.which;\n",
       "        }\n",
       "    }\n",
       "    if (name === 'key_release') {\n",
       "        this._key = null;\n",
       "    }\n",
       "\n",
       "    var value = '';\n",
       "    if (event.ctrlKey && event.which !== 17) {\n",
       "        value += 'ctrl+';\n",
       "    }\n",
       "    if (event.altKey && event.which !== 18) {\n",
       "        value += 'alt+';\n",
       "    }\n",
       "    if (event.shiftKey && event.which !== 16) {\n",
       "        value += 'shift+';\n",
       "    }\n",
       "\n",
       "    value += 'k';\n",
       "    value += event.which.toString();\n",
       "\n",
       "    this._key_event_extra(event, name);\n",
       "\n",
       "    this.send_message(name, { key: value, guiEvent: simpleKeys(event) });\n",
       "    return false;\n",
       "};\n",
       "\n",
       "mpl.figure.prototype.toolbar_button_onclick = function (name) {\n",
       "    if (name === 'download') {\n",
       "        this.handle_save(this, null);\n",
       "    } else {\n",
       "        this.send_message('toolbar_button', { name: name });\n",
       "    }\n",
       "};\n",
       "\n",
       "mpl.figure.prototype.toolbar_button_onmouseover = function (tooltip) {\n",
       "    this.message.textContent = tooltip;\n",
       "};\n",
       "mpl.toolbar_items = [[\"Home\", \"Reset original view\", \"fa fa-home icon-home\", \"home\"], [\"Back\", \"Back to previous view\", \"fa fa-arrow-left icon-arrow-left\", \"back\"], [\"Forward\", \"Forward to next view\", \"fa fa-arrow-right icon-arrow-right\", \"forward\"], [\"\", \"\", \"\", \"\"], [\"Pan\", \"Left button pans, Right button zooms\\nx/y fixes axis, CTRL fixes aspect\", \"fa fa-arrows icon-move\", \"pan\"], [\"Zoom\", \"Zoom to rectangle\\nx/y fixes axis, CTRL fixes aspect\", \"fa fa-square-o icon-check-empty\", \"zoom\"], [\"\", \"\", \"\", \"\"], [\"Download\", \"Download plot\", \"fa fa-floppy-o icon-save\", \"download\"]];\n",
       "\n",
       "mpl.extensions = [\"eps\", \"jpeg\", \"pdf\", \"png\", \"ps\", \"raw\", \"svg\", \"tif\"];\n",
       "\n",
       "mpl.default_extension = \"png\";/* global mpl */\n",
       "\n",
       "var comm_websocket_adapter = function (comm) {\n",
       "    // Create a \"websocket\"-like object which calls the given IPython comm\n",
       "    // object with the appropriate methods. Currently this is a non binary\n",
       "    // socket, so there is still some room for performance tuning.\n",
       "    var ws = {};\n",
       "\n",
       "    ws.close = function () {\n",
       "        comm.close();\n",
       "    };\n",
       "    ws.send = function (m) {\n",
       "        //console.log('sending', m);\n",
       "        comm.send(m);\n",
       "    };\n",
       "    // Register the callback with on_msg.\n",
       "    comm.on_msg(function (msg) {\n",
       "        //console.log('receiving', msg['content']['data'], msg);\n",
       "        // Pass the mpl event to the overridden (by mpl) onmessage function.\n",
       "        ws.onmessage(msg['content']['data']);\n",
       "    });\n",
       "    return ws;\n",
       "};\n",
       "\n",
       "mpl.mpl_figure_comm = function (comm, msg) {\n",
       "    // This is the function which gets called when the mpl process\n",
       "    // starts-up an IPython Comm through the \"matplotlib\" channel.\n",
       "\n",
       "    var id = msg.content.data.id;\n",
       "    // Get hold of the div created by the display call when the Comm\n",
       "    // socket was opened in Python.\n",
       "    var element = document.getElementById(id);\n",
       "    var ws_proxy = comm_websocket_adapter(comm);\n",
       "\n",
       "    function ondownload(figure, _format) {\n",
       "        window.open(figure.canvas.toDataURL());\n",
       "    }\n",
       "\n",
       "    var fig = new mpl.figure(id, ws_proxy, ondownload, element);\n",
       "\n",
       "    // Call onopen now - mpl needs it, as it is assuming we've passed it a real\n",
       "    // web socket which is closed, not our websocket->open comm proxy.\n",
       "    ws_proxy.onopen();\n",
       "\n",
       "    fig.parent_element = element;\n",
       "    fig.cell_info = mpl.find_output_cell(\"<div id='\" + id + \"'></div>\");\n",
       "    if (!fig.cell_info) {\n",
       "        console.error('Failed to find cell for figure', id, fig);\n",
       "        return;\n",
       "    }\n",
       "};\n",
       "\n",
       "mpl.figure.prototype.handle_close = function (fig, msg) {\n",
       "    var width = fig.canvas.width / mpl.ratio;\n",
       "    fig.root.removeEventListener('remove', this._remove_fig_handler);\n",
       "\n",
       "    // Update the output cell to use the data from the current canvas.\n",
       "    fig.push_to_output();\n",
       "    var dataURL = fig.canvas.toDataURL();\n",
       "    // Re-enable the keyboard manager in IPython - without this line, in FF,\n",
       "    // the notebook keyboard shortcuts fail.\n",
       "    IPython.keyboard_manager.enable();\n",
       "    fig.parent_element.innerHTML =\n",
       "        '<img src=\"' + dataURL + '\" width=\"' + width + '\">';\n",
       "    fig.close_ws(fig, msg);\n",
       "};\n",
       "\n",
       "mpl.figure.prototype.close_ws = function (fig, msg) {\n",
       "    fig.send_message('closing', msg);\n",
       "    // fig.ws.close()\n",
       "};\n",
       "\n",
       "mpl.figure.prototype.push_to_output = function (_remove_interactive) {\n",
       "    // Turn the data on the canvas into data in the output cell.\n",
       "    var width = this.canvas.width / mpl.ratio;\n",
       "    var dataURL = this.canvas.toDataURL();\n",
       "    this.cell_info[1]['text/html'] =\n",
       "        '<img src=\"' + dataURL + '\" width=\"' + width + '\">';\n",
       "};\n",
       "\n",
       "mpl.figure.prototype.updated_canvas_event = function () {\n",
       "    // Tell IPython that the notebook contents must change.\n",
       "    IPython.notebook.set_dirty(true);\n",
       "    this.send_message('ack', {});\n",
       "    var fig = this;\n",
       "    // Wait a second, then push the new image to the DOM so\n",
       "    // that it is saved nicely (might be nice to debounce this).\n",
       "    setTimeout(function () {\n",
       "        fig.push_to_output();\n",
       "    }, 1000);\n",
       "};\n",
       "\n",
       "mpl.figure.prototype._init_toolbar = function () {\n",
       "    var fig = this;\n",
       "\n",
       "    var toolbar = document.createElement('div');\n",
       "    toolbar.classList = 'btn-toolbar';\n",
       "    this.root.appendChild(toolbar);\n",
       "\n",
       "    function on_click_closure(name) {\n",
       "        return function (_event) {\n",
       "            return fig.toolbar_button_onclick(name);\n",
       "        };\n",
       "    }\n",
       "\n",
       "    function on_mouseover_closure(tooltip) {\n",
       "        return function (event) {\n",
       "            if (!event.currentTarget.disabled) {\n",
       "                return fig.toolbar_button_onmouseover(tooltip);\n",
       "            }\n",
       "        };\n",
       "    }\n",
       "\n",
       "    fig.buttons = {};\n",
       "    var buttonGroup = document.createElement('div');\n",
       "    buttonGroup.classList = 'btn-group';\n",
       "    var button;\n",
       "    for (var toolbar_ind in mpl.toolbar_items) {\n",
       "        var name = mpl.toolbar_items[toolbar_ind][0];\n",
       "        var tooltip = mpl.toolbar_items[toolbar_ind][1];\n",
       "        var image = mpl.toolbar_items[toolbar_ind][2];\n",
       "        var method_name = mpl.toolbar_items[toolbar_ind][3];\n",
       "\n",
       "        if (!name) {\n",
       "            /* Instead of a spacer, we start a new button group. */\n",
       "            if (buttonGroup.hasChildNodes()) {\n",
       "                toolbar.appendChild(buttonGroup);\n",
       "            }\n",
       "            buttonGroup = document.createElement('div');\n",
       "            buttonGroup.classList = 'btn-group';\n",
       "            continue;\n",
       "        }\n",
       "\n",
       "        button = fig.buttons[name] = document.createElement('button');\n",
       "        button.classList = 'btn btn-default';\n",
       "        button.href = '#';\n",
       "        button.title = name;\n",
       "        button.innerHTML = '<i class=\"fa ' + image + ' fa-lg\"></i>';\n",
       "        button.addEventListener('click', on_click_closure(method_name));\n",
       "        button.addEventListener('mouseover', on_mouseover_closure(tooltip));\n",
       "        buttonGroup.appendChild(button);\n",
       "    }\n",
       "\n",
       "    if (buttonGroup.hasChildNodes()) {\n",
       "        toolbar.appendChild(buttonGroup);\n",
       "    }\n",
       "\n",
       "    // Add the status bar.\n",
       "    var status_bar = document.createElement('span');\n",
       "    status_bar.classList = 'mpl-message pull-right';\n",
       "    toolbar.appendChild(status_bar);\n",
       "    this.message = status_bar;\n",
       "\n",
       "    // Add the close button to the window.\n",
       "    var buttongrp = document.createElement('div');\n",
       "    buttongrp.classList = 'btn-group inline pull-right';\n",
       "    button = document.createElement('button');\n",
       "    button.classList = 'btn btn-mini btn-primary';\n",
       "    button.href = '#';\n",
       "    button.title = 'Stop Interaction';\n",
       "    button.innerHTML = '<i class=\"fa fa-power-off icon-remove icon-large\"></i>';\n",
       "    button.addEventListener('click', function (_evt) {\n",
       "        fig.handle_close(fig, {});\n",
       "    });\n",
       "    button.addEventListener(\n",
       "        'mouseover',\n",
       "        on_mouseover_closure('Stop Interaction')\n",
       "    );\n",
       "    buttongrp.appendChild(button);\n",
       "    var titlebar = this.root.querySelector('.ui-dialog-titlebar');\n",
       "    titlebar.insertBefore(buttongrp, titlebar.firstChild);\n",
       "};\n",
       "\n",
       "mpl.figure.prototype._remove_fig_handler = function () {\n",
       "    this.close_ws(this, {});\n",
       "};\n",
       "\n",
       "mpl.figure.prototype._root_extra_style = function (el) {\n",
       "    el.style.boxSizing = 'content-box'; // override notebook setting of border-box.\n",
       "    el.addEventListener('remove', this._remove_fig_handler);\n",
       "};\n",
       "\n",
       "mpl.figure.prototype._canvas_extra_style = function (el) {\n",
       "    // this is important to make the div 'focusable\n",
       "    el.setAttribute('tabindex', 0);\n",
       "    // reach out to IPython and tell the keyboard manager to turn it's self\n",
       "    // off when our div gets focus\n",
       "\n",
       "    // location in version 3\n",
       "    if (IPython.notebook.keyboard_manager) {\n",
       "        IPython.notebook.keyboard_manager.register_events(el);\n",
       "    } else {\n",
       "        // location in version 2\n",
       "        IPython.keyboard_manager.register_events(el);\n",
       "    }\n",
       "};\n",
       "\n",
       "mpl.figure.prototype._key_event_extra = function (event, _name) {\n",
       "    var manager = IPython.notebook.keyboard_manager;\n",
       "    if (!manager) {\n",
       "        manager = IPython.keyboard_manager;\n",
       "    }\n",
       "\n",
       "    // Check for shift+enter\n",
       "    if (event.shiftKey && event.which === 13) {\n",
       "        this.canvas_div.blur();\n",
       "        // select the cell after this one\n",
       "        var index = IPython.notebook.find_cell_index(this.cell_info[0]);\n",
       "        IPython.notebook.select(index + 1);\n",
       "    }\n",
       "};\n",
       "\n",
       "mpl.figure.prototype.handle_save = function (fig, _msg) {\n",
       "    fig.ondownload(fig, null);\n",
       "};\n",
       "\n",
       "mpl.find_output_cell = function (html_output) {\n",
       "    // Return the cell and output element which can be found *uniquely* in the notebook.\n",
       "    // Note - this is a bit hacky, but it is done because the \"notebook_saving.Notebook\"\n",
       "    // IPython event is triggered only after the cells have been serialised, which for\n",
       "    // our purposes (turning an active figure into a static one), is too late.\n",
       "    var cells = IPython.notebook.get_cells();\n",
       "    var ncells = cells.length;\n",
       "    for (var i = 0; i < ncells; i++) {\n",
       "        var cell = cells[i];\n",
       "        if (cell.cell_type === 'code') {\n",
       "            for (var j = 0; j < cell.output_area.outputs.length; j++) {\n",
       "                var data = cell.output_area.outputs[j];\n",
       "                if (data.data) {\n",
       "                    // IPython >= 3 moved mimebundle to data attribute of output\n",
       "                    data = data.data;\n",
       "                }\n",
       "                if (data['text/html'] === html_output) {\n",
       "                    return [cell, data, j];\n",
       "                }\n",
       "            }\n",
       "        }\n",
       "    }\n",
       "};\n",
       "\n",
       "// Register the function which deals with the matplotlib target/channel.\n",
       "// The kernel may be null if the page has been refreshed.\n",
       "if (IPython.notebook.kernel !== null) {\n",
       "    IPython.notebook.kernel.comm_manager.register_target(\n",
       "        'matplotlib',\n",
       "        mpl.mpl_figure_comm\n",
       "    );\n",
       "}\n"
      ],
      "text/plain": [
       "<IPython.core.display.Javascript object>"
      ]
     },
     "metadata": {},
     "output_type": "display_data"
    },
    {
     "data": {
      "text/html": [
       "<img src=\"data:image/png;base64,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\" width=\"852.75\">"
      ],
      "text/plain": [
       "<IPython.core.display.HTML object>"
      ]
     },
     "metadata": {},
     "output_type": "display_data"
    },
    {
     "data": {
      "text/plain": [
       "[<matplotlib.lines.Line2D at 0x7fc81de50f70>]"
      ]
     },
     "execution_count": 64,
     "metadata": {},
     "output_type": "execute_result"
    }
   ],
   "source": [
    "plt.plot([5, 8, 2, 6, 1, 8, 2, 3, 4, 5, 6])"
   ]
  },
  {
   "cell_type": "markdown",
   "metadata": {
    "slideshow": {
     "slide_type": "slide"
    }
   },
   "source": [
    "But you should never create a plot that doesn't have labels on the x and y axes, and should always have a title. Read the documentation on matplotlib and add labels and a title to the plot above:\n",
    "\n",
    "http://matplotlib.org/api/pyplot_api.html\n",
    "\n",
    "While it is important to browse the documentation while working on your plots.  It'n not necessary to try to learn an remember the enourmous number of feature in a plotting package.  We'll introduce other plotting methods in later examples and it will be easy to reuse the examples to get started.  Then you can browse the relevant documentation to touch up your plots as needed."
   ]
  },
  {
   "cell_type": "markdown",
   "metadata": {
    "slideshow": {
     "slide_type": "slide"
    }
   },
   "source": [
    "**The beginning...**\n",
    "\n",
    "![](https://media.wired.com/photos/5d04105ef9dbefae17ec73c6/master/w_2400,c_limit/Shuttlecock_Universe_2880x1620_Lede-2880x1620.jpg)"
   ]
  },
  {
   "cell_type": "code",
   "execution_count": null,
   "metadata": {},
   "outputs": [],
   "source": []
  }
 ],
 "metadata": {
  "celltoolbar": "Slideshow",
  "kernelspec": {
   "display_name": "Python 3",
   "language": "python",
   "name": "python3"
  },
  "language_info": {
   "codemirror_mode": {
    "name": "ipython",
    "version": 3
   },
   "file_extension": ".py",
   "mimetype": "text/x-python",
   "name": "python",
   "nbconvert_exporter": "python",
   "pygments_lexer": "ipython3",
   "version": "3.8.5"
  }
 },
 "nbformat": 4,
 "nbformat_minor": 1
}
