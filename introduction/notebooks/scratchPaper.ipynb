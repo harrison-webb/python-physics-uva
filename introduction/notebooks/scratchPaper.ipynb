{
 "cells": [
  {
   "cell_type": "code",
   "execution_count": 19,
   "metadata": {},
   "outputs": [],
   "source": [
    "import ROOT as R\n",
    "from math import sin, cos, pi, radians, sqrt"
   ]
  },
  {
   "cell_type": "code",
   "execution_count": 41,
   "metadata": {},
   "outputs": [
    {
     "name": "stdout",
     "output_type": "stream",
     "text": [
      "force on q1: 63.19372359374999\n",
      "force on q2: 202.2199155\n",
      "force on q3: -265.41363909375\n"
     ]
    }
   ],
   "source": [
    "#Let the position of q2 be the origin of the above graph\n",
    "#All points right of q2 have an x coordinate X > 0\n",
    "#All points left of q2 have a y coordinate Y < 0\n",
    "\n",
    "k_CONST = 8.9875518e9 #Couloumb Constant in Nm^2 / C^2\n",
    "\n",
    "def get_distance(x1,y1,x2,y2):\n",
    "    return sqrt((x2-x1)**2 + (y2-y1)**2)\n",
    "\n",
    "def electrostatic_force_vector(charge1, charge2, x1, y1, x2, y2):\n",
    "    if x1 == x2 and y1 == y2:\n",
    "        return R.TVector3(0,0,0)\n",
    "    else:\n",
    "        unitVector = R.TVector3(x2-x1, y2-y1, 0).Unit()\n",
    "        magnitude = -1*k_CONST*charge1*charge2/(get_distance(x1,y1,x2,y2)**2)\n",
    "        return magnitude * unitVector\n",
    "    \n",
    "q1 = 12e-6 #12 microcoulombs\n",
    "q2 = -24e-6 #24 microcoulombs\n",
    "q3 = 36e-6 #36 microcoulombs\n",
    "d = .16 #16 cm\n",
    "\n",
    "v2_1 = electrostatic_force_vector(q1,q2,-1*d,0,0,0)\n",
    "v3_1 = electrostatic_force_vector(q1,q3,-1*d,0,d,0)\n",
    "\n",
    "v3_2 = electrostatic_force_vector(q2,q3,0,0,d,0) \n",
    "v1_2 = electrostatic_force_vector(q2,q1,0,0,-1*d,0)\n",
    "\n",
    "v1_3 = electrostatic_force_vector(q3,q1,d,0,-1*d,0)\n",
    "v2_3 = electrostatic_force_vector(q3,q2,d,0,0,0)\n",
    "\n",
    "result1 = v2_1 + v3_1\n",
    "result2 = v3_2 + v1_2\n",
    "result3 = v1_3 + v2_3\n",
    "\n",
    "print(\"force on q1:\", result1.X())\n",
    "print(\"force on q2:\", result2.X())\n",
    "print(\"force on q3:\", result3.X())"
   ]
  },
  {
   "cell_type": "code",
   "execution_count": 9,
   "metadata": {},
   "outputs": [
    {
     "name": "stdout",
     "output_type": "stream",
     "text": [
      "TVector3 A 3D physics vector (x,y,z)=(-0.547232,1.503508,0.000000) (rho,theta,phi)=(1.600000,90.000000,110.000000)\n"
     ]
    }
   ],
   "source": [
    "# Calculate components given angle and force\n",
    "# we need to import the trig functions for use below\n",
    "# ...\n",
    "# ...\n",
    "def get_components_2D(force, angleDegrees):\n",
    "    angleRadians = radians(angleDegrees)\n",
    "    x = force*cos(angleRadians)\n",
    "    y = force*sin(angleRadians)\n",
    "    return x,y,0\n",
    "\n",
    "f = 1.6 #Newtons\n",
    "angle = 110\n",
    "vec = R.TVector3(*get_components_2D(f,angle))\n",
    "vec.Print() #RESULT"
   ]
  },
  {
   "cell_type": "code",
   "execution_count": 21,
   "metadata": {},
   "outputs": [],
   "source": [
    "from ROOT import TVector3 as V3   # I'm going to be a little lazy about my typing!\n",
    "# here we make a list of location vectors and a list of charge values\n",
    "Positions = [V3(.1,.2,0),V3(.2,.4,0),V3(1,.2,0),V3(.7,-.2,0),V3(.4,0,0)]  # in meters\n",
    "Charges = [10,2,8,-4,12]   # in microcoulombs"
   ]
  },
  {
   "cell_type": "code",
   "execution_count": 22,
   "metadata": {},
   "outputs": [],
   "source": [
    "# let's define some symbols to make our prinout look nice below\n",
    "ihat='i\\u0302'\n",
    "jhat='j\\u0302'"
   ]
  },
  {
   "cell_type": "code",
   "execution_count": 23,
   "metadata": {},
   "outputs": [
    {
     "data": {
      "image/png": "[encoded data removed]",
      "text/plain": [
       "<Figure size 432x288 with 1 Axes>"
      ]
     },
     "metadata": {
      "needs_background": "light"
     },
     "output_type": "display_data"
    }
   ],
   "source": [
    "#matplotlib example\n",
    "import matplotlib.pyplot as plt\n",
    "import numpy as np\n",
    "x = np.empty(len(Positions)) \n",
    "y = np.empty(len(Positions))\n",
    "s = np.empty(len(Positions))\n",
    "c = []\n",
    "for i in range(len(Positions)): \n",
    "    x[i]=Positions[i].X()\n",
    "    y[i]=Positions[i].Y()\n",
    "    if Charges[i]<0: c.append(\"red\")\n",
    "    else: c.append(\"blue\")\n",
    "    s[i]=abs(Charges[i])*10\n",
    "    \n",
    "# Add titles (main and on axis)\n",
    "plt.xlabel(\"x-axis [m]\")\n",
    "plt.ylabel(\"y-axis [m]\")\n",
    "plt.title(\"Some charges - plotted with matplotlib\")\n",
    "plt.scatter(x, y, s, c);     # the optional ; here is a trick to suppress an output message from the plotter"
   ]
  },
  {
   "cell_type": "code",
   "execution_count": 39,
   "metadata": {},
   "outputs": [
    {
     "name": "stdout",
     "output_type": "stream",
     "text": [
      "F = -2.7215951571613215 î + 3.2351291201641965 ĵ\n",
      "TVector3 A 3D physics vector (x,y,z)=(-2.721595,3.235129,0.000000) (rho,theta,phi)=(4.227664,90.000000,130.072668)\n"
     ]
    }
   ],
   "source": [
    "# Calculation goes here\n",
    "# def electrostatic_force_vector(charge1, charge2, x1, y1, x2, y2):\n",
    "\n",
    "Positions = [V3(.1,.2,0),V3(.2,.4,0),V3(1,.2,0),V3(.7,-.2,0),V3(.4,0,0)]  # in meters\n",
    "Charges = [10,2,8,-4,12]   # in microcoulombs\n",
    "\n",
    "redX = 0.7\n",
    "redY = -0.2\n",
    "redCharge = -4 * 10**-6\n",
    "forceOnRedX = 0 #x component of total force on red\n",
    "forceOnRedY = 0 #y component of total force on red\n",
    "\n",
    "Charges = [x * 10**-6 for x in Charges] #convert microcoulombs to coulombs\n",
    "\n",
    "for point, charge in zip(Positions, Charges):\n",
    "    tempVector = electrostatic_force_vector(redCharge, charge, redX, redY, point.X(), point.Y())\n",
    "    forceOnRedX += tempVector.X()\n",
    "    forceOnRedY += tempVector.Y()\n",
    "    \n",
    "result = R.TVector3(forceOnRedX, forceOnRedY, 0)\n",
    "result.Print()\n",
    "    \n",
    "Fx= forceOnRedX\n",
    "Fy= forceOnRedY\n",
    "# ...\n",
    "# ...\n",
    "print(\"F =\",Fx,ihat,\"+\",Fy,jhat)  # use this print statement w/ the proper values added"
   ]
  },
  {
   "cell_type": "code",
   "execution_count": null,
   "metadata": {},
   "outputs": [],
   "source": []
  }
 ],
 "metadata": {
  "kernelspec": {
   "display_name": "PPDxP Env",
   "language": "python",
   "name": "ppdwp"
  },
  "language_info": {
   "codemirror_mode": {
    "name": "ipython",
    "version": 3
   },
   "file_extension": ".py",
   "mimetype": "text/x-python",
   "name": "python",
   "nbconvert_exporter": "python",
   "pygments_lexer": "ipython3",
   "version": "3.8.5"
  }
 },
 "nbformat": 4,
 "nbformat_minor": 4
}
