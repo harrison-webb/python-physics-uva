{
 "cells": [
  {
   "cell_type": "markdown",
   "metadata": {
    "slideshow": {
     "slide_type": "slide"
    }
   },
   "source": [
    "# Physical units and quantities\n",
    "\n",
    "Most intro physics course use the [System of Internation Units](https://en.wikipedia.org/wiki/International_System_of_Units) (SI) for making measurements.\n",
    "    \n",
    "[<div>\n",
    "<img src=\"https://upload.wikimedia.org/wikipedia/en/thumb/3/3c/SI_Illustration_Base_Units_and_Constants_Colour_Full.svg/528px-SI_Illustration_Base_Units_and_Constants_Colour_Full.svg.png\" width=\"200\" align=\"left\"/></div>](https://en.wikipedia.org/wiki/File:SI_Illustration_Base_Units_and_Constants_Colour_Full.svg)\n",
    " In the figure on the left the outer ring shows the indepentent quantities from which all others are defined.  The inner ring gives the physical constants that define the magnitude of the system of units.\n",
    "\n",
    "We will use a combination of SI and \"Particle Physics\" units which are based on a quantity called the [electronVolt](https://en.wikipedia.org/wiki/Electronvolt).\n",
    "<br><br>\n",
    "Below we'll review some *classical* definitions of physics quantities.  Some modifications are required for very fast moving systems ([special relativity](https://en.wikipedia.org/wiki/Special_relativity))."
   ]
  },
  {
   "cell_type": "markdown",
   "metadata": {
    "slideshow": {
     "slide_type": "slide"
    }
   },
   "source": [
    "## Energy\n",
    "We will view energy different ways:  \n",
    "* [Kinetic energy](https://en.wikipedia.org/wiki/Kinetic_energy): the energy of motion of an object $K=\\frac{1}{2}mv^2$, eg\n",
    "  * a speeding locomotive\n",
    "  * spinning wheel\n",
    "  * energy associated with radio waves, light, x rays, $\\gamma$ rays, etc\n",
    "* [Potential energy](https://en.wikipedia.org/wiki/Potential_energy): can be thought of as the energy available to do work, eg\n",
    "  * stetched springs\n",
    "  * a stone on the top of a hill\n",
    "  * energy stored in a battery (chemical potential)\n",
    "* [Rest Energy](https://en.wikipedia.org/wiki/Invariant_mass#Rest_energy): is the energy associated with mass, from the relation $E=mc^2$\n"
   ]
  },
  {
   "cell_type": "markdown",
   "metadata": {
    "slideshow": {
     "slide_type": "slide"
    }
   },
   "source": [
    "## Force\n",
    "From [Newton](https://en.wikipedia.org/wiki/Isaac_Newton): $(acceleration) = (force)/(mass) $ \n",
    "$~~~~~~ a = \\frac{F}{m}= \\frac{\\Delta v}{\\Delta t}$\n",
    "<br><br>\n",
    "\n",
    "<div><img style=\"float: left; padding: 20px 40px 0px 3px; \" src=\"img/Illustration_of_One_Newton.png\" width=\"250\" /></div>\n",
    "\n",
    "**Acceleration** is describes the (rate of) change in velocity, for constant acceleration:\n",
    "\n",
    "$velocity = acceleration \\times time$\n",
    "\n",
    "In SI units \n",
    "* $Force$ is given in $kg\\,m/s^2~~(newtons)$\n",
    "* $velocity$ is given in $m/s$ <br> eg how many meters are travelled in a second\n",
    "* $acceleration$ is given in $m/s^2$ <br> eg how much is the velocity de/increased per second\n"
   ]
  },
  {
   "cell_type": "markdown",
   "metadata": {
    "slideshow": {
     "slide_type": "slide"
    }
   },
   "source": [
    "## SI Units of energy\n",
    "Energy is measured in units of **Joules (J)** \n",
    "\n",
    "$1\\,J = 1\\,kg\\, m^2 / s^2$\n",
    "\n",
    "Let's analyze the dimensions:\n",
    "\n",
    "$kg\\, m^2 / s^2 = (kg\\, m/s^2) \\times (m) = (mass \\times acceleration)\\times (distance)$\n",
    "<br> $ = Force \\times distance = Work$"
   ]
  },
  {
   "cell_type": "markdown",
   "metadata": {
    "slideshow": {
     "slide_type": "slide"
    }
   },
   "source": [
    "## Momentum\n",
    "Momentum is $(mass) \\times (velocity), p = mv$\n",
    "\n",
    "Looking at the dimensions: $momentum = mass \\times distance / time = kg\\, m/s$\n",
    "\n",
    "Momentum squared has units: $kg^2\\, m^2 / s^2 = kg \\, J$ or we can write $E = \\frac{p^2}{m}$, this is kinetic energy."
   ]
  },
  {
   "cell_type": "markdown",
   "metadata": {
    "slideshow": {
     "slide_type": "slide"
    }
   },
   "source": [
    "## Work\n",
    "In its most basic defintion, **Work = Force x Distance**\n",
    "<br><br>\n",
    "\n",
    "\n",
    "<div>\n",
    "<img style=\"float: left; padding: 3px 10px 0px 3px;\" src=\"img/heavy_hard_work_hard.jpg\" width=\"400\" /></div>\n",
    "Move the rock and do some work.  \n",
    "\n",
    "Assuming no friction, all the work done on the rock adds to its kinetic energy.\n",
    "\n",
    "$E = work~done = \\frac{1}{2}mv^2 = \\frac{1}{2m}(mv)^2 = \\frac{p^2}{2m}$\n",
    "\n",
    "If we flip the problem and assume the rock is initially moving to the right, then work done by the person serves to slow down the rock.  What happens to the rock's kinetic energy in this case?"
   ]
  },
  {
   "cell_type": "markdown",
   "metadata": {
    "slideshow": {
     "slide_type": "slide"
    }
   },
   "source": [
    "## Conservation laws\n",
    "\n",
    "One powerful way to understand the physical universe is in terms of [conservation laws](https://en.wikipedia.org/wiki/Conservation_law) (and equivalently through [symmetries](https://en.wikipedia.org/wiki/Symmetry_%28physics%29)).\n",
    "\n",
    "Physical process are constrained by conservation laws, among the easiest to describe are:\n",
    "* [Conservation of energy](https://en.wikipedia.org/wiki/Conservation_of_energy)\n",
    "* [Conservation of momentum](https://en.wikipedia.org/wiki/Momentum#Conservation)\n",
    "  * In both of the above cases, we may consider linear motion or rotational motions\n",
    "* Conservation of electrical charge\n",
    "* Conservation of certain types of matter (particle number conservation)\n",
    "* ...\n",
    "\n",
    "These principals are used repeatedly to describe physics processes."
   ]
  },
  {
   "cell_type": "markdown",
   "metadata": {
    "slideshow": {
     "slide_type": "slide"
    }
   },
   "source": [
    "## There's nothing special about systems of units!\n",
    "We make measure things on units that are convient.  SI units are great for things like cars and boulders, but can become unweildy when dealing with subatomic diatances and particles, for exmaple:\n",
    "\n",
    "|    |    |\n",
    "| :- | :- |\n",
    "| Mass of electron | 9.11e-31 kg |\n",
    "| Binding energy of hydrogen | 2.18e-18 J |\n",
    "| Approximate size of proton | 10e-15 m |\n",
    "| electron charge            | -1.6e-19 C |\n",
    "\n",
    "Often, when describing properties and interactions of particles in subatomic physics, we take advantage of a more convenient set of units based on the [electronVolt](https://en.wikipedia.org/wiki/Electronvolt)."
   ]
  },
  {
   "cell_type": "markdown",
   "metadata": {
    "slideshow": {
     "slide_type": "slide"
    }
   },
   "source": [
    "## The electronVolt (eV)\n",
    "(from [hyperphysics](http://hyperphysics.phy-astr.gsu.edu/hbase/electric/ev.html))\n",
    "\n",
    "[<div>\n",
    "<img src=\"http://hyperphysics.phy-astr.gsu.edu/hbase/imgmod2/evdef.gif\" width=\"500\" align=\"left\"/></div>](http://hyperphysics.phy-astr.gsu.edu/hbase/electric/ev.html) The eV is based on the kinetic energy that an electron attains after being accelerated through a well defined electrical field.  Equivalently, you can think of the electron \"falling\" through a fixed electrical potential.  This is similar to a \"standard\" apple falling from a \"standard\" height branch of a tree.\n",
    "\n",
    "\n"
   ]
  },
  {
   "cell_type": "markdown",
   "metadata": {
    "slideshow": {
     "slide_type": "slide"
    }
   },
   "source": [
    "## A few words about electrical forces\n",
    "\n",
    "Coulomb’s law gives the force between two point charges: $F = k \\frac{|q_1||q_2|}{r^2}$,<br>\n",
    "where Coulumb's constant ($k$) = $8.99\\times 10^9 N\\,m^2/C^2$ <br> and $C$ is charge measured in units of Coulumbs = ~6.2e18 units of *fundamental* (eg electron) charge.\n",
    "\n",
    "The force is along the line connecting the charges, and is attractive if the charges are opposite, and repulsive if the charges are like.  \n",
    "\n",
    "Compare to gravity:\n",
    "$F = G \\frac{|m_1||m_2|}{r^2}$\n"
   ]
  },
  {
   "cell_type": "markdown",
   "metadata": {
    "slideshow": {
     "slide_type": "slide"
    }
   },
   "source": [
    "## The electronVolt (eV)\n",
    "\n",
    "Using the electron volt, we can more conveniently describe particle physics phenomena.  <br>\n",
    "1eV = 1.602e-19 Joules <br>\n",
    "1 keV = 10^3 eV, 1 MeV = 10^6 eV, 1 GeV = 10^9 eV, 1 TeV = 10^12 eV <br>\n",
    "And using [natural units](https://en.wikipedia.org/wiki/Natural_units) (eg, fundamental charge = 1, speed of light = 1)\n",
    "\n",
    "|    |    |\n",
    "| :- | :- |\n",
    "| Mass of electron | 511 keV/c^2 |\n",
    "| Binding energy of hydrogen | 13.6 eV |\n",
    "| electron charge            | -1 |\n",
    "\n",
    "- $mass=E/c^2$, but if we work in natural units with $c=1$, we can simply write $m_e = 511 keV$.\n",
    "- we can express distance/time in terms of these natural units as well, but this is less intuitive (eg $10^{-15} m = 5.07 GeV^{-1}$)"
   ]
  },
  {
   "cell_type": "markdown",
   "metadata": {
    "slideshow": {
     "slide_type": "slide"
    }
   },
   "source": [
    "## Python time! \n",
    "<div>\n",
    "<img style=\"float: left; padding: 3px 20px 0px 3px;\" src=\"img/green_python.jpg\" width=\"400\" /></div>\n",
    "\n",
    "The goal of the next exercises will be to start doing some calculations in Python and to learn a few plotting tools.\n",
    "\n",
    "As part of these exercises, we'll use some simple tools to simulate the motion of a particle under force.  \n",
    "\n",
    "We'll use simple, brute force calculations and will not need to rely on any advanced math or complicated numerical algorithms.   "
   ]
  },
  {
   "cell_type": "code",
   "execution_count": null,
   "metadata": {},
   "outputs": [],
   "source": []
  }
 ],
 "metadata": {
  "celltoolbar": "Slideshow",
  "kernelspec": {
   "display_name": "Python 3",
   "language": "python",
   "name": "python3"
  },
  "language_info": {
   "codemirror_mode": {
    "name": "ipython",
    "version": 3
   },
   "file_extension": ".py",
   "mimetype": "text/x-python",
   "name": "python",
   "nbconvert_exporter": "python",
   "pygments_lexer": "ipython3",
   "version": "3.8.5"
  }
 },
 "nbformat": 4,
 "nbformat_minor": 4
}
