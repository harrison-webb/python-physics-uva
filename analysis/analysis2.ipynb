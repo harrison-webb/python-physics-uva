{
 "cells": [
  {
   "cell_type": "markdown",
   "metadata": {},
   "source": [
    "# Analysis project 2\n",
    "\n",
    "Same teams as project 1\n",
    "\n",
    "Add your solution notebook(s) to the analysis1 git repo\n",
    "\n",
    "**Don't forget to update the README.md with team member names as in the previous projects.** \n",
    "\n",
    "Hopefully this can be completed in class today.  But we'll accept uploads on github up to 3pm Saturday."
   ]
  },
  {
   "cell_type": "code",
   "execution_count": 227,
   "metadata": {},
   "outputs": [],
   "source": [
    "import ROOT as R"
   ]
  },
  {
   "cell_type": "markdown",
   "metadata": {},
   "source": [
    "## A word on data analysis in the real world.\n",
    "\n",
    "### Signal and background\n",
    "\n",
    "No data set is perfectly measured or perfectly pure.  For example the figure below if from an [analysis](http://cms-results.web.cern.ch/cms-results/public-results/publications/SMP-13-004/index.html) designed to measure the production of $Z$ bosons by the CMS experiment.  Events with two electrons are selected and the mass formed by summing the 4-vectors of those electrons is shown.\n",
    "\n",
    "<CENTER><img src=\"http://cms-results.web.cern.ch/cms-results/public-results/publications/SMP-13-004/CMS-SMP-13-004_Figure_001.png\" style=\"width:30%\"></CENTER>\n",
    "\n",
    "Not all events with two electrons are from $Z$ decays.  In general there are numerous physical processes that can mimic any final state you choose to study.  For example the following process can produce an event with two electrons:\n",
    "* $Z\\to e^+e^-$\n",
    "* $W^\\pm Z\\to e^\\pm\\nu_e e^+e^-$ \n",
    "* $ZZ\\to 2 (or~4)$ electrons \n",
    "* $t\\bar t\\to W^+\\bar b + W^-b \\to e^+\\nu_e b + e^-\\bar\\nu_e\\bar b$  (dominant \"background\" process)\n",
    "* $W^+W^-\\to e^+\\nu_e + e^-\\bar\\nu_e$\n",
    "* $W^+W^-\\to \\tau^+\\nu_\\tau + \\tau^-\\bar\\nu_\\tau, \\tau^+\\to e^+\\nu_e, \\tau^-\\to e^-\\bar\\nu_e$\n",
    "* Various cases where some other object, like a jet is misidentified as an electron\n",
    "\n",
    "In the figure we can see that the yellow area is associated with background from top quark pair production.  Background events passing our selection criteria for signal need to be subtracted to make a proper signal measurement. \n",
    "\n",
    "If the background is well understood, we can model the it using a simulation and subtract the expected distribution from the data, after carefully calculating the proper normalization or by _fitting_ it to obtain the normalization from data.  A fitting proceedure can be used to simultaneously adjust the normalizations of BOTH signal and background to find an optimal representation of the data.  This approach is applied in the plot above.\n",
    "\n",
    "Here is a more complex example where numerous backgrounds are considered to be significant:\n",
    "<CENTER><img src=\"http://cms-results.web.cern.ch/cms-results/public-results/publications/SMP-19-011/CMS-SMP-19-011_Figure_001.png\" style=\"width:20%\">\n",
    "<img src=\"http://cms-results.web.cern.ch/cms-results/public-results/publications/SMP-19-011/CMS-SMP-19-011_Figure_004-c.png\" style=\"width:30%\">\n",
    "</CENTER>\n",
    "\n"
   ]
  },
  {
   "cell_type": "markdown",
   "metadata": {},
   "source": [
    "In some cases if the background is relatively smooth and not too quickly varying, we we estimate the background from an emperical fit.  This approach is adopted by ATLAS in to estimate the size of the Higgs boson peak inthe plot below.  The integral of the _background subtracted_ hitogram gives the number of observed Higgs bosons and can be used to estimate its producton rate.\n",
    "\n",
    "<CENTER><img src=\"http://opendata.atlas.cern/release/2020/documentation/physics/pictures/fig_12b.png\" style=\"width:30%\"></CENTER>\n",
    "\n",
    "As you can see here the signal is samall fraction of the total data.  But a small indication of a \"Higgs bump\" can be found if the background function is assumed to be smooth."
   ]
  },
  {
   "cell_type": "markdown",
   "metadata": {},
   "source": [
    "A proper background estimate, particularly in the presence of multiple backgrounds requires more technology that we have covered.  PArticle discover get even more interesting when some of the decay products are invisible!  But, we'll leave that for a future class and finish this JTERM with some other studies of signal reconstruction from visible particles!  "
   ]
  },
  {
   "cell_type": "markdown",
   "metadata": {},
   "source": [
    "# Project: Higgs to ZZ\n",
    "\n",
    "The Higgs boson has an extremely rich phenomonology.  Spend a few minutes reading over the short introduction [here](http://opendata.atlas.cern/release/2020/documentation/physics/the-higgs-boson.html.)\n",
    "\n",
    "The following two files contrain simulated Higgs boson events.  In each case the Higgs decays as $H\\to ZZ\\to 4~leptons$\n",
    "* /project/phys5630/opendata.cern/atlas-opendata/samples/2020/4lep/MC/mc_345060.ggH125_ZZ4lep.4lep.root\n",
    "* /project/phys5630/opendata.cern/atlas-opendata/samples/2020/4lep/MC/mc_344235.VBFH125_ZZ4lep.4lep.root\n",
    "\n",
    "For simplicity you can add the events from these two signal files to form your total signal sample used in the following study."
   ]
  },
  {
   "cell_type": "markdown",
   "metadata": {},
   "source": [
    "## 1. Reconstruct $m_H$ from the leptons \n",
    "If you are counting GeV's of mass when you think of the process $H\\to ZZ\\to 4\\ell$, you'll notice that $m_H\\simeq 125\\,GeV < 2m_Z\\simeq 182\\,GeV$!  Yes that's possible, nature is weird like that! One Z will be \"on-shell\" with a mass close to the expected value, while the other will be at a mass lower than expected for $m_Z$.  "
   ]
  },
  {
   "cell_type": "code",
   "execution_count": null,
   "metadata": {},
   "outputs": [],
   "source": []
  },
  {
   "cell_type": "markdown",
   "metadata": {},
   "source": [
    "## 2. Compare to ZZ to 4lepton sample\n",
    "Recall your study of the $ZZ\\to 4\\ell$ sample from yesterday.\n",
    "\n",
    "* /project/phys5630/opendata.cern/atlas-opendata/samples/2020/4lep/MC/mc_363490.llll.4lep.root\n",
    "\n",
    "Normalize this sample to the same number of events found in the $H\\to ZZ\\to 4\\ell$ sample.  And make a plot or plots to demonstrate how you might separate the __continuous__ $ZZ$ background from the __resonant__ $H\\to ZZ$ signal."
   ]
  },
  {
   "cell_type": "code",
   "execution_count": null,
   "metadata": {},
   "outputs": [],
   "source": []
  },
  {
   "cell_type": "markdown",
   "metadata": {},
   "source": [
    "## 3. Compare ZZ to gamma gamma (photons) channel\n",
    "\n",
    "Finally the following file contains simulated events for the process $H\\to\\gamma\\gamma$\n",
    "\n",
    "* /project/phys5630/opendata.cern/atlas-opendata/samples/2020/GamGam/MC/mc_343981.ggH125_gamgam.GamGam.root\n",
    "\n",
    "How does the resolution of your mass reconstruction for $H\\to\\gamma\\gamma$ commpare to the 4 lepton channel?"
   ]
  },
  {
   "cell_type": "code",
   "execution_count": null,
   "metadata": {},
   "outputs": [],
   "source": []
  }
 ],
 "metadata": {
  "kernelspec": {
   "display_name": "PPDxP Env",
   "language": "python",
   "name": "ppdwp"
  },
  "language_info": {
   "codemirror_mode": {
    "name": "ipython",
    "version": 3
   },
   "file_extension": ".py",
   "mimetype": "text/x-python",
   "name": "python",
   "nbconvert_exporter": "python",
   "pygments_lexer": "ipython3",
   "version": "3.8.5"
  }
 },
 "nbformat": 4,
 "nbformat_minor": 4
}
