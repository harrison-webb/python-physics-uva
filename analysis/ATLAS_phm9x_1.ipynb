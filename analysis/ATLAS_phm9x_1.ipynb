{
 "cells": [
  {
   "cell_type": "markdown",
   "metadata": {},
   "source": [
    "The following is a heavily annotated and extended version of the introductory notebook from the ATLAS experiment's [open data notebooks](http://opendata.atlas.cern/release/2020/documentation/notebooks/intro.html)\n",
    "\n",
    "The ATLAS most current open data can be browsed [here](http://opendata.atlas.cern/release/2020/documentation/datasets/files.html).  Brief descriptions of the variables are described in the [ATLAS open data note](http://opendata.atlas.cern/release/2020/documentation/datasets/dataset13.html)\\*.\n",
    "\n",
    "Some background on analysis topics with the ATLAS data sets: http://opendata.atlas.cern/books/current/get-started/_book/analyses.html\n",
    "\n",
    "Direct link to ATLAS 2020 open data samples: https://atlas-opendata.web.cern.ch/atlas-opendata/samples/2020/"
   ]
  },
  {
   "cell_type": "markdown",
   "metadata": {},
   "source": [
    "# A simple introductional notebook to HEP analysis in python\n",
    "<p> In this notebook you can find an easy set of commands that show the basic computing techniques commonly used in high energy  physics (HEP) analyzes. It also shows how to create a histogram, fill it and draw it. Moreover it is an introduction to [ROOT](https://root.cern.ch/) too. At the end you get a plot with the number of leptons.</p>\n",
    "\n",
    "\n",
    "<CENTER><h1>Simple pyROOT notebook example</h1></CENTER>"
   ]
  },
  {
   "cell_type": "markdown",
   "metadata": {},
   "source": [
    "The library used is ROOT - a scientific software framework that provides all the functionalities needed to deal with big data processing, statistical analysis, visualisation and storage.\n",
    "\n",
    "First of all ROOT is imported to read the files in the _.root_ data format. A _.root_ file consists of a tree having branches and leaves. At this point you could also import further programs that contain other formulas that you maybe use more often. But here we don't import other programs to keep it simple."
   ]
  },
  {
   "cell_type": "code",
   "execution_count": 1,
   "metadata": {},
   "outputs": [
    {
     "name": "stdout",
     "output_type": "stream",
     "text": [
      "Welcome to JupyROOT 6.22/02\n"
     ]
    }
   ],
   "source": [
    "import ROOT as R"
   ]
  },
  {
   "cell_type": "markdown",
   "metadata": {},
   "source": [
    "### The following analysis is searching for events where [Z bosons](https://en.wikipedia.org/wiki/W_and_Z_bosons) decay to two leptons of same flavour and opposite charge (to be seen for example in the [Feynman diagram](https://en.wikipedia.org/wiki/Feynman_diagram))."
   ]
  },
  {
   "cell_type": "markdown",
   "metadata": {},
   "source": [
    "<CENTER><img src=\"images/Z_ElectronPositron.png\" style=\"width:30%\"></CENTER>\n",
    "\n",
    "\n",
    "### Definitions\n",
    "**Derived data** sets are made by scanning the runs and collecting events that match some requirement, eg \"has an electron an a position\", \"has a pair of photons\", \"looks like it might contain a top quark\", etc.\n",
    "\n",
    "**Simulated** or **Monte Carlo (MC)** data mimic the real data and are stored in identical formats.  It is possible to perform an analysis on MC data sets to determine how some real physics may look in the detector. Also MC is use to model known physical proceses, then data can be compared to these known processes to look for anomolies or signatures of new or rare particles or types of interactions.  "
   ]
  },
  {
   "cell_type": "markdown",
   "metadata": {},
   "source": [
    "Next we have to open the data that we want to analyze. As described above the data is stored in a _*.root_ file.\n",
    "\n",
    "Below we open an MC file with generated $Z\\to e^+e^-$ events, so they should not be too hard to find!"
   ]
  },
  {
   "cell_type": "code",
   "execution_count": 2,
   "metadata": {},
   "outputs": [],
   "source": [
    "## 8 TeV sample\n",
    "#fMC = R.TFile.Open(\"http://opendata.atlas.cern/release/samples/MC/mc_105987.WZ.root\") \n",
    "#fMC = R.TFile(\"/project/phys5630/opendata.cern/atlas/release/samples/MC/mc_105987.WZ.root\") # local copy\n",
    "# 13 TeV data\n",
    "#fMC = R.TFile.Open(\"http://opendata.cern.ch/eos/opendata/atlas/OutreachDatasets/2020-01-22/2lep/MC/mc_361106.Zee.2lep.root\")\n",
    "fMC = R.TFile(\"/project/phys5630/opendata.cern/atlas-opendata/samples/2020/2lep/MC/mc_361106.Zee.2lep.root\")"
   ]
  },
  {
   "cell_type": "markdown",
   "metadata": {},
   "source": [
    "Let's look at the file we just opened.  We can see that it contains an object of type [TTree](https://root.cern.ch/doc/master/classTTree.html) named \"mini\".  "
   ]
  },
  {
   "cell_type": "code",
   "execution_count": 3,
   "metadata": {},
   "outputs": [
    {
     "name": "stdout",
     "output_type": "stream",
     "text": [
      "TFile**\t\t/project/phys5630/opendata.cern/atlas-opendata/samples/2020/2lep/MC/mc_361106.Zee.2lep.root\t\n",
      " TFile*\t\t/project/phys5630/opendata.cern/atlas-opendata/samples/2020/2lep/MC/mc_361106.Zee.2lep.root\t\n",
      "  KEY: TTree\tmini;1\tmini\n"
     ]
    }
   ],
   "source": [
    "fMC.ls()"
   ]
  },
  {
   "cell_type": "markdown",
   "metadata": {},
   "source": [
    "The TTree is a very flexible data container that is used to store event-based data in high energy physics.  The idea of an event is that each time a particle collision occurs, that's an event!  Each event has a data record, representing the signals measured in the detector.  And a TTree is a collection of data records.  Beams are collided for periods of time called **runs** and one or more data files may be used to hold the data from a run."
   ]
  },
  {
   "cell_type": "markdown",
   "metadata": {},
   "source": [
    "We can \"fetch\" objects from a ROOT TFile by name.  To fetch the TTree, use the TFile::Get method:"
   ]
  },
  {
   "cell_type": "code",
   "execution_count": 4,
   "metadata": {
    "scrolled": true
   },
   "outputs": [
    {
     "name": "stdout",
     "output_type": "stream",
     "text": [
      "******************************************************************************\n",
      "*Tree    :mini      : mini                                                   *\n",
      "*Entries : 21848524 : Total =     21539558986 bytes  File  Size = 4629800030 *\n",
      "*        :          : Tree compression factor =   4.65                       *\n",
      "******************************************************************************\n",
      "*Br    0 :runNumber : runNumber/I                                            *\n",
      "*Entries : 21848524 : Total  Size=   87409785 bytes  File Size  =     440648 *\n",
      "*Baskets :      152 : Basket Size=    1921536 bytes  Compression= 198.19     *\n",
      "*............................................................................*\n",
      "*Br    1 :eventNumber : eventNumber/I                                        *\n",
      "*Entries : 21848524 : Total  Size=   87410101 bytes  File Size  =   52755919 *\n",
      "*Baskets :      152 : Basket Size=    1921536 bytes  Compression=   1.66     *\n",
      "*............................................................................*\n",
      "*Br    2 :channelNumber : channelNumber/I                                    *\n",
      "*Entries : 21848524 : Total  Size=   87410417 bytes  File Size  =     441256 *\n",
      "*Baskets :      152 : Basket Size=    1921536 bytes  Compression= 197.92     *\n",
      "*............................................................................*\n",
      "*Br    3 :mcWeight  : mcWeight/F                                             *\n",
      "*Entries : 21848524 : Total  Size=   87409627 bytes  File Size  =   10776306 *\n",
      "*Baskets :      152 : Basket Size=    1921536 bytes  Compression=   8.10     *\n",
      "*............................................................................*\n",
      "*Br    4 :scaleFactor_PILEUP : scaleFactor_PILEUP/F                          *\n",
      "*Entries : 21848524 : Total  Size=   87411207 bytes  File Size  =   17991527 *\n",
      "*Baskets :      152 : Basket Size=    1921536 bytes  Compression=   4.85     *\n",
      "*............................................................................*\n",
      "*Br    5 :scaleFactor_ELE : scaleFactor_ELE/F                                *\n",
      "*Entries : 21848524 : Total  Size=   87410733 bytes  File Size  =   54418055 *\n",
      "*Baskets :      152 : Basket Size=    1921536 bytes  Compression=   1.60     *\n",
      "*............................................................................*\n",
      "*Br    6 :scaleFactor_MUON : scaleFactor_MUON/F                              *\n",
      "*Entries : 21848524 : Total  Size=   87410891 bytes  File Size  =    1212046 *\n",
      "*Baskets :      152 : Basket Size=    1921536 bytes  Compression=  72.06     *\n",
      "*............................................................................*\n",
      "*Br    7 :scaleFactor_PHOTON : scaleFactor_PHOTON/F                          *\n",
      "*Entries : 21848524 : Total  Size=   87411207 bytes  File Size  =     441712 *\n",
      "*Baskets :      152 : Basket Size=    1921536 bytes  Compression= 197.72     *\n",
      "*............................................................................*\n",
      "*Br    8 :scaleFactor_TAU : scaleFactor_TAU/F                                *\n",
      "*Entries : 21848524 : Total  Size=   87410733 bytes  File Size  =     441256 *\n",
      "*Baskets :      152 : Basket Size=    1921536 bytes  Compression= 197.92     *\n",
      "*............................................................................*\n",
      "*Br    9 :scaleFactor_BTAG : scaleFactor_BTAG/F                              *\n",
      "*Entries : 21848524 : Total  Size=   87410891 bytes  File Size  =   35841767 *\n",
      "*Baskets :      152 : Basket Size=    1921536 bytes  Compression=   2.44     *\n",
      "*............................................................................*\n",
      "*Br   10 :scaleFactor_LepTRIGGER : scaleFactor_LepTRIGGER/F                  *\n",
      "*Entries : 21848524 : Total  Size=   87411839 bytes  File Size  =   35184372 *\n",
      "*Baskets :      152 : Basket Size=    1921536 bytes  Compression=   2.48     *\n",
      "*............................................................................*\n",
      "*Br   11 :scaleFactor_PhotonTRIGGER : scaleFactor_PhotonTRIGGER/F            *\n",
      "*Entries : 21848524 : Total  Size=   87412313 bytes  File Size  =     442776 *\n",
      "*Baskets :      152 : Basket Size=    1921536 bytes  Compression= 197.25     *\n",
      "*............................................................................*\n",
      "*Br   12 :trigE     : trigE/O                                                *\n",
      "*Entries : 21848524 : Total  Size=   21921751 bytes  File Size  =     174819 *\n",
      "*Baskets :      758 : Basket Size=      30208 bytes  Compression= 125.19     *\n",
      "*............................................................................*\n",
      "*Br   13 :trigM     : trigM/O                                                *\n",
      "*Entries : 21848524 : Total  Size=   21921751 bytes  File Size  =     175117 *\n",
      "*Baskets :      758 : Basket Size=      30208 bytes  Compression= 124.97     *\n",
      "*............................................................................*\n",
      "*Br   14 :trigP     : trigP/O                                                *\n",
      "*Entries : 21848524 : Total  Size=   21921751 bytes  File Size  =     173835 *\n",
      "*Baskets :      758 : Basket Size=      30208 bytes  Compression= 125.90     *\n",
      "*............................................................................*\n",
      "*Br   15 :lep_n     : lep_n/i                                                *\n",
      "*Entries : 21848524 : Total  Size=   87409153 bytes  File Size  =     947219 *\n",
      "*Baskets :      152 : Basket Size=    1921536 bytes  Compression=  92.20     *\n",
      "*............................................................................*\n",
      "*Br   16 :lep_truthMatched : vector<bool>                                    *\n",
      "*Entries : 21848524 : Total  Size=  349726412 bytes  File Size  =   38843281 *\n",
      "*Baskets :      152 : Basket Size=    3070464 bytes  Compression=   9.00     *\n",
      "*............................................................................*\n",
      "*Br   17 :lep_trigMatched : vector<bool>                                     *\n",
      "*Entries : 21848524 : Total  Size=  349726254 bytes  File Size  =   48128978 *\n",
      "*Baskets :      152 : Basket Size=    3070464 bytes  Compression=   7.26     *\n",
      "*............................................................................*\n",
      "*Br   18 :lep_pt    : vector<float>                                          *\n",
      "*Entries : 21848524 : Total  Size=  481227963 bytes  File Size  =  213192171 *\n",
      "*Baskets :      304 : Basket Size=    3070464 bytes  Compression=   2.26     *\n",
      "*............................................................................*\n",
      "*Br   19 :lep_eta   : vector<float>                                          *\n",
      "*Entries : 21848524 : Total  Size=  481228273 bytes  File Size  =  225885698 *\n",
      "*Baskets :      304 : Basket Size=    3070464 bytes  Compression=   2.13     *\n",
      "*............................................................................*\n",
      "*Br   20 :lep_phi   : vector<float>                                          *\n",
      "*Entries : 21848524 : Total  Size=  481228273 bytes  File Size  =  225795851 *\n",
      "*Baskets :      304 : Basket Size=    3070464 bytes  Compression=   2.13     *\n",
      "*............................................................................*\n",
      "*Br   21 :lep_E     : vector<float>                                          *\n",
      "*Entries : 21848524 : Total  Size=  481227653 bytes  File Size  =  216778625 *\n",
      "*Baskets :      304 : Basket Size=    3070464 bytes  Compression=   2.22     *\n",
      "*............................................................................*\n",
      "*Br   22 :lep_z0    : vector<float>                                          *\n",
      "*Entries : 21848524 : Total  Size=  481227963 bytes  File Size  =  198806600 *\n",
      "*Baskets :      304 : Basket Size=    3070464 bytes  Compression=   2.42     *\n",
      "*............................................................................*\n",
      "*Br   23 :lep_charge : vector<int>                                           *\n",
      "*Entries : 21848524 : Total  Size=  481229203 bytes  File Size  =   53771216 *\n",
      "*Baskets :      304 : Basket Size=    3070464 bytes  Compression=   8.94     *\n",
      "*............................................................................*\n",
      "*Br   24 :lep_type  : vector<unsigned int>                                   *\n",
      "*Entries : 21848524 : Total  Size=  481228583 bytes  File Size  =   37513291 *\n",
      "*Baskets :      304 : Basket Size=    3070464 bytes  Compression=  12.82     *\n",
      "*............................................................................*\n",
      "*Br   25 :lep_isTightID : vector<bool>                                       *\n",
      "*Entries : 21848524 : Total  Size=  349725938 bytes  File Size  =   45561790 *\n",
      "*Baskets :      152 : Basket Size=    3070464 bytes  Compression=   7.67     *\n",
      "*............................................................................*\n",
      "*Br   26 :lep_ptcone30 : vector<float>                                       *\n",
      "*Entries : 21848524 : Total  Size=  481229823 bytes  File Size  =   81487852 *\n",
      "*Baskets :      304 : Basket Size=    3070464 bytes  Compression=   5.90     *\n",
      "*............................................................................*\n",
      "*Br   27 :lep_etcone20 : vector<float>                                       *\n",
      "*Entries : 21848524 : Total  Size=  481229823 bytes  File Size  =  226157301 *\n",
      "*Baskets :      304 : Basket Size=    3070464 bytes  Compression=   2.13     *\n",
      "*............................................................................*\n",
      "*Br   28 :lep_trackd0pvunbiased : vector<float>                              *\n",
      "*Entries : 21848524 : Total  Size=  481232613 bytes  File Size  =  226603096 *\n",
      "*Baskets :      304 : Basket Size=    3070464 bytes  Compression=   2.12     *\n",
      "*............................................................................*\n",
      "*Br   29 :lep_tracksigd0pvunbiased : vector<float>                           *\n",
      "*Entries : 21848524 : Total  Size=  481233543 bytes  File Size  =  222029942 *\n",
      "*Baskets :      304 : Basket Size=    3070464 bytes  Compression=   2.17     *\n",
      "*............................................................................*\n",
      "*Br   30 :met_et    : met_et/f                                               *\n",
      "*Entries : 21848524 : Total  Size=   87409311 bytes  File Size  =   78677602 *\n",
      "*Baskets :      152 : Basket Size=    1921536 bytes  Compression=   1.11     *\n",
      "*............................................................................*\n",
      "*Br   31 :met_phi   : met_phi/f                                              *\n",
      "*Entries : 21848524 : Total  Size=   87409469 bytes  File Size  =   80939503 *\n",
      "*Baskets :      152 : Basket Size=    1921536 bytes  Compression=   1.08     *\n",
      "*............................................................................*\n",
      "*Br   32 :jet_n     : jet_n/i                                                *\n",
      "*Entries : 21848524 : Total  Size=   87409153 bytes  File Size  =   11523007 *\n",
      "*Baskets :      152 : Basket Size=    1921536 bytes  Compression=   7.58     *\n",
      "*............................................................................*\n",
      "*Br   33 :jet_pt    : vector<float>                                          *\n",
      "*Entries : 21848524 : Total  Size=  354792919 bytes  File Size  =  114052959 *\n",
      "*Baskets :      152 : Basket Size=    3070464 bytes  Compression=   3.11     *\n",
      "*............................................................................*\n",
      "*Br   34 :jet_eta   : vector<float>                                          *\n",
      "*Entries : 21848524 : Total  Size=  354793077 bytes  File Size  =  117146853 *\n",
      "*Baskets :      152 : Basket Size=    3070464 bytes  Compression=   3.03     *\n",
      "*............................................................................*\n",
      "*Br   35 :jet_phi   : vector<float>                                          *\n",
      "*Entries : 21848524 : Total  Size=  354793077 bytes  File Size  =  117245619 *\n",
      "*Baskets :      152 : Basket Size=    3070464 bytes  Compression=   3.02     *\n",
      "*............................................................................*\n",
      "*Br   36 :jet_E     : vector<float>                                          *\n",
      "*Entries : 21848524 : Total  Size=  354792761 bytes  File Size  =  114706711 *\n",
      "*Baskets :      152 : Basket Size=    3070464 bytes  Compression=   3.09     *\n",
      "*............................................................................*\n",
      "*Br   37 :jet_jvt   : vector<float>                                          *\n",
      "*Entries : 21848524 : Total  Size=  354793077 bytes  File Size  =  108194361 *\n",
      "*Baskets :      152 : Basket Size=    3070464 bytes  Compression=   3.28     *\n",
      "*............................................................................*\n",
      "*Br   38 :jet_trueflav : vector<int>                                         *\n",
      "*Entries : 21848524 : Total  Size=  354793867 bytes  File Size  =   62972263 *\n",
      "*Baskets :      152 : Basket Size=    3070464 bytes  Compression=   5.63     *\n",
      "*............................................................................*\n",
      "*Br   39 :jet_truthMatched : vector<bool>                                    *\n",
      "*Entries : 21848524 : Total  Size=  318121641 bytes  File Size  =   58954020 *\n",
      "*Baskets :      152 : Basket Size=    3070464 bytes  Compression=   5.39     *\n",
      "*............................................................................*\n",
      "*Br   40 :jet_MV2c10 : vector<float>                                         *\n",
      "*Entries : 21848524 : Total  Size=  354793551 bytes  File Size  =  114064427 *\n",
      "*Baskets :      152 : Basket Size=    3070464 bytes  Compression=   3.11     *\n",
      "*............................................................................*\n",
      "*Br   41 :photon_n  : photon_n/i                                             *\n",
      "*Entries : 21848524 : Total  Size=   87409627 bytes  File Size  =     397024 *\n",
      "*Baskets :      152 : Basket Size=    1921536 bytes  Compression= 219.97     *\n",
      "*............................................................................*\n",
      "*Br   42 :photon_truthMatched : vector<bool>                                 *\n",
      "*Entries : 21848524 : Total  Size=  305897829 bytes  File Size  =   31565536 *\n",
      "*Baskets :      152 : Basket Size=    3070464 bytes  Compression=   9.68     *\n",
      "*............................................................................*\n",
      "*Br   43 :photon_trigMatched : vector<bool>                                  *\n",
      "*Entries : 21848524 : Total  Size=  305897671 bytes  File Size  =   31641080 *\n",
      "*Baskets :      152 : Basket Size=    3070464 bytes  Compression=   9.66     *\n",
      "*............................................................................*\n",
      "*Br   44 :photon_pt : vector<float>                                          *\n",
      "*Entries : 21848524 : Total  Size=  305896249 bytes  File Size  =   31564320 *\n",
      "*Baskets :      152 : Basket Size=    3070464 bytes  Compression=   9.68     *\n",
      "*............................................................................*\n",
      "*Br   45 :photon_eta : vector<float>                                         *\n",
      "*Entries : 21848524 : Total  Size=  305896407 bytes  File Size  =   31643664 *\n",
      "*Baskets :      152 : Basket Size=    3070464 bytes  Compression=   9.66     *\n",
      "*............................................................................*\n",
      "*Br   46 :photon_phi : vector<float>                                         *\n",
      "*Entries : 21848524 : Total  Size=  305896407 bytes  File Size  =   31643664 *\n",
      "*Baskets :      152 : Basket Size=    3070464 bytes  Compression=   9.66     *\n",
      "*............................................................................*\n",
      "*Br   47 :photon_E  : vector<float>                                          *\n",
      "*Entries : 21848524 : Total  Size=  305896091 bytes  File Size  =   31639408 *\n",
      "*Baskets :      152 : Basket Size=    3070464 bytes  Compression=   9.66     *\n",
      "*............................................................................*\n",
      "*Br   48 :photon_isTightID : vector<bool>                                    *\n",
      "*Entries : 21848524 : Total  Size=  305897355 bytes  File Size  =   31641080 *\n",
      "*Baskets :      152 : Basket Size=    3070464 bytes  Compression=   9.66     *\n",
      "*............................................................................*\n",
      "*Br   49 :photon_ptcone30 : vector<float>                                    *\n",
      "*Entries : 21848524 : Total  Size=  305897197 bytes  File Size  =   31565536 *\n",
      "*Baskets :      152 : Basket Size=    3070464 bytes  Compression=   9.68     *\n",
      "*............................................................................*\n",
      "*Br   50 :photon_etcone20 : vector<float>                                    *\n",
      "*Entries : 21848524 : Total  Size=  305897197 bytes  File Size  =   31565536 *\n",
      "*Baskets :      152 : Basket Size=    3070464 bytes  Compression=   9.68     *\n",
      "*............................................................................*\n",
      "*Br   51 :photon_convType : vector<int>                                      *\n",
      "*Entries : 21848524 : Total  Size=  305897197 bytes  File Size  =   31565536 *\n",
      "*Baskets :      152 : Basket Size=    3070464 bytes  Compression=   9.68     *\n",
      "*............................................................................*\n",
      "*Br   52 :tau_n     : tau_n/i                                                *\n",
      "*Entries : 21848524 : Total  Size=   87409153 bytes  File Size  =     396568 *\n",
      "*Baskets :      152 : Basket Size=    1921536 bytes  Compression= 220.22     *\n",
      "*............................................................................*\n",
      "*Br   53 :tau_pt    : vector<float>                                          *\n",
      "*Entries : 21848524 : Total  Size=  305895775 bytes  File Size  =   31640016 *\n",
      "*Baskets :      152 : Basket Size=    3070464 bytes  Compression=   9.66     *\n",
      "*............................................................................*\n",
      "*Br   54 :tau_eta   : vector<float>                                          *\n",
      "*Entries : 21848524 : Total  Size=  305895933 bytes  File Size  =   31564168 *\n",
      "*Baskets :      152 : Basket Size=    3070464 bytes  Compression=   9.68     *\n",
      "*............................................................................*\n",
      "*Br   55 :tau_phi   : vector<float>                                          *\n",
      "*Entries : 21848524 : Total  Size=  305895933 bytes  File Size  =   31564168 *\n",
      "*Baskets :      152 : Basket Size=    3070464 bytes  Compression=   9.68     *\n",
      "*............................................................................*\n",
      "*Br   56 :tau_E     : vector<float>                                          *\n",
      "*Entries : 21848524 : Total  Size=  305895617 bytes  File Size  =   31564320 *\n",
      "*Baskets :      152 : Basket Size=    3070464 bytes  Compression=   9.68     *\n",
      "*............................................................................*\n",
      "*Br   57 :tau_isTightID : vector<bool>                                       *\n",
      "*Entries : 21848524 : Total  Size=  305896993 bytes  File Size  =   31566169 *\n",
      "*Baskets :      153 : Basket Size=    3070464 bytes  Compression=   9.68     *\n",
      "*............................................................................*\n",
      "*Br   58 :tau_truthMatched : vector<bool>                                    *\n",
      "*Entries : 21848524 : Total  Size=  305897470 bytes  File Size  =   31642089 *\n",
      "*Baskets :      153 : Basket Size=    3070464 bytes  Compression=   9.66     *\n",
      "*............................................................................*\n",
      "*Br   59 :tau_trigMatched : vector<bool>                                     *\n",
      "*Entries : 21848524 : Total  Size=  305897311 bytes  File Size  =   31566640 *\n",
      "*Baskets :      153 : Basket Size=    3070464 bytes  Compression=   9.68     *\n",
      "*............................................................................*\n",
      "*Br   60 :tau_nTracks : vector<int>                                          *\n",
      "*Entries : 21848524 : Total  Size=  305896675 bytes  File Size  =   31565545 *\n",
      "*Baskets :      153 : Basket Size=    3070464 bytes  Compression=   9.68     *\n",
      "*............................................................................*\n",
      "*Br   61 :tau_BDTid : vector<float>                                          *\n",
      "*Entries : 21848524 : Total  Size=  305896357 bytes  File Size  =   31565393 *\n",
      "*Baskets :      153 : Basket Size=    3070464 bytes  Compression=   9.68     *\n",
      "*............................................................................*\n",
      "*Br   62 :ditau_m   : ditau_m/F                                              *\n",
      "*Entries : 21848524 : Total  Size=   87439555 bytes  File Size  =     429869 *\n",
      "*Baskets :      459 : Basket Size=     245248 bytes  Compression= 203.22     *\n",
      "*............................................................................*\n",
      "*Br   63 :lep_pt_syst : vector<float>                                        *\n",
      "*Entries : 21848524 : Total  Size=  481229623 bytes  File Size  =  220289444 *\n",
      "*Baskets :      305 : Basket Size=    3070464 bytes  Compression=   2.18     *\n",
      "*............................................................................*\n",
      "*Br   64 :met_et_syst : met_et_syst/F                                        *\n",
      "*Entries : 21848524 : Total  Size=   87441415 bytes  File Size  =   58262316 *\n",
      "*Baskets :      459 : Basket Size=     245248 bytes  Compression=   1.50     *\n",
      "*............................................................................*\n",
      "*Br   65 :jet_pt_syst : vector<float>                                        *\n",
      "*Entries : 21848524 : Total  Size=  354793819 bytes  File Size  =  114174380 *\n",
      "*Baskets :      153 : Basket Size=    3070464 bytes  Compression=   3.10     *\n",
      "*............................................................................*\n",
      "*Br   66 :photon_pt_syst : vector<float>                                     *\n",
      "*Entries : 21848524 : Total  Size=  305897152 bytes  File Size  =   31642234 *\n",
      "*Baskets :      153 : Basket Size=    3070464 bytes  Compression=   9.66     *\n",
      "*............................................................................*\n",
      "*Br   67 :tau_pt_syst : vector<float>                                        *\n",
      "*Entries : 21848524 : Total  Size=  305896675 bytes  File Size  =   31565545 *\n",
      "*Baskets :      153 : Basket Size=    3070464 bytes  Compression=   9.68     *\n",
      "*............................................................................*\n",
      "*Br   68 :XSection  : XSection/F                                             *\n",
      "*Entries : 21848524 : Total  Size=   87440020 bytes  File Size  =     475954 *\n",
      "*Baskets :      459 : Basket Size=     245248 bytes  Compression= 183.54     *\n",
      "*............................................................................*\n",
      "*Br   69 :SumWeights : SumWeights/F                                          *\n",
      "*Entries : 21848524 : Total  Size=   87440950 bytes  File Size  =     477482 *\n",
      "*Baskets :      459 : Basket Size=     245248 bytes  Compression= 182.95     *\n",
      "*............................................................................*\n",
      "*Br   70 :largeRjet_n : largeRjet_n/i                                        *\n",
      "*Entries : 21848524 : Total  Size=   87441415 bytes  File Size  =     431705 *\n",
      "*Baskets :      459 : Basket Size=     245248 bytes  Compression= 202.36     *\n",
      "*............................................................................*\n",
      "*Br   71 :largeRjet_pt : vector<float>                                       *\n",
      "*Entries : 21848524 : Total  Size=  305896834 bytes  File Size  =   31642079 *\n",
      "*Baskets :      153 : Basket Size=    3070464 bytes  Compression=   9.66     *\n",
      "*............................................................................*\n",
      "*Br   72 :largeRjet_eta : vector<float>                                      *\n",
      "*Entries : 21848524 : Total  Size=  305896993 bytes  File Size  =   31566169 *\n",
      "*Baskets :      153 : Basket Size=    3070464 bytes  Compression=   9.68     *\n",
      "*............................................................................*\n",
      "*Br   73 :largeRjet_phi : vector<float>                                      *\n",
      "*Entries : 21848524 : Total  Size=  305896993 bytes  File Size  =   31566169 *\n",
      "*Baskets :      153 : Basket Size=    3070464 bytes  Compression=   9.68     *\n",
      "*............................................................................*\n",
      "*Br   74 :largeRjet_E : vector<float>                                        *\n",
      "*Entries : 21848524 : Total  Size=  305896675 bytes  File Size  =   31565545 *\n",
      "*Baskets :      153 : Basket Size=    3070464 bytes  Compression=   9.68     *\n",
      "*............................................................................*\n",
      "*Br   75 :largeRjet_m : vector<float>                                        *\n",
      "*Entries : 21848524 : Total  Size=  305896675 bytes  File Size  =   31565545 *\n",
      "*Baskets :      153 : Basket Size=    3070464 bytes  Compression=   9.68     *\n",
      "*............................................................................*\n",
      "*Br   76 :largeRjet_truthMatched : vector<float>                             *\n",
      "*Entries : 21848524 : Total  Size=  305898424 bytes  File Size  =   31643308 *\n",
      "*Baskets :      153 : Basket Size=    3070464 bytes  Compression=   9.66     *\n",
      "*............................................................................*\n",
      "*Br   77 :largeRjet_D2 : vector<float>                                       *\n",
      "*Entries : 21848524 : Total  Size=  305896834 bytes  File Size  =   31642079 *\n",
      "*Baskets :      153 : Basket Size=    3070464 bytes  Compression=   9.66     *\n",
      "*............................................................................*\n",
      "*Br   78 :largeRjet_tau32 : vector<float>                                    *\n",
      "*Entries : 21848524 : Total  Size=  305897311 bytes  File Size  =   31566640 *\n",
      "*Baskets :      153 : Basket Size=    3070464 bytes  Compression=   9.68     *\n",
      "*............................................................................*\n",
      "*Br   79 :largeRjet_pt_syst : vector<float>                                  *\n",
      "*Entries : 21848524 : Total  Size=  305897629 bytes  File Size  =   31566649 *\n",
      "*Baskets :      153 : Basket Size=    3070464 bytes  Compression=   9.68     *\n",
      "*............................................................................*\n",
      "*Br   80 :tau_charge : vector<int>                                           *\n",
      "*Entries : 21848524 : Total  Size=  305896516 bytes  File Size  =   31644642 *\n",
      "*Baskets :      153 : Basket Size=    3070464 bytes  Compression=   9.66     *\n",
      "*............................................................................*\n"
     ]
    }
   ],
   "source": [
    "tree = fMC.Get(\"mini\")\n",
    "tree.Print()"
   ]
  },
  {
   "cell_type": "markdown",
   "metadata": {},
   "source": [
    "This tree contains ~80 \"Branches\" which can represent simple variables (floats, ints), composite objects like classes, arrays and vectors of these, etc.  The open data are deesigned to be easily accessible and use only simple data types and  arrays of these.  "
   ]
  },
  {
   "cell_type": "code",
   "execution_count": 5,
   "metadata": {},
   "outputs": [
    {
     "name": "stdout",
     "output_type": "stream",
     "text": [
      "mini contains 21848524 events\n"
     ]
    }
   ],
   "source": [
    "print(tree.GetName(),\"contains\",tree.GetEntries(),\"events\")"
   ]
  },
  {
   "cell_type": "markdown",
   "metadata": {},
   "source": [
    "This tree is kind of big.  We'll start making plots with a subset of the events below."
   ]
  },
  {
   "cell_type": "code",
   "execution_count": 6,
   "metadata": {},
   "outputs": [],
   "source": [
    "maxevents = 100000  # use 0 for all events"
   ]
  },
  {
   "cell_type": "markdown",
   "metadata": {},
   "source": [
    "After the data is opened we create a canvas on which we can draw a histogram. If we do not have a canvas we cannot see our histogram at the end. Its name is _Canvas_ and its header is _a first way to plot a variable_. The two following arguments define the width and the height of the canvas."
   ]
  },
  {
   "cell_type": "code",
   "execution_count": 7,
   "metadata": {},
   "outputs": [],
   "source": [
    "canvas = R.TCanvas(\"Canvas\",\"a first way to plot a variable\",800,600)"
   ]
  },
  {
   "cell_type": "markdown",
   "metadata": {},
   "source": [
    "Now we define a histogram ([TH1F](https://root.cern.ch/doc/master/classTH1F.html))\\* that will later be placed on this canvas. Its name is _variable_ and the header of the histogram is _Example plot: Number of leptons_. The three following arguments indicate that this histogram contains 4 so called bins which have a range from 0 to 4.\n",
    "\n",
    "\\*as with many ROOT classes, most of the documentation is part of the _base class_ description, that that is the [TH1](https://root.cern.ch/doc/master/classTH1.html) class."
   ]
  },
  {
   "cell_type": "code",
   "execution_count": 8,
   "metadata": {},
   "outputs": [],
   "source": [
    "h_lep_n = R.TH1F(\"variable\",\"Example plot: Number of leptons; Number of leptons ; Events \",5,-0.5,4.5)"
   ]
  },
  {
   "cell_type": "markdown",
   "metadata": {},
   "source": [
    "The following lines are a loop that goes over the data that is stored in the tree and fills the histogram that we already defined with the number of leptons found in each event.  In this first notebook we don't do any cuts to keep it simple. Accordingly the loop fills the histogram for each event stored in the tree. The variable _event_ provides an easy way to access all the variables in a given event.  We add a simple status counter below."
   ]
  },
  {
   "cell_type": "code",
   "execution_count": 9,
   "metadata": {},
   "outputs": [
    {
     "name": "stdout",
     "output_type": "stream",
     "text": [
      "10000\n",
      "20000\n",
      "30000\n",
      "40000\n",
      "50000\n",
      "60000\n",
      "70000\n",
      "80000\n",
      "90000\n",
      "100000\n"
     ]
    }
   ],
   "source": [
    "if maxevents>0: nstatus=maxevents/10\n",
    "count=0\n",
    "\n",
    "for event in tree:\n",
    "    h_lep_n.Fill(event.lep_n)\n",
    "    count=count+1\n",
    "    if count%nstatus==0: print(count)\n",
    "    if count>=maxevents: break "
   ]
  },
  {
   "cell_type": "markdown",
   "metadata": {},
   "source": [
    "There are a variety of ways to access the data in TTrees.  And the above method, which is similar to how this is done in compiled C++ code is rather inefficient in Python.  \n",
    "<center><h2>Python loops are slow!</h2></center>\n",
    "It is possible to map the TTree on to a set of numpy vectors, or a pandas data frame, or other objects optimized for use in Python.  Doing this effectively hides the loops from the Python code behind an interface that calls precompiled code.  That's OK for today.  Rather than introduce a potentially more abstract style of programming, we'll do this the old fashioned way in an attempt to make all of the operations as clear as possible.  "
   ]
  },
  {
   "cell_type": "markdown",
   "metadata": {},
   "source": [
    "After filling the histogram we want to see the results of the analysis. First we draw the histogram on the canvas and then the canvas on which the histogram lies."
   ]
  },
  {
   "cell_type": "code",
   "execution_count": 10,
   "metadata": {},
   "outputs": [],
   "source": [
    "h_lep_n.SetFillColor(R.kRed)\n",
    "h_lep_n.Draw()"
   ]
  },
  {
   "cell_type": "code",
   "execution_count": 11,
   "metadata": {},
   "outputs": [
    {
     "data": {
      "image/png": "[encoded data removed]",
      "text/plain": [
       "<IPython.core.display.Image object>"
      ]
     },
     "metadata": {},
     "output_type": "display_data"
    }
   ],
   "source": [
    "canvas.Draw()"
   ]
  },
  {
   "cell_type": "markdown",
   "metadata": {},
   "source": [
    "The next cell will rescale the histogram to one (1).\n",
    "This will allow to see proportions in the histogram itself.\n",
    "**This is called normalization**"
   ]
  },
  {
   "cell_type": "code",
   "execution_count": 12,
   "metadata": {},
   "outputs": [],
   "source": [
    "scale = h_lep_n.Integral()\n",
    "h_lep_n.Scale(1/scale)\n",
    "h_lep_n.SetFillColor(2)"
   ]
  },
  {
   "cell_type": "code",
   "execution_count": 13,
   "metadata": {},
   "outputs": [
    {
     "data": {
      "image/png": "[encoded data removed]",
      "text/plain": [
       "<IPython.core.display.Image object>"
      ]
     },
     "metadata": {},
     "output_type": "display_data"
    }
   ],
   "source": [
    "# ROOT feature: because we scaled the histogram, it will default to a drawing points with error bars\n",
    "# below we force the drawing to remain in the histogram/barchart style\n",
    "h_lep_n.Draw(\"hist\")  \n",
    "canvas.Draw()"
   ]
  },
  {
   "cell_type": "markdown",
   "metadata": {},
   "source": [
    "Great, but that's pretty unexciting.  We are looking at MC that is full of only $Z\\to ee$ events, so it's not surprising that almost all the events have ~2 leptons!   It is interesting that the RECONSTRUCTION of the SIMULATED data occasionally finds a third lepton.  This may or may not be a _good_ or _real_ lepton.   It could be an energy deposit from a charged hardron that was mistakenly identified by the electron or muon finding algorithm (both a leptons after all!).  Or it may be that a muon or electron was produced in some jet that accompanied the $Z$.  May it's a $\\tau$ or even a jet that fakes a $\\tau$.  Moral: you can't blindly trust any subatomic particle. :^)\n",
    "\n",
    "**Wait, what?** Didn't I tell you that this was an MC sample with only $Z\\to ee$?  Reality check: that almost never happens.  The protons that collide a bag of partons, so even if the most simple (or many possible) processes produced the $Z$, there's a good change some other quark(s)/gluon(s) got kicked out and made a jet(s).\n",
    "\n",
    "Here are some examples of what real $Z\\to 2\\,{\\rm{lepton}}$ candidates might look like.  \n",
    "* https://cds.cern.ch/record/2019370?ln=en\n",
    "* https://cds.cern.ch/record/1696939?ln=en"
   ]
  },
  {
   "cell_type": "markdown",
   "metadata": {},
   "source": [
    "## Let's explore the file some more\n",
    "\n",
    "For basic explorations, we'll use the [Draw](https://root.cern.ch/doc/master/classTTree.html#a73450649dc6e54b5b94516c468523e45) feature of the TTree.  This can be used to automatically generate histogram from branches and even apply selection criteria on which events are included in the histogram.  <br>\n",
    "```\tDraw (const char *varexp, const TCut &selection, Option_t *option=\"\", Long64_t nentries=kMaxEntries, Long64_t firstentry=0)```\n",
    "<br>\n",
    "See the examples that follow.  For very complicated calculations involving different variables in the event, we will will normally have to resort to an explicit loop over the events (C++ style) or strictly apply \"vector/columnwise programming\" techniques in Python with a few tricks.  By using the Draw method of the TTree, we will also \"hide\" the loop and be rewarded with better performance.  In it's most simple invocation, TTree::Draw will automatically define the bins of the histogram, which is called _htemp_.  We can also exert more control, of course!\n",
    "\n",
    "First, let's remake the plot above.  "
   ]
  },
  {
   "cell_type": "code",
   "execution_count": 14,
   "metadata": {},
   "outputs": [
    {
     "data": {
      "image/png": "[encoded data removed]",
      "text/plain": [
       "<IPython.core.display.Image object>"
      ]
     },
     "metadata": {},
     "output_type": "display_data"
    }
   ],
   "source": [
    "tree.Draw(\"lep_n\",\"\",\"\",maxevents)\n",
    "canvas.Draw()"
   ]
  },
  {
   "cell_type": "markdown",
   "metadata": {},
   "source": [
    "Let's look more closely at those leptons"
   ]
  },
  {
   "cell_type": "code",
   "execution_count": 15,
   "metadata": {},
   "outputs": [
    {
     "name": "stdout",
     "output_type": "stream",
     "text": [
      "******************************************************************************\n",
      "*Tree    :mini      : mini                                                   *\n",
      "*Entries : 21848524 : Total =     21539558986 bytes  File  Size = 4629800030 *\n",
      "*        :          : Tree compression factor =   4.65                       *\n",
      "******************************************************************************\n",
      "*Br    0 :lep_n     : lep_n/i                                                *\n",
      "*Entries : 21848524 : Total  Size=   87409153 bytes  File Size  =     947219 *\n",
      "*Baskets :      152 : Basket Size=    1921536 bytes  Compression=  92.20     *\n",
      "*............................................................................*\n",
      "*Br    1 :lep_truthMatched : vector<bool>                                    *\n",
      "*Entries : 21848524 : Total  Size=  349726412 bytes  File Size  =   38843281 *\n",
      "*Baskets :      152 : Basket Size=    3070464 bytes  Compression=   9.00     *\n",
      "*............................................................................*\n",
      "*Br    2 :lep_trigMatched : vector<bool>                                     *\n",
      "*Entries : 21848524 : Total  Size=  349726254 bytes  File Size  =   48128978 *\n",
      "*Baskets :      152 : Basket Size=    3070464 bytes  Compression=   7.26     *\n",
      "*............................................................................*\n",
      "*Br    3 :lep_pt    : vector<float>                                          *\n",
      "*Entries : 21848524 : Total  Size=  481227963 bytes  File Size  =  213192171 *\n",
      "*Baskets :      304 : Basket Size=    3070464 bytes  Compression=   2.26     *\n",
      "*............................................................................*\n",
      "*Br    4 :lep_eta   : vector<float>                                          *\n",
      "*Entries : 21848524 : Total  Size=  481228273 bytes  File Size  =  225885698 *\n",
      "*Baskets :      304 : Basket Size=    3070464 bytes  Compression=   2.13     *\n",
      "*............................................................................*\n",
      "*Br    5 :lep_phi   : vector<float>                                          *\n",
      "*Entries : 21848524 : Total  Size=  481228273 bytes  File Size  =  225795851 *\n",
      "*Baskets :      304 : Basket Size=    3070464 bytes  Compression=   2.13     *\n",
      "*............................................................................*\n",
      "*Br    6 :lep_E     : vector<float>                                          *\n",
      "*Entries : 21848524 : Total  Size=  481227653 bytes  File Size  =  216778625 *\n",
      "*Baskets :      304 : Basket Size=    3070464 bytes  Compression=   2.22     *\n",
      "*............................................................................*\n",
      "*Br    7 :lep_z0    : vector<float>                                          *\n",
      "*Entries : 21848524 : Total  Size=  481227963 bytes  File Size  =  198806600 *\n",
      "*Baskets :      304 : Basket Size=    3070464 bytes  Compression=   2.42     *\n",
      "*............................................................................*\n",
      "*Br    8 :lep_charge : vector<int>                                           *\n",
      "*Entries : 21848524 : Total  Size=  481229203 bytes  File Size  =   53771216 *\n",
      "*Baskets :      304 : Basket Size=    3070464 bytes  Compression=   8.94     *\n",
      "*............................................................................*\n",
      "*Br    9 :lep_type  : vector<unsigned int>                                   *\n",
      "*Entries : 21848524 : Total  Size=  481228583 bytes  File Size  =   37513291 *\n",
      "*Baskets :      304 : Basket Size=    3070464 bytes  Compression=  12.82     *\n",
      "*............................................................................*\n",
      "*Br   10 :lep_isTightID : vector<bool>                                       *\n",
      "*Entries : 21848524 : Total  Size=  349725938 bytes  File Size  =   45561790 *\n",
      "*Baskets :      152 : Basket Size=    3070464 bytes  Compression=   7.67     *\n",
      "*............................................................................*\n",
      "*Br   11 :lep_ptcone30 : vector<float>                                       *\n",
      "*Entries : 21848524 : Total  Size=  481229823 bytes  File Size  =   81487852 *\n",
      "*Baskets :      304 : Basket Size=    3070464 bytes  Compression=   5.90     *\n",
      "*............................................................................*\n",
      "*Br   12 :lep_etcone20 : vector<float>                                       *\n",
      "*Entries : 21848524 : Total  Size=  481229823 bytes  File Size  =  226157301 *\n",
      "*Baskets :      304 : Basket Size=    3070464 bytes  Compression=   2.13     *\n",
      "*............................................................................*\n",
      "*Br   13 :lep_trackd0pvunbiased : vector<float>                              *\n",
      "*Entries : 21848524 : Total  Size=  481232613 bytes  File Size  =  226603096 *\n",
      "*Baskets :      304 : Basket Size=    3070464 bytes  Compression=   2.12     *\n",
      "*............................................................................*\n",
      "*Br   14 :lep_tracksigd0pvunbiased : vector<float>                           *\n",
      "*Entries : 21848524 : Total  Size=  481233543 bytes  File Size  =  222029942 *\n",
      "*Baskets :      304 : Basket Size=    3070464 bytes  Compression=   2.17     *\n",
      "*............................................................................*\n",
      "*Br   15 :lep_pt_syst : vector<float>                                        *\n",
      "*Entries : 21848524 : Total  Size=  481229623 bytes  File Size  =  220289444 *\n",
      "*Baskets :      305 : Basket Size=    3070464 bytes  Compression=   2.18     *\n",
      "*............................................................................*\n"
     ]
    }
   ],
   "source": [
    "tree.Print(\"lep*\")"
   ]
  },
  {
   "cell_type": "markdown",
   "metadata": {},
   "source": [
    "So what are those leptons?"
   ]
  },
  {
   "cell_type": "code",
   "execution_count": 16,
   "metadata": {},
   "outputs": [
    {
     "data": {
      "image/png": "[encoded data removed]",
      "text/plain": [
       "<IPython.core.display.Image object>"
      ]
     },
     "metadata": {},
     "output_type": "display_data"
    }
   ],
   "source": [
    "tree.Draw(\"lep_type\",\"\",\"\",maxevents)\n",
    "canvas.Draw()"
   ]
  },
  {
   "cell_type": "markdown",
   "metadata": {},
   "source": [
    "### Lepton types\n",
    "* 11: electron\n",
    "* 12: muon\n",
    "* 13: tau\n",
    "* charge: -1 for particle, +1 for antiparticle"
   ]
  },
  {
   "cell_type": "code",
   "execution_count": 17,
   "metadata": {},
   "outputs": [
    {
     "data": {
      "image/png": "[encoded data removed]",
      "text/plain": [
       "<IPython.core.display.Image object>"
      ]
     },
     "metadata": {},
     "output_type": "display_data"
    }
   ],
   "source": [
    "tree.Draw(\"lep_charge\",\"\",\"\",maxevents)\n",
    "canvas.Draw()\n",
    "# ask about the \"binning effect\" if this next plot looks confusing"
   ]
  },
  {
   "cell_type": "markdown",
   "metadata": {},
   "source": [
    "### Custom histograms with TTree::Draw\n",
    "The example below shows how to set a custom histogram name and binning with TTree::Draw"
   ]
  },
  {
   "cell_type": "code",
   "execution_count": 18,
   "metadata": {},
   "outputs": [
    {
     "name": "stdout",
     "output_type": "stream",
     "text": [
      "created hq with 200613.0 entries\n"
     ]
    },
    {
     "data": {
      "image/png": "[encoded data removed]",
      "text/plain": [
       "<IPython.core.display.Image object>"
      ]
     },
     "metadata": {},
     "output_type": "display_data"
    }
   ],
   "source": [
    "tree.Draw(\"lep_charge>>hq(3,-1.5,1.5)\",\"\",\"\",maxevents)\n",
    "print(\"created\",R.hq.GetName(),\"with\",R.hq.GetEntries(),\"entries\")\n",
    "canvas.Draw()"
   ]
  },
  {
   "cell_type": "markdown",
   "metadata": {},
   "source": [
    "In 100,000 events, we found 200613 leptons. That's not surprising b/c we expect >= 2 per event.  Inefficiencies can cause the reconstruction algorithms to find fewer, but that appears not to be a factor here OR maybe the data file already had some selections applied to the events that were saved. "
   ]
  },
  {
   "cell_type": "markdown",
   "metadata": {},
   "source": [
    "### Warning: ROOT feature\n",
    "\n",
    "When we specity the number of bins in the above histogram ```\"lep_charge>>hq(3,-1.5,1.5)\"``` that sets the default number of bins to 3 in all subsequent _automatically generated histograms_, unless we specify a different number of bins!  :-/\n"
   ]
  },
  {
   "cell_type": "markdown",
   "metadata": {},
   "source": [
    "### Let's look at where the electrons are going and then some other parameters.\n",
    "Recall the definitions of angles in our cylindrical coordinate system:\n",
    "<CENTER><img src=\"images/coordinates.png\" style=\"width:30%\"></CENTER>\n",
    "\n",
    "Below we will plot the eta distributions for electrons only.  This will use the selection feature of TTree::Draw."
   ]
  },
  {
   "cell_type": "code",
   "execution_count": 19,
   "metadata": {},
   "outputs": [
    {
     "data": {
      "image/png": "[encoded data removed]",
      "text/plain": [
       "<IPython.core.display.Image object>"
      ]
     },
     "metadata": {},
     "output_type": "display_data"
    }
   ],
   "source": [
    "tree.Draw(\"lep_eta>>hleta(100)\",\"lep_type==11\",\"\",maxevents) # name histogram here, but let ROOT figure out the binning\n",
    "canvas.Draw()"
   ]
  },
  {
   "cell_type": "code",
   "execution_count": 20,
   "metadata": {},
   "outputs": [
    {
     "data": {
      "image/png": "[encoded data removed]",
      "text/plain": [
       "<IPython.core.display.Image object>"
      ]
     },
     "metadata": {},
     "output_type": "display_data"
    }
   ],
   "source": [
    "tree.Draw(\"lep_phi>>hlphi\",\"lep_type==11\",\"\",maxevents) \n",
    "canvas.Draw()"
   ]
  },
  {
   "cell_type": "markdown",
   "metadata": {},
   "source": [
    "### Jets anyone?"
   ]
  },
  {
   "cell_type": "code",
   "execution_count": 21,
   "metadata": {},
   "outputs": [
    {
     "name": "stdout",
     "output_type": "stream",
     "text": [
      "******************************************************************************\n",
      "*Tree    :mini      : mini                                                   *\n",
      "*Entries : 21848524 : Total =     21539558986 bytes  File  Size = 4629800030 *\n",
      "*        :          : Tree compression factor =   4.65                       *\n",
      "******************************************************************************\n",
      "*Br    0 :jet_n     : jet_n/i                                                *\n",
      "*Entries : 21848524 : Total  Size=   87409153 bytes  File Size  =   11523007 *\n",
      "*Baskets :      152 : Basket Size=    1921536 bytes  Compression=   7.58     *\n",
      "*............................................................................*\n",
      "*Br    1 :jet_pt    : vector<float>                                          *\n",
      "*Entries : 21848524 : Total  Size=  354792919 bytes  File Size  =  114052959 *\n",
      "*Baskets :      152 : Basket Size=    3070464 bytes  Compression=   3.11     *\n",
      "*............................................................................*\n",
      "*Br    2 :jet_eta   : vector<float>                                          *\n",
      "*Entries : 21848524 : Total  Size=  354793077 bytes  File Size  =  117146853 *\n",
      "*Baskets :      152 : Basket Size=    3070464 bytes  Compression=   3.03     *\n",
      "*............................................................................*\n",
      "*Br    3 :jet_phi   : vector<float>                                          *\n",
      "*Entries : 21848524 : Total  Size=  354793077 bytes  File Size  =  117245619 *\n",
      "*Baskets :      152 : Basket Size=    3070464 bytes  Compression=   3.02     *\n",
      "*............................................................................*\n",
      "*Br    4 :jet_E     : vector<float>                                          *\n",
      "*Entries : 21848524 : Total  Size=  354792761 bytes  File Size  =  114706711 *\n",
      "*Baskets :      152 : Basket Size=    3070464 bytes  Compression=   3.09     *\n",
      "*............................................................................*\n",
      "*Br    5 :jet_jvt   : vector<float>                                          *\n",
      "*Entries : 21848524 : Total  Size=  354793077 bytes  File Size  =  108194361 *\n",
      "*Baskets :      152 : Basket Size=    3070464 bytes  Compression=   3.28     *\n",
      "*............................................................................*\n",
      "*Br    6 :jet_trueflav : vector<int>                                         *\n",
      "*Entries : 21848524 : Total  Size=  354793867 bytes  File Size  =   62972263 *\n",
      "*Baskets :      152 : Basket Size=    3070464 bytes  Compression=   5.63     *\n",
      "*............................................................................*\n",
      "*Br    7 :jet_truthMatched : vector<bool>                                    *\n",
      "*Entries : 21848524 : Total  Size=  318121641 bytes  File Size  =   58954020 *\n",
      "*Baskets :      152 : Basket Size=    3070464 bytes  Compression=   5.39     *\n",
      "*............................................................................*\n",
      "*Br    8 :jet_MV2c10 : vector<float>                                         *\n",
      "*Entries : 21848524 : Total  Size=  354793551 bytes  File Size  =  114064427 *\n",
      "*Baskets :      152 : Basket Size=    3070464 bytes  Compression=   3.11     *\n",
      "*............................................................................*\n",
      "*Br    9 :jet_pt_syst : vector<float>                                        *\n",
      "*Entries : 21848524 : Total  Size=  354793819 bytes  File Size  =  114174380 *\n",
      "*Baskets :      153 : Basket Size=    3070464 bytes  Compression=   3.10     *\n",
      "*............................................................................*\n"
     ]
    }
   ],
   "source": [
    "tree.Print(\"jet*\")"
   ]
  },
  {
   "cell_type": "markdown",
   "metadata": {},
   "source": [
    "We will now plot the _transverse momentum_ of the jets $p_T = \\sqrt{p_x^2+p_y^2}$.  In general we will find exponentially falling distributions when plotting over a range of momentum/energy.  Higher energy phenomena correspond to collisions with greater impact (momentum exchange $Q^2$).  The cross sections typically fall exponentially with $Q^2$.  Units below are in MeV for energy and $p_T$.  Why doesn't ATLAS use GeV units like normal people?"
   ]
  },
  {
   "cell_type": "code",
   "execution_count": 22,
   "metadata": {},
   "outputs": [
    {
     "data": {
      "image/png": "[encoded data removed]",
      "text/plain": [
       "<IPython.core.display.Image object>"
      ]
     },
     "metadata": {},
     "output_type": "display_data"
    }
   ],
   "source": [
    "tree.Draw(\"jet_pt/1000>>hjpt\",\"\",\"\",maxevents) # divided by 1000 to convert to GeV\n",
    "canvas.Draw()"
   ]
  },
  {
   "cell_type": "markdown",
   "metadata": {},
   "source": [
    "Why did ROOT choose that binning?  See below.  "
   ]
  },
  {
   "cell_type": "code",
   "execution_count": 23,
   "metadata": {},
   "outputs": [
    {
     "data": {
      "image/png": "[encoded data removed]",
      "text/plain": [
       "<IPython.core.display.Image object>"
      ]
     },
     "metadata": {},
     "output_type": "display_data"
    }
   ],
   "source": [
    "canvas.cd().SetLogy()  # turn on log scale\n",
    "canvas.Draw()          # and redraw the canvas"
   ]
  },
  {
   "cell_type": "markdown",
   "metadata": {},
   "source": [
    "Let's make an overlay"
   ]
  },
  {
   "cell_type": "code",
   "execution_count": 24,
   "metadata": {},
   "outputs": [
    {
     "data": {
      "image/png": "[encoded data removed]",
      "text/plain": [
       "<IPython.core.display.Image object>"
      ]
     },
     "metadata": {},
     "output_type": "display_data"
    }
   ],
   "source": [
    "tree.Draw(\"lep_pt/1000>>hlpt\",\"lep_type==11\",\"\",maxevents) \n",
    "R.hlpt.SetLineColor(R.kRed)\n",
    "R.hjpt.Draw(\"same\")\n",
    "canvas.Draw()"
   ]
  },
  {
   "cell_type": "code",
   "execution_count": 25,
   "metadata": {},
   "outputs": [],
   "source": [
    "canvas.cd().SetLogy(0)  # turn off log scale"
   ]
  },
  {
   "cell_type": "markdown",
   "metadata": {},
   "source": [
    "### Looking at individual entries in an array\n",
    "Examining the list of variables in the tree, you can see that some of them are designated as single integer/i or float/f, while others are vector<float> type, etc.  If we have a couple of lepton or jets, we will other want to look at the separately.  These variables can be accessed by index.\n",
    "\n",
    "Note: when objects like leptons or jets are stored in an array, they are ordered from high to low $p_T$.  Units of $p_T$ and energy are MeV in the ATLAS data trees.  "
   ]
  },
  {
   "cell_type": "code",
   "execution_count": 26,
   "metadata": {},
   "outputs": [
    {
     "data": {
      "image/png": "[encoded data removed]",
      "text/plain": [
       "<IPython.core.display.Image object>"
      ]
     },
     "metadata": {},
     "output_type": "display_data"
    }
   ],
   "source": [
    "tree.Draw(\"lep_eta[0]>>hleta1\",\"\",\"\",maxevents)  # plot on the \"1st\" lepton\n",
    "canvas.Draw()"
   ]
  },
  {
   "cell_type": "markdown",
   "metadata": {},
   "source": [
    "### Building up data selections\n",
    "The selection strings can get kind of messy in the Draw method.  Here we'll define a series of selections or _cuts_ and use logical combinations of these with Draw.  This makes it much easier to keep track of your cuts and to change them globally lke any variable."
   ]
  },
  {
   "cell_type": "code",
   "execution_count": 27,
   "metadata": {},
   "outputs": [
    {
     "data": {
      "image/png": "[encoded data removed]",
      "text/plain": [
       "<IPython.core.display.Image object>"
      ]
     },
     "metadata": {},
     "output_type": "display_data"
    }
   ],
   "source": [
    "nlCut= R.TCut(\"lep_n>1\")                             # at least two leptons\n",
    "elCut= R.TCut(\"lep_type[0]==11 && lep_type[1]==11\")  # require 'leading' leptons are electrons\n",
    "idCut= R.TCut(\"lep_isTightID[0]==1\")                 # ID algorithm has high confidence this is a lepton\n",
    "evtSel=nlCut*elCut*idCut\n",
    "R.hleta.Clear()   # feature alert: minor point, but the Clear is used to reset the title string of this old TF1\n",
    "tree.Draw(\"lep_eta>>hleta\",evtSel,\"\",maxevents)\n",
    "canvas.Draw()"
   ]
  },
  {
   "cell_type": "markdown",
   "metadata": {},
   "source": [
    "Let's clean up the title and labels"
   ]
  },
  {
   "cell_type": "code",
   "execution_count": 28,
   "metadata": {},
   "outputs": [
    {
     "data": {
      "image/png": "[encoded data removed]",
      "text/plain": [
       "<IPython.core.display.Image object>"
      ]
     },
     "metadata": {},
     "output_type": "display_data"
    }
   ],
   "source": [
    "R.hleta.SetTitle(\"#eta distribution of leptons;#eta;events/bin\") # notice how we make Greek letters\n",
    "R.hleta.Draw()\n",
    "canvas.Draw()"
   ]
  },
  {
   "cell_type": "markdown",
   "metadata": {},
   "source": [
    "### Where are my Z's?\n",
    "Now we will do some more analysis, by looping over the tree and reconstructing the $Z$ bosons from the observed leptons.  We will do this by creating 4-vectors for the leptons and the adding them to make a $Z$ candidate.  Of course any random pair of leptons do not a $Z$ make.  But this is MC, a universe we control!  \n",
    "\n",
    "We will be responsible for applying cuts in the event loop now.  Also we will need to create hisogram(s) beofre we begin looping.  So the general analysis sequence is:\n",
    "* create histograms for quantities of interest, then in the loop\n",
    "* apply event selections\n",
    "* calculate your physics quantities for passing events\n",
    "* add these to your histograms"
   ]
  },
  {
   "cell_type": "code",
   "execution_count": 29,
   "metadata": {},
   "outputs": [],
   "source": [
    "hmZ = R.TH1F(\"hmZ\",\"Mass of the Z boson; mass [GeV]; events\",60,40,140)\n",
    "\n",
    "# for use in the loop\n",
    "leadLepton  = R.TLorentzVector()\n",
    "trailLepton = R.TLorentzVector()\n",
    "zcand  = R.TLorentzVector()"
   ]
  },
  {
   "cell_type": "code",
   "execution_count": 30,
   "metadata": {},
   "outputs": [
    {
     "name": "stdout",
     "output_type": "stream",
     "text": [
      "10000\n",
      "20000\n",
      "30000\n",
      "40000\n",
      "50000\n",
      "60000\n",
      "70000\n",
      "80000\n",
      "90000\n",
      "100000\n"
     ]
    }
   ],
   "source": [
    "# in case we run this multipl times, we'll start by restting the histogram, so we don't add events twice!\n",
    "hmZ.Reset()\n",
    "\n",
    "if maxevents<=0: maxevents=tree.GetEntriesFast()  # scan them all!\n",
    "nstatus=maxevents/10\n",
    "\n",
    "count=0\n",
    "\n",
    "for event in tree:   \n",
    "    # Cut #1: At least 2 leptons\n",
    "    if event.lep_n >= 2:\n",
    "        \n",
    "        # Cut #2: Leptons with opposite charge\n",
    "        if (event.lep_charge[0] != event.lep_charge[1]):\n",
    "            \n",
    "            # Cut #3: Leptons of the same family (2 electrons or 2 muons)\n",
    "            if (event.lep_type[0] == event.lep_type[1]):\n",
    "                \n",
    "                # Let's define one TLorentz vector for each, e.i. two vectors!\n",
    "                leadLepton.SetPtEtaPhiE(event.lep_pt[0]/1000, event.lep_eta[0], event.lep_phi[0], event.lep_E[0]/1000)\n",
    "                trailLepton.SetPtEtaPhiE(event.lep_pt[1]/1000, event.lep_eta[1], event.lep_phi[1], event.lep_E[1]/1000)\n",
    "                # Next line: addition of two TLorentz vectors above\n",
    "                zcand = leadLepton + trailLepton   # Z candidate\n",
    "                \n",
    "                hmZ.Fill(zcand.M())\n",
    "    count=count+1\n",
    "    if count%nstatus==0: print(count)\n",
    "    if count>=maxevents: break "
   ]
  },
  {
   "cell_type": "code",
   "execution_count": 31,
   "metadata": {},
   "outputs": [
    {
     "data": {
      "image/png": "[encoded data removed]",
      "text/plain": [
       "<IPython.core.display.Image object>"
      ]
     },
     "metadata": {},
     "output_type": "display_data"
    }
   ],
   "source": [
    "hmZ.Draw()\n",
    "canvas.Draw()"
   ]
  },
  {
   "cell_type": "markdown",
   "metadata": {},
   "source": [
    "Looks like there are indeed [$Z$ bosons](https://en.wikipedia.org/wiki/W_and_Z_bosons) here!  The mass peak is in the right place ~ 91 GeV.  Of cose these are all _real_ $Z$, because that what was generate int the MC!  There are two reasons why the $Z$ does not appear as a single narrow spike at $m_Z=91.1876\\pm 0.0021$GeV:\n",
    "1. The detecor resolution is not perfect.  When the momentum/energy of particles are measured there is some smearing.\n",
    "2. The $Z$ is not a spike.  Particle masses have an intrinsic spread related their life time.  Short lifed particles like the $Z$ have small $\\Delta t$, therefore large $\\Delta E$ or \"mass width\". Blame quantum mechanics and [Heisenburg](https://simple.wikipedia.org/wiki/Heisenberg%27s_uncertainty_principle)!  $$\\Delta x\\Delta p \\gtrsim h\\\\ \\Delta E\\Delta t \\gtrsim h$$ "
   ]
  },
  {
   "cell_type": "markdown",
   "metadata": {},
   "source": [
    "### Get fit!\n",
    "Histograms in ROOT a powerful analysis tools.  Now we will estimate the location of the peak of our distribuion to determin the $Z$ mass by fitting a Gaussian to the area around the peak.  In this case a Gaussian is a reasonable representation of the shape of the distribution, but real world problem get more involved. "
   ]
  },
  {
   "cell_type": "code",
   "execution_count": 32,
   "metadata": {},
   "outputs": [
    {
     "name": "stdout",
     "output_type": "stream",
     "text": [
      " FCN=2260.63 FROM MIGRAD    STATUS=CONVERGED      72 CALLS          73 TOTAL\n",
      "                     EDM=1.26478e-09    STRATEGY= 1      ERROR MATRIX ACCURATE \n",
      "  EXT PARAMETER                                   STEP         FIRST   \n",
      "  NO.   NAME      VALUE            ERROR          SIZE      DERIVATIVE \n",
      "   1  Constant     1.53791e+04   7.36436e+01   1.23017e+00  -9.58494e-08\n",
      "   2  Mean         8.99070e+01   1.32654e-02   3.00950e-04  -3.62049e-03\n",
      "   3  Sigma        3.66500e+00   1.28467e-02   1.92431e-05  -2.79096e-02\n"
     ]
    },
    {
     "data": {
      "image/png": "[encoded data removed]",
      "text/plain": [
       "<IPython.core.display.Image object>"
      ]
     },
     "metadata": {},
     "output_type": "display_data"
    }
   ],
   "source": [
    "hmZ.Fit(\"gaus\",\"\",\"\",80,100)\n",
    "canvas.Draw()"
   ]
  },
  {
   "cell_type": "markdown",
   "metadata": {},
   "source": [
    "Pretty good.  We are definitley observing a peak in the close vicinity of the $Z$.  In a more complete analysis, we would instead perform the fit using a more physically motivated functional form represented the shape of the mass distribution (Breit-Wigner) and combine this with information about the detector resolution, or use other statistical analysis methods combining the physics and detector modeling."
   ]
  },
  {
   "cell_type": "markdown",
   "metadata": {},
   "source": [
    "## Finally repeat our analsyis, doing more stuff!"
   ]
  },
  {
   "cell_type": "code",
   "execution_count": 33,
   "metadata": {},
   "outputs": [],
   "source": [
    "from math import pi\n",
    "recoil = R.TLorentzVector()\n",
    "v4tmp  = R.TLorentzVector()\n",
    "\n",
    "hptj1 = R.TH1F(\"hptj1\",\"pT of leading jet;pT [GeV];events/bin\",100,0,400)\n",
    "hptj2 = R.TH1F(\"hptj2\",\"pT of secondary jet;pT [GeV];events/bin\",100,0,400)\n",
    "hptallj = R.TH1F(\"hptallj\",\"Sum pT of all jets (recoil);pT [GeV];events/bin\",100,0,400)\n",
    "hptZ = R.TH1F(\"hptZ\",\"pT of Z;pT [GeV];events/bin\",100,0,400)\n",
    "hdphi = R.TH1F(\"hdphi\",\"#Delta#phi(Z,recoil); events/bin\",60,0,pi)"
   ]
  },
  {
   "cell_type": "code",
   "execution_count": 34,
   "metadata": {},
   "outputs": [
    {
     "name": "stdout",
     "output_type": "stream",
     "text": [
      "10000\n",
      "20000\n",
      "30000\n",
      "40000\n",
      "50000\n",
      "60000\n",
      "70000\n",
      "80000\n",
      "90000\n",
      "100000\n"
     ]
    }
   ],
   "source": [
    "hmZ.Reset()\n",
    "hptj1.Reset()\n",
    "hptj2.Reset()\n",
    "hptallj.Reset()\n",
    "hptZ.Reset()\n",
    "hdphi.Reset()\n",
    "\n",
    "# rewritten below to remove some of the indentation\n",
    "# notice that we reverse the cuts and use break statements\n",
    "\n",
    "if maxevents<=0: maxevents=tree.GetEntriesFast()  # scan them all!\n",
    "nstatus=maxevents/10\n",
    "count=0\n",
    "\n",
    "for event in tree:\n",
    "\n",
    "    # Cut #1: At least 2 leptons\n",
    "    if event.lep_n < 2: continue\n",
    "    \n",
    "    # Cut #2: Leptons with opposite charge\n",
    "    if (event.lep_charge[0] == event.lep_charge[1]): continue\n",
    "            \n",
    "    # Cut #3: Leptons of the same family (2 electrons or 2 muons)\n",
    "    if (event.lep_type[0] != event.lep_type[1]): continue\n",
    "        \n",
    "    # Let's define one TLorentz vector for each, e.i. two vectors!\n",
    "    leadLepton.SetPtEtaPhiE(event.lep_pt[0]/1000, event.lep_eta[0], event.lep_phi[0], event.lep_E[0]/1000)\n",
    "    trailLepton.SetPtEtaPhiE(event.lep_pt[1]/1000, event.lep_eta[1], event.lep_phi[1], event.lep_E[1]/1000)\n",
    "    # Next line: addition of two TLorentz vectors above to get Z candidate\n",
    "    zcand = leadLepton + trailLepton\n",
    "    \n",
    "    hmZ.Fill(zcand.M())\n",
    "\n",
    "    # calculate the \"Recoil\" of the Z to be combination of all the jets in the event\n",
    "    recoil=recoil*0  # zero out the recoil vector\n",
    "    for i in range(event.jet_n):\n",
    "        v4tmp.SetPtEtaPhiE(event.jet_pt[i]/1000, event.jet_eta[i], event.jet_phi[i], event.jet_E[i]/1000)\n",
    "        recoil = recoil+v4tmp\n",
    "        \n",
    "    if event.jet_n>0: \n",
    "        hptj1.Fill(event.jet_pt[0]/1000)\n",
    "        hptallj.Fill(recoil.Pt())\n",
    "        if event.jet_n>1: hptj2.Fill(event.jet_pt[1]/1000)\n",
    "        hdphi.Fill(zcand.DeltaPhi(recoil))\n",
    "    \n",
    "    hptZ.Fill(zcand.Pt())\n",
    "    \n",
    "    count=count+1\n",
    "    if count%nstatus==0: print(count)\n",
    "    if count>=maxevents: break "
   ]
  },
  {
   "cell_type": "code",
   "execution_count": 35,
   "metadata": {},
   "outputs": [],
   "source": [
    "c2=R.TCanvas()\n",
    "c2.Divide(2,2)\n",
    "#turn off statistics display\n",
    "R.gStyle.SetOptStat(0)"
   ]
  },
  {
   "cell_type": "code",
   "execution_count": 36,
   "metadata": {},
   "outputs": [
    {
     "data": {
      "image/png": "[encoded data removed]",
      "text/plain": [
       "<IPython.core.display.Image object>"
      ]
     },
     "metadata": {},
     "output_type": "display_data"
    }
   ],
   "source": [
    "c2.cd(1)\n",
    "hmZ.Draw()\n",
    "c2.cd(2).SetLogy()\n",
    "hptallj.SetLineColor(R.kRed)\n",
    "hptZ.Draw()\n",
    "hptallj.Draw(\"same\")\n",
    "c2.cd(3).SetLogy()\n",
    "hptj1.Draw()\n",
    "hptj2.SetLineStyle(2)\n",
    "hptj2.Draw(\"same\")\n",
    "c2.cd(4)\n",
    "hdphi.Draw()\n",
    "c2.Draw()"
   ]
  },
  {
   "cell_type": "markdown",
   "metadata": {},
   "source": [
    "Interesting stuff:\n",
    "* $m_Z$ looks good as before\n",
    "* Except for very low $p_T$ $Z$'s, $p_T^Z$ looks very much like the sum of the jets (recoil).  This is indeed expected.  But at very low $p_T$, the jets are not well collimated and difficult to identify.  In this case the recoil is a bunch of _unclustered energy_ deposits.  \n",
    "* In fact we can see (3rd plot) that the jet algorithm doesn;t even try to find jets under 20 GeV.\n",
    "* Finally we see that the $Z$ is back to back in the transverse plane with the recoil jet system.  Momentum conservation!  You can find a nice example of a $Z\\to\\mu\\mu +3 jet$ event [here](https://cds.cern.ch/record/1696939?ln=en).  Notice how the muon pair from the decaying $Z$ balances the three jets."
   ]
  },
  {
   "cell_type": "code",
   "execution_count": 42,
   "metadata": {},
   "outputs": [
    {
     "data": {
      "image/png": "[encoded data removed]",
      "text/plain": [
       "<IPython.core.display.Image object>"
      ]
     },
     "metadata": {},
     "output_type": "display_data"
    }
   ],
   "source": [
    "# quick look at \"missing ET\" or missing transverse momentum\n",
    "# suggest plotting ratio of met to pt_Z above!\n",
    "canvas.cd()\n",
    "tree.Draw(\"met_et/1000>>met(100,0,50)\",\"\",\"\",maxevents)\n",
    "canvas.Draw()"
   ]
  },
  {
   "cell_type": "markdown",
   "metadata": {},
   "source": [
    "# Project 1\n",
    "\n",
    "You can access a data sample here: /project/phys5630/opendata.cern/atlas-opendata/samples/2020/2lep/Data/data_D.2lep.root\n",
    "\n",
    "1. Perform a similar analysis as the one above using data\n",
    "2. Make a comparison of your data and MC distributions.  You will need to normalize your histograms so their shapes can be more easily compared.\n",
    "3. How does your data and MC agree?"
   ]
  },
  {
   "cell_type": "code",
   "execution_count": 13,
   "metadata": {
    "jupyter": {
     "source_hidden": true
    }
   },
   "outputs": [
    {
     "name": "stdout",
     "output_type": "stream",
     "text": [
      "10000\n",
      "20000\n",
      "30000\n",
      "40000\n",
      "50000\n",
      "60000\n",
      "70000\n",
      "80000\n",
      "90000\n",
      "100000\n"
     ]
    },
    {
     "data": {
      "image/png": "[encoded data removed]",
      "text/plain": [
       "<IPython.core.display.Image object>"
      ]
     },
     "metadata": {},
     "output_type": "display_data"
    }
   ],
   "source": [
    "import ROOT as R\n",
    "from math import pi\n",
    "\n",
    "fMCproj1 = R.TFile(\"/project/phys5630/opendata.cern/atlas-opendata/samples/2020/2lep/Data/data_D.2lep.root\")\n",
    "tree = fMCproj1.Get(\"mini\")\n",
    "maxevents = 100000\n",
    "\n",
    "recoil = R.TLorentzVector()\n",
    "v4tmp  = R.TLorentzVector()\n",
    "\n",
    "hmZ = R.TH1F(\"hmZ\",\"Mass of the Z boson; mass [GeV]; events\",60,40,140)\n",
    "\n",
    "hptj1 = R.TH1F(\"hptj1\",\"pT of leading jet;pT [GeV];events/bin\",100,0,400)\n",
    "hptj2 = R.TH1F(\"hptj2\",\"pT of secondary jet;pT [GeV];events/bin\",100,0,400)\n",
    "hptallj = R.TH1F(\"hptallj\",\"Sum pT of all jets (recoil);pT [GeV];events/bin\",100,0,400)\n",
    "hptZ = R.TH1F(\"hptZ\",\"pT of Z;pT [GeV];events/bin\",100,0,400)\n",
    "hdphi = R.TH1F(\"hdphi\",\"#Delta#phi(Z,recoil); events/bin\",60,0,pi)\n",
    "\n",
    "hmZ.Reset()\n",
    "hptj1.Reset()\n",
    "hptj2.Reset()\n",
    "hptallj.Reset()\n",
    "hptZ.Reset()\n",
    "hdphi.Reset()\n",
    "\n",
    "leadLepton  = R.TLorentzVector()\n",
    "trailLepton = R.TLorentzVector()\n",
    "zcand  = R.TLorentzVector()\n",
    "\n",
    "# rewritten below to remove some of the indentation\n",
    "# notice that we reverse the cuts and use break statements\n",
    "\n",
    "if maxevents<=0: maxevents=tree.GetEntriesFast()  # scan them all!\n",
    "nstatus=maxevents/10\n",
    "count=0\n",
    "\n",
    "for event in tree:\n",
    "    # Cut #1: At least 2 leptons\n",
    "    if event.lep_n < 2: continue\n",
    "    \n",
    "    # Cut #2: Leptons with opposite charge\n",
    "    if (event.lep_charge[0] == event.lep_charge[1]): continue\n",
    "            \n",
    "    # Cut #3: Leptons of the same family (2 electrons or 2 muons)\n",
    "    if (event.lep_type[0] != event.lep_type[1]): continue\n",
    "        \n",
    "    # Let's define one TLorentz vector for each, e.i. two vectors!\n",
    "    leadLepton.SetPtEtaPhiE(event.lep_pt[0]/1000, event.lep_eta[0], event.lep_phi[0], event.lep_E[0]/1000)\n",
    "    trailLepton.SetPtEtaPhiE(event.lep_pt[1]/1000, event.lep_eta[1], event.lep_phi[1], event.lep_E[1]/1000)\n",
    "    # Next line: addition of two TLorentz vectors above to get Z candidate\n",
    "    zcand = leadLepton + trailLepton\n",
    "\n",
    "    hmZ.Fill(zcand.M())\n",
    "\n",
    "    # calculate the \"Recoil\" of the Z to be combination of all the jets in the event\n",
    "    recoil=recoil*0  # zero out the recoil vector\n",
    "    for i in range(event.jet_n):\n",
    "        v4tmp.SetPtEtaPhiE(event.jet_pt[i]/1000, event.jet_eta[i], event.jet_phi[i], event.jet_E[i]/1000)\n",
    "        recoil = recoil+v4tmp\n",
    "        \n",
    "    if event.jet_n>0: \n",
    "        hptj1.Fill(event.jet_pt[0]/1000)\n",
    "        hptallj.Fill(recoil.Pt())\n",
    "        if event.jet_n>1: hptj2.Fill(event.jet_pt[1]/1000)\n",
    "        hdphi.Fill(zcand.DeltaPhi(recoil))\n",
    "    \n",
    "    hptZ.Fill(zcand.Pt())\n",
    "    \n",
    "    count=count+1\n",
    "    if count%nstatus==0: print(count)\n",
    "    if count>=maxevents: break\n",
    "\n",
    "c3=R.TCanvas()\n",
    "c3.Divide(2,2)\n",
    "#turn off statistics display\n",
    "R.gStyle.SetOptStat(0)\n",
    "\n",
    "c3.cd(1)\n",
    "hmZ.Draw()\n",
    "c3.cd(2).SetLogy()\n",
    "hptallj.SetLineColor(R.kRed)\n",
    "hptZ.Draw()\n",
    "hptallj.Draw(\"same\")\n",
    "c3.cd(3).SetLogy()\n",
    "hptj1.Draw()\n",
    "hptj2.SetLineStyle(2)\n",
    "hptj2.Draw(\"same\")\n",
    "c3.cd(4)\n",
    "hdphi.Draw()\n",
    "c3.Draw()\n"
   ]
  },
  {
   "cell_type": "markdown",
   "metadata": {},
   "source": [
    "# Project 2\n",
    "\n",
    "You can access another MC sample here: /project/phys5630/opendata.cern/atlas-opendata/samples/2020/4lep/MC/mc_363490.llll.4lep.root\n",
    "\n",
    "This sample has event with 4 leptons.  Note: maybe they're not all electrons.  The process generated is as pictured below.\n",
    "\n",
    "<CENTER><img src=\"images/ZZ2llll.png\" style=\"width:30%\"></CENTER>\n",
    "\n",
    "Your job is to analyse this file and reconstruct and display the following quantities (at a minimum)!\n",
    "You will have be careful about how you combine all those leptons to make your $Z's$ now.  \n",
    "\n",
    "* $m_{Z1}$, $m_{Z2}$, where you can define $Z_1$ as the candidate having the largest $p_T$\n",
    "* The mass distribution of the $Z$'s combined together.  \n",
    "* Look again at the recoil of the $Z$ system and the jets in the event.\n",
    "* Do you see any difference in the shape of the $Z$ peak depending on what kink of leptons are used to form the $Z$?"
   ]
  },
  {
   "cell_type": "code",
   "execution_count": 28,
   "metadata": {},
   "outputs": [
    {
     "name": "stdout",
     "output_type": "stream",
     "text": [
      "10000\n",
      "20000\n",
      "30000\n",
      "40000\n",
      "50000\n",
      "60000\n",
      "70000\n",
      "80000\n",
      "90000\n",
      "100000\n"
     ]
    },
    {
     "data": {
      "image/png": "[encoded data removed]",
      "text/plain": [
       "<IPython.core.display.Image object>"
      ]
     },
     "metadata": {},
     "output_type": "display_data"
    }
   ],
   "source": [
    "import ROOT as R\n",
    "from math import pi\n",
    "\n",
    "fMCproj1 = R.TFile(\"/project/phys5630/opendata.cern/atlas-opendata/samples/2020/4lep/MC/mc_363490.llll.4lep.root\")\n",
    "tree = fMCproj1.Get(\"mini\")\n",
    "maxevents = 100000\n",
    "\n",
    "recoil = R.TLorentzVector()\n",
    "v4tmp  = R.TLorentzVector()\n",
    "\n",
    "hmZ1 = R.TH1F(\"hmZ1\",\"Mass of the Z1 boson; mass [GeV]; events\",60,40,140)\n",
    "hmZ2 = R.TH1F(\"hmZ2\",\"Mass of the Z2 boson; mass [GeV]; events\",60,40,140)\n",
    "hmZ3 = R.TH1F(\"hmZ3\",\"Mass of the combined bosons; mass [GeV]; events\",60,40,140)\n",
    "\n",
    "hptj1 = R.TH1F(\"hptj1\",\"pT of leading jet;pT [GeV];events/bin\",100,0,400)\n",
    "hptj2 = R.TH1F(\"hptj2\",\"pT of secondary jet;pT [GeV];events/bin\",100,0,400)\n",
    "hptallj = R.TH1F(\"hptallj\",\"Sum pT of all jets (recoil);pT [GeV];events/bin\",100,0,400)\n",
    "hptZ = R.TH1F(\"hptZ\",\"pT of Z;pT [GeV];events/bin\",100,0,400)\n",
    "hdphi = R.TH1F(\"hdphi\",\"#Delta#phi(Z,recoil); events/bin\",60,0,pi)\n",
    "\n",
    "hmZ1.Reset()\n",
    "hmZ2.Reset()\n",
    "hmZ3.Reset()\n",
    "hptj1.Reset()\n",
    "hptj2.Reset()\n",
    "hptallj.Reset()\n",
    "hptZ.Reset()\n",
    "hdphi.Reset()\n",
    "\n",
    "Lepton1  = R.TLorentzVector()\n",
    "Lepton2 = R.TLorentzVector()\n",
    "Lepton3  = R.TLorentzVector()\n",
    "Lepton4 = R.TLorentzVector()\n",
    "z1  = R.TLorentzVector()\n",
    "z2  = R.TLorentzVector()\n",
    "zcand  = R.TLorentzVector()\n",
    "\n",
    "# rewritten below to remove some of the indentation\n",
    "# notice that we reverse the cuts and use break statements\n",
    "\n",
    "if maxevents<=0: maxevents=tree.GetEntriesFast()  # scan them all!\n",
    "nstatus=maxevents/10\n",
    "count=0\n",
    "\n",
    "for event in tree:\n",
    "    # Cut #1: At least 2 leptons\n",
    "    if event.lep_n < 2: continue\n",
    "    \n",
    "    # Cut #2: Leptons with opposite charge\n",
    "    if (event.lep_charge[0] == event.lep_charge[1]): continue\n",
    "            \n",
    "    # Cut #3: Leptons of the same family (2 electrons or 2 muons)\n",
    "    if (event.lep_type[0] != event.lep_type[1]): continue\n",
    "        \n",
    "    # Let's define one TLorentz vector for each, e.i. two vectors!\n",
    "    Lepton1.SetPtEtaPhiE(event.lep_pt[0]/1000, event.lep_eta[0], event.lep_phi[0], event.lep_E[0]/1000)\n",
    "    Lepton2.SetPtEtaPhiE(event.lep_pt[1]/1000, event.lep_eta[1], event.lep_phi[1], event.lep_E[1]/1000)\n",
    "    Lepton3.SetPtEtaPhiE(event.lep_pt[2]/1000, event.lep_eta[2], event.lep_phi[2], event.lep_E[2]/1000)\n",
    "    Lepton4.SetPtEtaPhiE(event.lep_pt[3]/1000, event.lep_eta[3], event.lep_phi[3], event.lep_E[3]/1000)\n",
    "    \n",
    "    z1 = Lepton1 + Lepton2\n",
    "    z2 = Lepton3 + Lepton4\n",
    "    \n",
    "    if(z1.Pt() > z2.Pt()):\n",
    "        hmZ1.Fill(z1.M())\n",
    "        hmZ2.Fill(z2.M())\n",
    "    else:\n",
    "        hmZ2.Fill(z1.M())\n",
    "        hmZ1.Fill(z2.M())\n",
    "\n",
    "    \n",
    "    zcand = z1 + z2\n",
    "    \n",
    "    hmZ3.Fill(zcand.M())\n",
    "    \n",
    "    # calculate the \"Recoil\" of the Z to be combination of all the jets in the event\n",
    "    recoil=recoil*0  # zero out the recoil vector\n",
    "    for i in range(event.jet_n):\n",
    "        v4tmp.SetPtEtaPhiE(event.jet_pt[i]/1000, event.jet_eta[i], event.jet_phi[i], event.jet_E[i]/1000)\n",
    "        recoil = recoil+v4tmp\n",
    "        \n",
    "    if event.jet_n>0: \n",
    "        hptj1.Fill(event.jet_pt[0]/1000)\n",
    "        hptallj.Fill(recoil.Pt())\n",
    "        if event.jet_n>1: hptj2.Fill(event.jet_pt[1]/1000)\n",
    "        hdphi.Fill(zcand.DeltaPhi(recoil))\n",
    "    \n",
    "    hptZ.Fill(zcand.Pt())\n",
    "    \n",
    "    count=count+1\n",
    "    if count%nstatus==0: print(count)\n",
    "    if count>=maxevents: break\n",
    "\n",
    "        \n",
    "        \n",
    "        \n",
    "        \n",
    "c3=R.TCanvas()\n",
    "c3.Divide(3,2)\n",
    "#turn off statistics display\n",
    "R.gStyle.SetOptStat(0)\n",
    "\n",
    "c3.cd(1)\n",
    "hmZ1.Draw()\n",
    "c3.cd(2)\n",
    "hmZ2.Draw()\n",
    "c3.cd(3)\n",
    "hmZ3.Draw()\n",
    "c3.cd(4).SetLogy()\n",
    "hptallj.SetLineColor(R.kRed)\n",
    "hptZ.Draw()\n",
    "hptallj.Draw(\"same\")\n",
    "c3.cd(5).SetLogy()\n",
    "hptj1.Draw()\n",
    "hptj2.SetLineStyle(2)\n",
    "hptj2.Draw(\"same\")\n",
    "c3.cd(6)\n",
    "hdphi.Draw()\n",
    "c3.Draw()\n"
   ]
  },
  {
   "cell_type": "markdown",
   "metadata": {},
   "source": [
    "# Project 3\n",
    "Finally the following file siumlates the process $ZZ\\to qq\\ell\\ell$, so one $Z$ decayes to a $q\\bar q$ pair and the other to a pair of charged leptons.  \n",
    "\n",
    "/project/phys5630/opendata.cern/atlas-opendata/samples/2020/2lep/MC/mc_363356.ZqqZll.2lep.root\n",
    "\n",
    "Make some exploratory plots for this sample.  Discuss your findings."
   ]
  },
  {
   "cell_type": "code",
   "execution_count": 41,
   "metadata": {
    "jupyter": {
     "source_hidden": true
    }
   },
   "outputs": [
    {
     "name": "stdout",
     "output_type": "stream",
     "text": [
      "10000\n",
      "20000\n",
      "30000\n",
      "40000\n",
      "50000\n",
      "60000\n",
      "70000\n",
      "80000\n",
      "90000\n",
      "100000\n"
     ]
    },
    {
     "data": {
      "image/png": "[encoded data removed]",
      "text/plain": [
       "<IPython.core.display.Image object>"
      ]
     },
     "metadata": {},
     "output_type": "display_data"
    }
   ],
   "source": [
    "import ROOT as R\n",
    "from math import pi\n",
    "\n",
    "fMCproj1 = R.TFile(\"/project/phys5630/opendata.cern/atlas-opendata/samples/2020/2lep/MC/mc_363356.ZqqZll.2lep.root\")\n",
    "tree = fMCproj1.Get(\"mini\")\n",
    "maxevents = 100000\n",
    "\n",
    "\n",
    "recoil = R.TLorentzVector()\n",
    "v4tmp  = R.TLorentzVector()\n",
    "\n",
    "hmZ1 = R.TH1F(\"hmZ1\",\"Momentum of the lepton derived Z boson; Momentum [MeV]; events\",60,40,140)\n",
    "hmZ2 = R.TH1F(\"hmZ2\",\"Momentum of the jet/quark derived Z boson; Momentum [MeV]; events\",60,40,140)\n",
    "hmZ3 = R.TH1F(\"hmZ3\",\"Total Momentum of the Z boson; Momentum [MeV]; events\",60,40,140)\n",
    "\n",
    "hptj1 = R.TH1F(\"hptj1\",\"pT of leading jet;pT [GeV];events/bin\",100,0,400)\n",
    "hptj2 = R.TH1F(\"hptj2\",\"pT of secondary jet;pT [GeV];events/bin\",100,0,400)\n",
    "hptallj = R.TH1F(\"hptallj\",\"Sum pT of all jets (recoil);pT [GeV];events/bin\",100,0,400)\n",
    "hptZ = R.TH1F(\"hptZ\",\"pT of Z;pT [GeV];events/bin\",100,0,400)\n",
    "hdphi = R.TH1F(\"hdphi\",\"#Delta#phi(Z,recoil); events/bin\",60,0,pi)\n",
    "\n",
    "hmZ1.Reset()\n",
    "hmZ2.Reset()\n",
    "hmZ3.Reset()\n",
    "hptj1.Reset()\n",
    "hptj2.Reset()\n",
    "hptallj.Reset()\n",
    "hptZ.Reset()\n",
    "hdphi.Reset()\n",
    "\n",
    "leadLepton  = R.TLorentzVector()\n",
    "trailLepton = R.TLorentzVector()\n",
    "zlep  = R.TLorentzVector()\n",
    "zquark = R.TLorentzVector()\n",
    "\n",
    "# rewritten below to remove some of the indentation\n",
    "# notice that we reverse the cuts and use break statements\n",
    "\n",
    "if maxevents<=0: maxevents=tree.GetEntriesFast()  # scan them all!\n",
    "nstatus=maxevents/10\n",
    "count=0\n",
    "\n",
    "for event in tree:\n",
    "    # Cut #1: At least 2 leptons\n",
    "    if event.lep_n < 2: continue\n",
    "    \n",
    "    # Cut #2: Leptons with opposite charge\n",
    "    if (event.lep_charge[0] == event.lep_charge[1]): continue\n",
    "            \n",
    "    # Cut #3: Leptons of the same family (2 electrons or 2 muons)\n",
    "    if (event.lep_type[0] != event.lep_type[1]): continue\n",
    "        \n",
    "    # Let's define one TLorentz vector for each, e.i. two vectors!\n",
    "    leadLepton.SetPtEtaPhiE(event.lep_pt[0]/1000, event.lep_eta[0], event.lep_phi[0], event.lep_E[0]/1000)\n",
    "    trailLepton.SetPtEtaPhiE(event.lep_pt[1]/1000, event.lep_eta[1], event.lep_phi[1], event.lep_E[1]/1000)\n",
    "    # Next line: addition of two TLorentz vectors above to get Z candidate\n",
    "    zlep = leadLepton + trailLepton\n",
    "\n",
    "    hmZ1.Fill(zlep.Pt())\n",
    "\n",
    "    # calculate the \"Recoil\" of the Z to be combination of all the jets in the event\n",
    "    recoil=recoil*0  # zero out the recoil vector\n",
    "    for i in range(event.jet_n):\n",
    "        v4tmp.SetPtEtaPhiE(event.jet_pt[i]/1000, event.jet_eta[i], event.jet_phi[i], event.jet_E[i]/1000)\n",
    "        recoil = recoil+v4tmp\n",
    "        \n",
    "    if event.jet_n>0: \n",
    "        hptj1.Fill(event.jet_pt[0]/1000)\n",
    "        hptallj.Fill(recoil.Pt())\n",
    "        hmZ2.Fill(recoil.Pt())\n",
    "        if event.jet_n>1: hptj2.Fill(event.jet_pt[1]/1000)\n",
    "        hdphi.Fill(zcand.DeltaPhi(recoil))\n",
    "    \n",
    "    hptZ.Fill(zcand.Pt())\n",
    "    zquark = recoil + zlep\n",
    "    hmZ3.Fill(zquark.Pt())\n",
    "    \n",
    "    count=count+1\n",
    "    if count%nstatus==0: print(count)\n",
    "    if count>=maxevents: break\n",
    "        \n",
    "    \n",
    "\n",
    "c3=R.TCanvas()\n",
    "c3.Divide(2,2)\n",
    "#turn off statistics display\n",
    "R.gStyle.SetOptStat(0)\n",
    "\n",
    "c3.cd(1)\n",
    "hmZ1.Draw()\n",
    "c3.cd(2)\n",
    "hmZ2.Draw()\n",
    "c3.cd(3)\n",
    "hmZ3.Draw()\n",
    "#c3.cd(2).SetLogy()\n",
    "#hptallj.SetLineColor(R.kRed)\n",
    "#hptZ.Draw()\n",
    "#hptallj.Draw(\"same\")\n",
    "#c3.cd(3).SetLogy()\n",
    "#hptj1.Draw()\n",
    "#hptj2.SetLineStyle(2)\n",
    "#hptj2.Draw(\"same\")\n",
    "#c3.cd(4)\n",
    "#hdphi.Draw()\n",
    "c3.Draw()\n"
   ]
  },
  {
   "cell_type": "markdown",
   "metadata": {},
   "source": [
    "Findings: The differently generated bosons are of approximately the same energy for the same event. "
   ]
  }
 ],
 "metadata": {
  "kernelspec": {
   "display_name": "PPDxP Env",
   "language": "python",
   "name": "ppdwp"
  },
  "language_info": {
   "codemirror_mode": {
    "name": "ipython",
    "version": 3
   },
   "file_extension": ".py",
   "mimetype": "text/x-python",
   "name": "python",
   "nbconvert_exporter": "python",
   "pygments_lexer": "ipython3",
   "version": "3.8.5"
  }
 },
 "nbformat": 4,
 "nbformat_minor": 4
}
